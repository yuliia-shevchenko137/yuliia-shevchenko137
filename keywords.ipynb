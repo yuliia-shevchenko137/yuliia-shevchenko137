{
  "nbformat": 4,
  "nbformat_minor": 0,
  "metadata": {
    "colab": {
      "name": "keywords.ipynb",
      "provenance": [],
      "collapsed_sections": [],
      "include_colab_link": true
    },
    "kernelspec": {
      "name": "python3",
      "display_name": "Python 3"
    },
    "language_info": {
      "name": "python"
    }
  },
  "cells": [
    {
      "cell_type": "markdown",
      "metadata": {
        "id": "view-in-github",
        "colab_type": "text"
      },
      "source": [
        "<a href=\"https://colab.research.google.com/github/yuliia-shevchenko137/yuliia-shevchenko137/blob/main/keywords.ipynb\" target=\"_parent\"><img src=\"https://colab.research.google.com/assets/colab-badge.svg\" alt=\"Open In Colab\"/></a>"
      ]
    },
    {
      "cell_type": "code",
      "execution_count": 2,
      "metadata": {
        "colab": {
          "base_uri": "https://localhost:8080/"
        },
        "id": "-BxJULbdtBwU",
        "outputId": "b0e96fb2-0ddc-484f-f5b4-f49962bf21a9"
      },
      "outputs": [
        {
          "output_type": "stream",
          "name": "stdout",
          "text": [
            "Looking in indexes: https://pypi.org/simple, https://us-python.pkg.dev/colab-wheels/public/simple/\n",
            "Collecting corextopic\n",
            "  Downloading corextopic-1.1-py3-none-any.whl (27 kB)\n",
            "Installing collected packages: corextopic\n",
            "Successfully installed corextopic-1.1\n"
          ]
        }
      ],
      "source": [
        "pip install corextopic"
      ]
    },
    {
      "cell_type": "code",
      "source": [
        "import numpy as np\n",
        "import pandas as pd\n",
        "import scipy.sparse as ss\n",
        "import matplotlib.pyplot as plt\n",
        "\n",
        "import corextopic.corextopic as ct\n",
        "import corextopic.vis_topic as vt # jupyter notebooks will complain matplotlib is being loaded twice\n",
        "\n",
        "from sklearn.datasets import fetch_20newsgroups\n",
        "from sklearn.feature_extraction.text import CountVectorizer\n",
        "\n",
        "%matplotlib inline"
      ],
      "metadata": {
        "id": "ZFBJY0UjtuaN"
      },
      "execution_count": 3,
      "outputs": []
    },
    {
      "cell_type": "code",
      "source": [
        "import pandas as pd"
      ],
      "metadata": {
        "id": "76GNs_mH1SvQ"
      },
      "execution_count": null,
      "outputs": []
    },
    {
      "cell_type": "code",
      "source": [
        "bel_list = list(pd.read_csv('belarus.csv', usecols=[0], names=['bel']).bel)"
      ],
      "metadata": {
        "id": "jMGhqdORt1pO"
      },
      "execution_count": null,
      "outputs": []
    },
    {
      "cell_type": "code",
      "source": [
        "bel_list"
      ],
      "metadata": {
        "id": "-WvwxGn4umET"
      },
      "execution_count": null,
      "outputs": []
    },
    {
      "cell_type": "code",
      "source": [
        "# Transform 20 newsgroup data into a sparse matrix\n",
        "vectorizer = CountVectorizer(max_features=20000, binary=True)\n",
        "doc_word = vectorizer.fit_transform(bel_list)\n",
        "doc_word = ss.csr_matrix(doc_word)\n",
        "\n",
        "doc_word.shape # n_docs x m_words"
      ],
      "metadata": {
        "colab": {
          "base_uri": "https://localhost:8080/"
        },
        "id": "9UUHHky_txt7",
        "outputId": "f39fe42a-8308-46c3-d806-b5237139c940"
      },
      "execution_count": null,
      "outputs": [
        {
          "output_type": "execute_result",
          "data": {
            "text/plain": [
              "(988, 4209)"
            ]
          },
          "metadata": {},
          "execution_count": 5
        }
      ]
    },
    {
      "cell_type": "code",
      "source": [
        "# Get words that label the columns (needed to extract readable topics and make anchoring easier)\n",
        "words = list(np.asarray(vectorizer.get_feature_names()))"
      ],
      "metadata": {
        "colab": {
          "base_uri": "https://localhost:8080/"
        },
        "id": "wjwEbBWht5PL",
        "outputId": "6c06420f-4a6e-4bd2-d57c-196c57dcbdef"
      },
      "execution_count": null,
      "outputs": [
        {
          "output_type": "stream",
          "name": "stderr",
          "text": [
            "/usr/local/lib/python3.7/dist-packages/sklearn/utils/deprecation.py:87: FutureWarning: Function get_feature_names is deprecated; get_feature_names is deprecated in 1.0 and will be removed in 1.2. Please use get_feature_names_out instead.\n",
            "  warnings.warn(msg, category=FutureWarning)\n"
          ]
        }
      ]
    },
    {
      "cell_type": "code",
      "source": [
        "words"
      ],
      "metadata": {
        "id": "xMaP4fcZuuRq"
      },
      "execution_count": null,
      "outputs": []
    },
    {
      "cell_type": "code",
      "source": [
        "not_digit_inds = [ind for ind,word in enumerate(words) if not word.isdigit()]\n",
        "doc_word = doc_word[:,not_digit_inds]\n",
        "words    = [word for ind,word in enumerate(words) if not word.isdigit()]\n",
        "\n",
        "doc_word.shape # n_docs x m_words"
      ],
      "metadata": {
        "colab": {
          "base_uri": "https://localhost:8080/"
        },
        "id": "T-0mIMXyt5o8",
        "outputId": "2653997f-3998-4251-d12b-d8464f56b413"
      },
      "execution_count": null,
      "outputs": [
        {
          "output_type": "execute_result",
          "data": {
            "text/plain": [
              "(988, 4156)"
            ]
          },
          "metadata": {},
          "execution_count": 8
        }
      ]
    },
    {
      "cell_type": "code",
      "source": [
        "# Train the CorEx topic model with 50 topics\n",
        "topic_model = ct.Corex(n_hidden=10, words=words, max_iter=200, verbose=False, seed=1)\n",
        "topic_model.fit(doc_word, words=words);"
      ],
      "metadata": {
        "id": "1zI6vHYrt8Ca"
      },
      "execution_count": null,
      "outputs": []
    },
    {
      "cell_type": "code",
      "source": [
        "topic_model.get_topics(topic=1, n_words=10)"
      ],
      "metadata": {
        "colab": {
          "base_uri": "https://localhost:8080/"
        },
        "id": "6bFb9si0uFJg",
        "outputId": "c8e7ea7e-6f52-4042-f578-37392b1058dd"
      },
      "execution_count": null,
      "outputs": [
        {
          "output_type": "execute_result",
          "data": {
            "text/plain": [
              "[('другому', 0.07297897841235255, 1.0),\n",
              " ('оператору', 0.07231687367515822, 1.0),\n",
              " ('отсутствие', 0.02205116708761179, 1.0),\n",
              " ('вся', 0.020489493033539214, 1.0),\n",
              " ('безлимитище', 0.020489493033539214, 1.0),\n",
              " ('семья', 0.020489493033539214, 1.0),\n",
              " ('перевести', 0.0174596432317513, 1.0),\n",
              " ('кабинет', 0.014440107196223037, 1.0),\n",
              " ('через', 0.014246087091660252, 1.0),\n",
              " ('тоже', 0.013037887554187567, 1.0)]"
            ]
          },
          "metadata": {},
          "execution_count": 13
        }
      ]
    },
    {
      "cell_type": "code",
      "source": [
        "# Print all topics from the CorEx topic model\n",
        "topics = topic_model.get_topics()\n",
        "for n,topic in enumerate(topics):\n",
        "    topic_words,_,_ = zip(*topic)\n",
        "    print('{}: '.format(n) + ', '.join(topic_words))"
      ],
      "metadata": {
        "colab": {
          "base_uri": "https://localhost:8080/"
        },
        "id": "dm5AehvEuFn8",
        "outputId": "64750c9d-daf0-40a6-de11-6363d9a0a9c4"
      },
      "execution_count": null,
      "outputs": [
        {
          "output_type": "stream",
          "name": "stdout",
          "text": [
            "0: когда, по, churn_single_model, раньше, not_churn, был, эти, там, сим, смс\n",
            "1: другому, оператору, отсутствие, вся, безлимитище, семья, перевести, кабинет, через, тоже\n",
            "2: планы, тарифные, уровне, план, тарифный, ответы, вопросы, центре, колл, дают\n",
            "3: на, мтс, не, интернет, переходить, если, то, перейти, бы, номер\n",
            "4: ещё, предложили, тарифного, надеюсь, никаких, плана, тех, условиях, проблема, вообще\n",
            "5: так, как, же, будет, интернета, чтобы, минус, при, теперь, до\n",
            "6: другого, оператора, но, нет, из, мне, вас, ни, меня, для\n",
            "7: за, лет, уже, это, компании, вашей, услугами, много, услуги, другую\n",
            "8: что, деньги, или, вам, от, этого, оператор, безлимит, того, комфорт\n",
            "9: время, долгое, ожидание, ваши, ожидания, ближайшее, соединения, длительное, своим, выбор\n"
          ]
        }
      ]
    },
    {
      "cell_type": "code",
      "source": [
        "tfidf"
      ],
      "metadata": {
        "colab": {
          "base_uri": "https://localhost:8080/"
        },
        "id": "Yi9FwwyKyFsf",
        "outputId": "119f0aab-7d87-4132-bf33-0e3a0e689186"
      },
      "execution_count": null,
      "outputs": [
        {
          "output_type": "execute_result",
          "data": {
            "text/plain": [
              "<988x1000 sparse matrix of type '<class 'numpy.float64'>'\n",
              "\twith 11074 stored elements in Compressed Sparse Row format>"
            ]
          },
          "metadata": {},
          "execution_count": 19
        }
      ]
    },
    {
      "cell_type": "code",
      "source": [
        "from nltk import pos_tag, word_tokenize\n",
        "word_tokenize(\"John's big idea isn't all that bad.\")"
      ],
      "metadata": {
        "colab": {
          "base_uri": "https://localhost:8080/"
        },
        "id": "DFAJLhckBi8z",
        "outputId": "030cab4b-141f-48a4-ba2c-e22412f32080"
      },
      "execution_count": null,
      "outputs": [
        {
          "output_type": "execute_result",
          "data": {
            "text/plain": [
              "['John', \"'s\", 'big', 'idea', 'is', \"n't\", 'all', 'that', 'bad', '.']"
            ]
          },
          "metadata": {},
          "execution_count": 37
        }
      ]
    },
    {
      "cell_type": "code",
      "source": [
        "pos_tag(['car'])[0][1]"
      ],
      "metadata": {
        "colab": {
          "base_uri": "https://localhost:8080/",
          "height": 35
        },
        "id": "VsFaFuLJB4_N",
        "outputId": "413275cf-ea94-4486-9b6b-8518c25ea5d1"
      },
      "execution_count": null,
      "outputs": [
        {
          "output_type": "execute_result",
          "data": {
            "text/plain": [
              "'NN'"
            ],
            "application/vnd.google.colaboratory.intrinsic+json": {
              "type": "string"
            }
          },
          "metadata": {},
          "execution_count": 43
        }
      ]
    },
    {
      "cell_type": "code",
      "source": [
        "nltk.download(\"punkt\")\n",
        "nltk.download(\"averaged_perceptron_tagger_ru\")\n"
      ],
      "metadata": {
        "colab": {
          "base_uri": "https://localhost:8080/"
        },
        "id": "M1qWxr_KBu7w",
        "outputId": "f98eb6ce-7f76-4d4c-db1d-9f66203144ab"
      },
      "execution_count": null,
      "outputs": [
        {
          "output_type": "stream",
          "name": "stderr",
          "text": [
            "[nltk_data] Downloading package punkt to /root/nltk_data...\n",
            "[nltk_data]   Package punkt is already up-to-date!\n",
            "[nltk_data] Downloading package averaged_perceptron_tagger_ru to\n",
            "[nltk_data]     /root/nltk_data...\n",
            "[nltk_data]   Unzipping taggers/averaged_perceptron_tagger_ru.zip.\n"
          ]
        },
        {
          "output_type": "execute_result",
          "data": {
            "text/plain": [
              "True"
            ]
          },
          "metadata": {},
          "execution_count": 52
        }
      ]
    },
    {
      "cell_type": "code",
      "source": [
        "import nltk\n",
        "nltk.download(\"stopwords\")"
      ],
      "metadata": {
        "colab": {
          "base_uri": "https://localhost:8080/"
        },
        "id": "pGcK02o25OFP",
        "outputId": "3d2523a3-1fd5-498a-89c6-5d4e07750138"
      },
      "execution_count": null,
      "outputs": [
        {
          "output_type": "stream",
          "name": "stderr",
          "text": [
            "[nltk_data] Downloading package stopwords to /root/nltk_data...\n",
            "[nltk_data]   Unzipping corpora/stopwords.zip.\n"
          ]
        },
        {
          "output_type": "execute_result",
          "data": {
            "text/plain": [
              "True"
            ]
          },
          "metadata": {},
          "execution_count": 11
        }
      ]
    },
    {
      "cell_type": "code",
      "source": [
        "import nltk\n",
        "nltk.download(\"stopwords\")\n",
        "#--------#\n",
        "\n",
        "from nltk.corpus import stopwords\n",
        "from pymystem3 import Mystem\n",
        "from string import punctuation\n",
        "\n",
        "#Create lemmatizer and stopwords list\n",
        "mystem = Mystem() \n",
        "russian_stopwords = stopwords.words(\"russian\")\n",
        "\n",
        "#Preprocess function\n",
        "def preprocess_text(text):\n",
        "    #tokens = mystem.lemmatize(text.lower())\n",
        "    tokens = [token for token in word_tokenize(text) if token not in russian_stopwords\\\n",
        "              and token != \" \" \\\n",
        "              and pos_tag([token],  lang='rus')[0][1] == 'S' \\\n",
        "              and token.strip() not in punctuation]\n",
        "    \n",
        "    text = \" \".join(tokens)\n",
        "    \n",
        "    return text\n"
      ],
      "metadata": {
        "colab": {
          "base_uri": "https://localhost:8080/"
        },
        "id": "2VnXFcw-0OYs",
        "outputId": "b15082ad-2899-40ab-cdab-7f6399babe51"
      },
      "execution_count": null,
      "outputs": [
        {
          "output_type": "stream",
          "name": "stderr",
          "text": [
            "[nltk_data] Downloading package stopwords to /root/nltk_data...\n",
            "[nltk_data]   Package stopwords is already up-to-date!\n"
          ]
        }
      ]
    },
    {
      "cell_type": "code",
      "source": [
        "bel_list = [preprocess_text(i) for i in bel_list]"
      ],
      "metadata": {
        "id": "7YtGoaOL0Ysf"
      },
      "execution_count": null,
      "outputs": []
    },
    {
      "cell_type": "code",
      "source": [
        "bel_list[0]"
      ],
      "metadata": {
        "colab": {
          "base_uri": "https://localhost:8080/",
          "height": 35
        },
        "id": "mJ1A9cdk3m_q",
        "outputId": "3fe53c84-f7e3-4253-a9e0-da035c34f5d7"
      },
      "execution_count": null,
      "outputs": [
        {
          "output_type": "execute_result",
          "data": {
            "text/plain": [
              "'лет компанией Сотрудники надежда предложение подробности предложения А1 компания рынке связи услугами связи интернета телевидения'"
            ],
            "application/vnd.google.colaboratory.intrinsic+json": {
              "type": "string"
            }
          },
          "metadata": {},
          "execution_count": 54
        }
      ]
    },
    {
      "cell_type": "code",
      "source": [
        "from sklearn.feature_extraction.text import TfidfVectorizer, CountVectorizer\n",
        "from sklearn.decomposition import NMF, LatentDirichletAllocation\n",
        "\n",
        "def display_topics(model, feature_names, no_top_words):\n",
        "    for topic_idx, topic in enumerate(model.components_):\n",
        "        print(\"Topic %d:\" % (topic_idx))\n",
        "        print(\" \".join([feature_names[i] for i in topic.argsort()[:-no_top_words - 1:-1]]))\n",
        "\n",
        "no_features = 1000\n",
        "\n",
        "# NMF is able to use tf-idf\n",
        "tfidf_vectorizer = TfidfVectorizer(max_df=0.95, min_df=2, max_features=no_features, )\n",
        "tfidf = tfidf_vectorizer.fit_transform(bel_list)\n",
        "tfidf_feature_names = tfidf_vectorizer.get_feature_names()\n",
        "\n",
        "# LDA can only use raw term counts for LDA because it is a probabilistic graphical model\n",
        "tf_vectorizer = CountVectorizer(max_df=0.95, min_df=2, max_features=no_features, stop_words='english')\n",
        "tf = tf_vectorizer.fit_transform(bel_list)\n",
        "tf_feature_names = tf_vectorizer.get_feature_names()\n",
        "\n",
        "no_topics = 7\n",
        "\n",
        "# Run NMF\n",
        "nmf = NMF(n_components=no_topics, random_state=1, alpha=.1, l1_ratio=.5, init='nndsvd').fit(tfidf)\n",
        "\n",
        "# Run LDA\n",
        "lda = LatentDirichletAllocation(n_components=no_topics, max_iter=5, learning_method='online', learning_offset=50.,random_state=0).fit(tf)\n",
        "\n",
        "no_top_words = 10\n",
        "display_topics(nmf, tfidf_feature_names, no_top_words)\n",
        "print(\"______________\")\n",
        "display_topics(lda, tf_feature_names, no_top_words)\n"
      ],
      "metadata": {
        "colab": {
          "base_uri": "https://localhost:8080/"
        },
        "id": "hRVZH3W8u6Qk",
        "outputId": "a9c1e9ce-1b63-42fe-e23b-cdf24ad074a9"
      },
      "execution_count": null,
      "outputs": [
        {
          "output_type": "stream",
          "name": "stderr",
          "text": [
            "/usr/local/lib/python3.7/dist-packages/sklearn/utils/deprecation.py:87: FutureWarning: Function get_feature_names is deprecated; get_feature_names is deprecated in 1.0 and will be removed in 1.2. Please use get_feature_names_out instead.\n",
            "  warnings.warn(msg, category=FutureWarning)\n",
            "/usr/local/lib/python3.7/dist-packages/sklearn/decomposition/_nmf.py:1425: FutureWarning: `alpha` was deprecated in version 1.0 and will be removed in 1.2. Use `alpha_W` and `alpha_H` instead\n",
            "  FutureWarning,\n",
            "/usr/local/lib/python3.7/dist-packages/sklearn/decomposition/_nmf.py:1641: ConvergenceWarning: Maximum number of iterations 200 reached. Increase it to improve convergence.\n",
            "  ConvergenceWarning,\n"
          ]
        },
        {
          "output_type": "stream",
          "name": "stdout",
          "text": [
            "Topic 0:\n",
            "мтс тариф условия номер месяц плата друзья интернета время лет\n",
            "Topic 1:\n",
            "связь а1 лет тарифы операторы лайф велком возможности консультанты городом\n",
            "Topic 2:\n",
            "обслуживание уровне клиентов консультация выбор цены удачи условия номера план\n",
            "Topic 3:\n",
            "качество связи обслуживания услуг сотрудники интернета покрытие скорость а1 оператором\n",
            "Topic 4:\n",
            "интернет комфорт лайф звонки деньги трафик сеть сети оператору компанию\n",
            "Topic 5:\n",
            "тарифы оператора ответа ответ время минут ожидания ожидание интернета переход\n",
            "Topic 6:\n",
            "оператор вопросы сотрудники вопрос ответы информацию деньги велком услуга рекомендации\n",
            "______________\n",
            "Topic 0:\n",
            "интернет связь тарифы мтс а1 оператору оператора оператор сети лайф\n",
            "Topic 1:\n",
            "оператора ответа минут время ожидание ожидания оператором номер соединения мин\n",
            "Topic 2:\n",
            "обслуживание вопросы уровне ответы план выбор консультация клиентов работу вежливость\n",
            "Topic 3:\n",
            "процветания удачи работники атмосфера услуги обслуживании позиции высоте пользователь ассортимент\n",
            "Topic 4:\n",
            "ответ компанию оценка ошибки обращение работа компании случае родственники интернета\n",
            "Topic 5:\n",
            "мтс связи качество лет время связь интернета велком услуг тариф\n",
            "Topic 6:\n",
            "оператор информацию услуг вопрос общение консультант информация средств вопросов помощь\n"
          ]
        }
      ]
    },
    {
      "cell_type": "markdown",
      "source": [
        "# YAKE!"
      ],
      "metadata": {
        "id": "ENjefGFJmqqB"
      }
    },
    {
      "cell_type": "code",
      "source": [
        "pip install yake"
      ],
      "metadata": {
        "colab": {
          "base_uri": "https://localhost:8080/"
        },
        "id": "J-YQEBoU1LHa",
        "outputId": "be4e8d82-3e17-4f83-aa85-293ae4c34464"
      },
      "execution_count": null,
      "outputs": [
        {
          "output_type": "stream",
          "name": "stdout",
          "text": [
            "Looking in indexes: https://pypi.org/simple, https://us-python.pkg.dev/colab-wheels/public/simple/\n",
            "Collecting yake\n",
            "  Downloading yake-0.4.8-py2.py3-none-any.whl (60 kB)\n",
            "\u001b[K     |████████████████████████████████| 60 kB 4.5 MB/s \n",
            "\u001b[?25hRequirement already satisfied: networkx in /usr/local/lib/python3.7/dist-packages (from yake) (2.6.3)\n",
            "Collecting jellyfish\n",
            "  Downloading jellyfish-0.9.0.tar.gz (132 kB)\n",
            "\u001b[K     |████████████████████████████████| 132 kB 20.4 MB/s \n",
            "\u001b[?25hCollecting segtok\n",
            "  Downloading segtok-1.5.11-py3-none-any.whl (24 kB)\n",
            "Requirement already satisfied: click>=6.0 in /usr/local/lib/python3.7/dist-packages (from yake) (7.1.2)\n",
            "Requirement already satisfied: numpy in /usr/local/lib/python3.7/dist-packages (from yake) (1.21.6)\n",
            "Requirement already satisfied: tabulate in /usr/local/lib/python3.7/dist-packages (from yake) (0.8.9)\n",
            "Requirement already satisfied: regex in /usr/local/lib/python3.7/dist-packages (from segtok->yake) (2022.6.2)\n",
            "Building wheels for collected packages: jellyfish\n",
            "  Building wheel for jellyfish (setup.py) ... \u001b[?25l\u001b[?25hdone\n",
            "  Created wheel for jellyfish: filename=jellyfish-0.9.0-cp37-cp37m-linux_x86_64.whl size=73984 sha256=8ba5a39c236d4f06923f8c271dab5f6d8bfb838f9ee6c3dccf6f1c082197593e\n",
            "  Stored in directory: /root/.cache/pip/wheels/fe/99/4e/646ce766df0d070b0ef04db27aa11543e2767fda3075aec31b\n",
            "Successfully built jellyfish\n",
            "Installing collected packages: segtok, jellyfish, yake\n",
            "Successfully installed jellyfish-0.9.0 segtok-1.5.11 yake-0.4.8\n"
          ]
        }
      ]
    },
    {
      "cell_type": "code",
      "source": [
        "\n",
        "import yake\n",
        "kw_extractor = yake.KeywordExtractor()\n",
        "text = \" \".join(bel_list)\n",
        "language = \"ru\"\n",
        "max_ngram_size = 1\n",
        "deduplication_threshold = 0.4\n",
        "numOfKeywords = 30\n",
        "custom_kw_extractor = yake.KeywordExtractor(lan=language, n=max_ngram_size, dedupLim=deduplication_threshold, top=numOfKeywords, features=None)\n",
        "keywords = custom_kw_extractor.extract_keywords(text)\n",
        "for kw in keywords:\n",
        "  print(kw)"
      ],
      "metadata": {
        "id": "JlCTEMHAwR1S",
        "colab": {
          "base_uri": "https://localhost:8080/"
        },
        "outputId": "565ecc8c-2e32-4094-a7dd-4b721dd05e52"
      },
      "execution_count": null,
      "outputs": [
        {
          "output_type": "stream",
          "name": "stdout",
          "text": [
            "('МТС', 0.0004231757946718164)\n",
            "('интернет', 0.0012179799999456366)\n",
            "('велком', 0.0016079027229189708)\n",
            "('связь', 0.0017072578163059501)\n",
            "('оператора', 0.0020424256190803534)\n",
            "('качество', 0.0028920514759531155)\n",
            "('тарифы', 0.0029269965255613226)\n",
            "('обслуживание', 0.003210693014711789)\n",
            "('быстро', 0.003964456488929722)\n",
            "('переходить', 0.005654527676357303)\n",
            "('пользуюсь', 0.006768781980998257)\n",
            "('хорошая', 0.007179400431087089)\n",
            "('минут', 0.007778696556885282)\n",
            "('услуг', 0.008595372609628503)\n",
            "('Вашей', 0.00916773493745987)\n",
            "('другому', 0.009426368671524537)\n",
            "('лайф', 0.009998634278468038)\n",
            "('вопросы', 0.010835299658029575)\n",
            "('ответ', 0.011033636310816188)\n",
            "('сети', 0.012040047931423747)\n",
            "('устраивает', 0.012087273235095595)\n",
            "('деньги', 0.012955846745847465)\n",
            "('вежливый', 0.013204461006900804)\n",
            "('нравится', 0.013324535141791934)\n",
            "('цены', 0.014334765263048974)\n",
            "('месяц', 0.014595089662720575)\n",
            "('номер', 0.015096786442482548)\n",
            "('удобно', 0.01542775716419964)\n",
            "('понятно', 0.017111585656948737)\n",
            "('Думаю', 0.01772521531282022)\n"
          ]
        }
      ]
    },
    {
      "cell_type": "code",
      "source": [
        "import os\n",
        "dir_path = os.path.dirname(os.path.realpath('__file__'))\n",
        "\n",
        "local_path = os.path.join(\"StopwordsList\", \"stopwords_%s.txt\" % 'ru'[:2].lower())\n",
        "\n",
        "\n",
        "resource_path = os.path.join(dir_path,local_path)\n",
        "\n",
        "with open(resource_path, encoding='utf-8') as stop_fil:\n",
        "  stopword_set = set( stop_fil.read().lower().split(\"\\n\") )"
      ],
      "metadata": {
        "id": "XWnbzD6Z_yZ5"
      },
      "execution_count": null,
      "outputs": []
    },
    {
      "cell_type": "code",
      "source": [
        "stopword_set"
      ],
      "metadata": {
        "id": "uzZdfsvlAk8_"
      },
      "execution_count": null,
      "outputs": []
    },
    {
      "cell_type": "code",
      "source": [
        "\n",
        "text = \" \".join(bel_list).lower()\n",
        "language = \"ru\"\n",
        "max_ngram_size = 2\n",
        "deduplication_algo = 'jaro'\n",
        "deduplication_threshold = 0.8\n",
        "numOfKeywords = 20\n",
        "custom_kw_extractor = yake.KeywordExtractor(lan=language, n=max_ngram_size, \n",
        "                                            dedupLim=deduplication_threshold, dedupFunc='jaro',\n",
        "                                            top=numOfKeywords, features=[\"WRel\", \"WFreq\", \"WPos\",\"KPF\"],\n",
        "                                            windowsSize=5, stopwords=stopword_set)\n",
        "keywords = custom_kw_extractor.extract_keywords(text)\n",
        "for kw in keywords:\n",
        "  print(kw)"
      ],
      "metadata": {
        "colab": {
          "base_uri": "https://localhost:8080/"
        },
        "id": "Pag0vjJqVyL9",
        "outputId": "4edd5cbb-dd10-40b7-e146-c17907de5f1d"
      },
      "execution_count": null,
      "outputs": [
        {
          "output_type": "stream",
          "name": "stdout",
          "text": [
            "('мтс', 0.0008997600827391973)\n",
            "('качество связи', 0.0012609653665633213)\n",
            "('интернет', 0.0013194107307956074)\n",
            "('связь', 0.0017622073516084305)\n",
            "('оператора', 0.0021535801571730033)\n",
            "('другого оператора', 0.002758077074091784)\n",
            "('тарифы', 0.0030385069095667182)\n",
            "('велком', 0.0030976213224561326)\n",
            "('обслуживание', 0.003449968116778394)\n",
            "('хорошая связь', 0.003925081631467195)\n",
            "('безлимитный интернет', 0.004896781925725143)\n",
            "('быстро', 0.0055331981887819836)\n",
            "('переходить', 0.005917454710525366)\n",
            "('ответа оператора', 0.006413504365985597)\n",
            "('минут', 0.00756996948668519)\n",
            "('пользуюсь', 0.007836055481782367)\n",
            "('хорошее обслуживание', 0.007913104195268476)\n",
            "('услуг', 0.008588369859214361)\n",
            "('другому', 0.010150690237325783)\n",
            "('вопрос', 0.011448559125042198)\n"
          ]
        }
      ]
    },
    {
      "cell_type": "code",
      "source": [
        "\n",
        "text = \" \".join(bel_list).lower()\n",
        "language = \"ru\"\n",
        "max_ngram_size = 2\n",
        "deduplication_algo = 'jaro'\n",
        "deduplication_threshold = 0.4\n",
        "numOfKeywords = 20\n",
        "custom_kw_extractor = yake.KeywordExtractor(lan=language, n=max_ngram_size, \n",
        "                                            dedupLim=deduplication_threshold, \n",
        "                                            top=numOfKeywords, #features=[\"WRel\", \"WFreq\", \"WPos\",\"KPF\"],\n",
        "                                            windowsSize=5)\n",
        "keywords = custom_kw_extractor.extract_keywords(text)\n",
        "for kw in keywords:\n",
        "  print(kw)"
      ],
      "metadata": {
        "colab": {
          "base_uri": "https://localhost:8080/"
        },
        "id": "CX4ogGsnF4jr",
        "outputId": "9402b705-39a0-4553-e3c7-1751c0568fba"
      },
      "execution_count": null,
      "outputs": [
        {
          "output_type": "stream",
          "name": "stdout",
          "text": [
            "('мтс', 0.0008949212295442503)\n",
            "('качество связи', 0.0012486526315953262)\n",
            "('интернет', 0.0013125567333926913)\n",
            "('связь', 0.001753682612805139)\n",
            "('оператора', 0.0021418880723940758)\n",
            "('тарифы', 0.003023181100309279)\n",
            "('велком', 0.0030820850780121285)\n",
            "('обслуживание', 0.0034359305652211253)\n",
            "('хорошая связь', 0.0038927680903168603)\n",
            "('безлимитный интернет', 0.004849841367837688)\n",
            "('быстро', 0.005512764793800913)\n",
            "('переходить', 0.005888699134460813)\n",
            "('минут', 0.0075329968220186816)\n",
            "('пользуюсь', 0.007802044897155099)\n",
            "('услуг', 0.008549976623863451)\n",
            "('другому', 0.010103599921593966)\n",
            "('ответ', 0.01139350818662601)\n",
            "('вопрос', 0.011400360719090194)\n",
            "('сети', 0.011989971586537055)\n",
            "('лайф', 0.012756642221746906)\n"
          ]
        }
      ]
    },
    {
      "cell_type": "code",
      "source": [
        "\n",
        "text = \" \".join(bel_list).lower()\n",
        "language = \"ru\"\n",
        "max_ngram_size = 2\n",
        "deduplication_algo = 'jaro'\n",
        "deduplication_threshold = 0.4\n",
        "numOfKeywords = 20\n",
        "custom_kw_extractor = yake.KeywordExtractor(lan=language, n=max_ngram_size, \n",
        "                                            dedupLim=deduplication_threshold, \n",
        "                                            top=numOfKeywords, #features=[\"WRel\", \"WFreq\", \"WPos\",\"KPF\"],\n",
        "                                            windowsSize=5)\n",
        "keywords = custom_kw_extractor.extract_keywords(text)\n",
        "for kw in keywords:\n",
        "  print(kw)"
      ],
      "metadata": {
        "colab": {
          "base_uri": "https://localhost:8080/"
        },
        "id": "xEpG1YTw-32e",
        "outputId": "b035ea2a-68db-46f0-86f0-4a8f2a5db76f"
      },
      "execution_count": null,
      "outputs": [
        {
          "output_type": "stream",
          "name": "stdout",
          "text": [
            "('мтс', 0.0008997600827391973)\n",
            "('качество связи', 0.0012609653665633213)\n",
            "('интернет', 0.0013194107307956074)\n",
            "('связь', 0.0017622073516084305)\n",
            "('оператора', 0.0021535801571730033)\n",
            "('тарифы', 0.0030385069095667182)\n",
            "('велком', 0.0030976213224561326)\n",
            "('обслуживание', 0.003449968116778394)\n",
            "('хорошая связь', 0.003925081631467195)\n",
            "('безлимитный интернет', 0.004896781925725143)\n",
            "('быстро', 0.0055331981887819836)\n",
            "('переходить', 0.005917454710525366)\n",
            "('минут', 0.00756996948668519)\n",
            "('пользуюсь', 0.007836055481782367)\n",
            "('услуг', 0.008588369859214361)\n",
            "('другому', 0.010150690237325783)\n",
            "('ответ', 0.011444898415919781)\n",
            "('вопрос', 0.011448559125042198)\n",
            "('сети', 0.012040004025872202)\n",
            "('лайф', 0.012808817330781846)\n"
          ]
        }
      ]
    },
    {
      "cell_type": "code",
      "source": [
        "it_list = list(pd.read_csv('/content/it_no_punc.csv', usecols=[0], names=['it']).it)\n",
        "text = \" \".join(it_list)\n",
        "language = \"it\"\n",
        "max_ngram_size = 2\n",
        "deduplication_algo = 'jaro'\n",
        "deduplication_threshold = 0.4\n",
        "numOfKeywords = 20\n",
        "custom_kw_extractor = yake.KeywordExtractor(lan=language, n=max_ngram_size, \n",
        "                                            dedupLim=deduplication_threshold, \n",
        "                                            top=numOfKeywords, #features=[\"WRel\", \"WFreq\", \"WPos\",\"KPF\"],\n",
        "                                            windowsSize=5)\n",
        "keywords = custom_kw_extractor.extract_keywords(text)\n",
        "for kw in keywords:\n",
        "  print(kw)"
      ],
      "metadata": {
        "colab": {
          "base_uri": "https://localhost:8080/"
        },
        "id": "JkdeS491I7_Y",
        "outputId": "9da0a7b6-6865-4099-fd30-34933133b62c"
      },
      "execution_count": null,
      "outputs": [
        {
          "output_type": "stream",
          "name": "stdout",
          "text": [
            "('sicurezza', 2.517761563463938e-05)\n",
            "('ottimo servizio', 7.861474028884633e-05)\n",
            "('servizio clienti', 8.445511356091763e-05)\n",
            "('nessun problema', 8.997724700066074e-05)\n",
            "('carta', 9.482373899769532e-05)\n",
            "('facile', 0.00010531316396219786)\n",
            "('Nexi', 0.00017100134427836712)\n",
            "('facile utilizzo', 0.00022239415269670535)\n",
            "('APP', 0.00025302581117373987)\n",
            "('nessun', 0.0003253159269466443)\n",
            "('sito', 0.00035779302323700896)\n",
            "('ottimo', 0.0003809854939759937)\n",
            "('spese', 0.00040048930017975423)\n",
            "('pos', 0.0004032650448820267)\n",
            "('assistenza', 0.0005580065018137171)\n",
            "('banca', 0.0007009898799221393)\n",
            "('costi', 0.0007250986182747074)\n",
            "('call center', 0.0009026818213293739)\n",
            "('riesco', 0.0009225419137158242)\n",
            "('pagamenti', 0.0010092594342537124)\n"
          ]
        }
      ]
    },
    {
      "cell_type": "code",
      "source": [
        "list([kw[0] for kw in keywords])"
      ],
      "metadata": {
        "colab": {
          "base_uri": "https://localhost:8080/"
        },
        "id": "fAegJvXXNdnG",
        "outputId": "24cbc731-4a57-479d-9207-3ff615958e59"
      },
      "execution_count": null,
      "outputs": [
        {
          "output_type": "execute_result",
          "data": {
            "text/plain": [
              "['sicurezza',\n",
              " 'ottimo servizio',\n",
              " 'servizio clienti',\n",
              " 'nessun problema',\n",
              " 'carta',\n",
              " 'facile',\n",
              " 'Nexi',\n",
              " 'facile utilizzo',\n",
              " 'APP',\n",
              " 'nessun',\n",
              " 'sito',\n",
              " 'ottimo',\n",
              " 'spese',\n",
              " 'pos',\n",
              " 'assistenza',\n",
              " 'banca',\n",
              " 'costi',\n",
              " 'call center',\n",
              " 'riesco',\n",
              " 'pagamenti']"
            ]
          },
          "metadata": {},
          "execution_count": 39
        }
      ]
    },
    {
      "cell_type": "code",
      "source": [
        "lhg_list = list(pd.read_csv('/content/LHG_unprocessed (1).csv', usecols=[0], names=['lhg']).lhg)"
      ],
      "metadata": {
        "id": "tNsCj2pa2I0P"
      },
      "execution_count": null,
      "outputs": []
    },
    {
      "cell_type": "code",
      "source": [
        "text = \" \".join(lhg_list)\n",
        "language = \"en\"\n",
        "max_ngram_size = 1\n",
        "deduplication_algo = 'jaro'\n",
        "deduplication_threshold = 0.9\n",
        "numOfKeywords = 15\n",
        "custom_kw_extractor = yake.KeywordExtractor(lan=language, n=max_ngram_size, \n",
        "                                            dedupLim=deduplication_threshold, \n",
        "                                            \n",
        "                                            top=numOfKeywords, features=None, windowsSize=10)\n",
        "keywords = custom_kw_extractor.extract_keywords(text)\n",
        "for kw in keywords:\n",
        "  print(kw)"
      ],
      "metadata": {
        "colab": {
          "base_uri": "https://localhost:8080/"
        },
        "id": "iREWFwVA1tWi",
        "outputId": "c2bd1236-a3d7-48cb-d282-4b1e48ad7e13"
      },
      "execution_count": null,
      "outputs": [
        {
          "output_type": "stream",
          "name": "stdout",
          "text": [
            "('airport', 0.00012460612986349046)\n",
            "('lounge', 0.0001624386830716363)\n",
            "('Lufthansa', 0.00032172712156714405)\n",
            "('lounges', 0.0009404344809410524)\n",
            "('Lufthansas', 0.0009973540768581468)\n",
            "('check', 0.0011358792480629138)\n",
            "('terminal', 0.0012242528235854198)\n",
            "('boarding', 0.0013480365880011354)\n",
            "('bags', 0.0014110554212595626)\n",
            "('flight', 0.001412112270011924)\n",
            "('airports', 0.0014225866492748496)\n",
            "('check-in', 0.001688825131874932)\n",
            "('time', 0.001852514893736633)\n",
            "('security', 0.001856124726306618)\n",
            "('bag', 0.001901211514960253)\n"
          ]
        }
      ]
    },
    {
      "cell_type": "code",
      "source": [
        "text = \" \".join(lhg_list)\n",
        "language = \"en\"\n",
        "max_ngram_size = 2\n",
        "deduplication_algo = 'jaro'\n",
        "deduplication_threshold = 0.45\n",
        "numOfKeywords = 20\n",
        "custom_kw_extractor = yake.KeywordExtractor(lan=language, n=max_ngram_size, \n",
        "                                            dedupLim=deduplication_threshold, \n",
        "                                            top=numOfKeywords, features=[\"WRel\", \"WFreq\",\"WSpread\", \"WPos\",\"KPF\"],\n",
        "                                            windowsSize=1)\n",
        "keywords = custom_kw_extractor.extract_keywords(text)\n",
        "for kw in keywords:\n",
        "  print(kw)"
      ],
      "metadata": {
        "colab": {
          "base_uri": "https://localhost:8080/"
        },
        "id": "4kG0vwRrVEp6",
        "outputId": "eb62de44-db3a-40e6-bd17-e42efee559a0"
      },
      "execution_count": null,
      "outputs": [
        {
          "output_type": "stream",
          "name": "stdout",
          "text": [
            "('airport', 0.000179796108538962)\n",
            "('lounge', 0.00023222995864914434)\n",
            "('check', 0.0012150204172653605)\n",
            "('Lufthansa', 0.0013026714723715772)\n",
            "('customer service', 0.0013298153407195912)\n",
            "('bags', 0.001454970907186185)\n",
            "('boarding', 0.0014969090406193055)\n",
            "('flight', 0.0015010792388149897)\n",
            "('time', 0.001865224200065368)\n",
            "('security', 0.0019596873617177763)\n",
            "('luggage', 0.002014929059142515)\n",
            "('terminal', 0.002016537066167246)\n",
            "('service', 0.0024748457555406863)\n",
            "('arrived', 0.002525706253102061)\n",
            "('online check-in', 0.0037737571207540205)\n",
            "('gate', 0.0037952575814987843)\n",
            "('online', 0.003898275881181252)\n",
            "('staff', 0.00417854510403737)\n",
            "('business lounge', 0.004251972226183939)\n",
            "('food', 0.004904114496635619)\n"
          ]
        }
      ]
    },
    {
      "cell_type": "code",
      "source": [
        "text = \" \".join(lhg_list)\n",
        "language = \"en\"\n",
        "max_ngram_size = 2\n",
        "deduplication_algo = 'jaro'\n",
        "deduplication_threshold = 0.45\n",
        "numOfKeywords = 20\n",
        "custom_kw_extractor = yake.KeywordExtractor(lan=language, n=max_ngram_size, \n",
        "                                            dedupLim=deduplication_threshold, \n",
        "                                            top=numOfKeywords, features=[\"WRel\", \"WFreq\",\"WSpread\", \"WCase\", \"WPos\",\"KPF\"],\n",
        "                                            windowsSize=1)\n",
        "keywords = custom_kw_extractor.extract_keywords(text)\n",
        "for kw in keywords:\n",
        "  print(kw)"
      ],
      "metadata": {
        "colab": {
          "base_uri": "https://localhost:8080/"
        },
        "id": "ofsOLwwIcf_g",
        "outputId": "ed037174-852a-434e-eb68-74e9464bf2fc"
      },
      "execution_count": null,
      "outputs": [
        {
          "output_type": "stream",
          "name": "stdout",
          "text": [
            "('airport', 0.00013566606066446897)\n",
            "('lounge', 0.00016592188729439917)\n",
            "('Lufthansa lounge', 0.0003109858043879286)\n",
            "('check', 0.001104195722885554)\n",
            "('Frankfurt airport', 0.0011679223564490635)\n",
            "('customer service', 0.001194260500042179)\n",
            "('terminal', 0.0012388821158954718)\n",
            "('boarding', 0.001365851123177384)\n",
            "('bags', 0.0014348114383042226)\n",
            "('flight', 0.0014525074726090405)\n",
            "('Business Class', 0.0017233667429624852)\n",
            "('time', 0.001865224200065368)\n",
            "('security', 0.001875869251776261)\n",
            "('Air France', 0.001889968699285463)\n",
            "('luggage', 0.0019708364020430288)\n",
            "('arrived', 0.0022318373837835596)\n",
            "('service', 0.002312015864729628)\n",
            "('Air', 0.002575771353808585)\n",
            "('Class', 0.003061978645606653)\n",
            "('online check-in', 0.0032267580583843613)\n"
          ]
        }
      ]
    },
    {
      "cell_type": "code",
      "source": [
        "pip install rake_nltk"
      ],
      "metadata": {
        "colab": {
          "base_uri": "https://localhost:8080/"
        },
        "id": "WB_hH1HY4TDJ",
        "outputId": "aa698b48-a62a-44cd-83e3-89be6592b604"
      },
      "execution_count": null,
      "outputs": [
        {
          "output_type": "stream",
          "name": "stdout",
          "text": [
            "Looking in indexes: https://pypi.org/simple, https://us-python.pkg.dev/colab-wheels/public/simple/\n",
            "Collecting rake_nltk\n",
            "  Downloading rake_nltk-1.0.6-py3-none-any.whl (9.1 kB)\n",
            "Requirement already satisfied: nltk<4.0.0,>=3.6.2 in /usr/local/lib/python3.7/dist-packages (from rake_nltk) (3.7)\n",
            "Requirement already satisfied: click in /usr/local/lib/python3.7/dist-packages (from nltk<4.0.0,>=3.6.2->rake_nltk) (7.1.2)\n",
            "Requirement already satisfied: regex>=2021.8.3 in /usr/local/lib/python3.7/dist-packages (from nltk<4.0.0,>=3.6.2->rake_nltk) (2022.6.2)\n",
            "Requirement already satisfied: tqdm in /usr/local/lib/python3.7/dist-packages (from nltk<4.0.0,>=3.6.2->rake_nltk) (4.64.0)\n",
            "Requirement already satisfied: joblib in /usr/local/lib/python3.7/dist-packages (from nltk<4.0.0,>=3.6.2->rake_nltk) (1.1.0)\n",
            "Installing collected packages: rake-nltk\n",
            "Successfully installed rake-nltk-1.0.6\n"
          ]
        }
      ]
    },
    {
      "cell_type": "code",
      "source": [
        "nltk.download('punkt')"
      ],
      "metadata": {
        "colab": {
          "base_uri": "https://localhost:8080/"
        },
        "id": "rFNdVaCt5S9N",
        "outputId": "e87414a7-3c4a-4349-d8b5-09250c19120c"
      },
      "execution_count": null,
      "outputs": [
        {
          "output_type": "stream",
          "name": "stderr",
          "text": [
            "[nltk_data] Downloading package punkt to /root/nltk_data...\n",
            "[nltk_data]   Unzipping tokenizers/punkt.zip.\n"
          ]
        },
        {
          "output_type": "execute_result",
          "data": {
            "text/plain": [
              "True"
            ]
          },
          "metadata": {},
          "execution_count": 13
        }
      ]
    },
    {
      "cell_type": "code",
      "source": [
        "from rake_nltk import Rake\n",
        "rake_nltk_var = Rake()\n",
        "\n",
        "rake_nltk_var.extract_keywords_from_text(text)\n",
        "keyword_extracted = rake_nltk_var.get_ranked_phrases()\n",
        "print(keyword_extracted)\n"
      ],
      "metadata": {
        "colab": {
          "base_uri": "https://localhost:8080/"
        },
        "id": "xYWwGdti2TOK",
        "outputId": "b5b1952f-03ad-4785-aba3-1e9107b68101"
      },
      "execution_count": null,
      "outputs": [
        {
          "output_type": "stream",
          "name": "stdout",
          "text": [
            "['unrefrigerated ‚ äö √ ñ √∫ iced ‚ äö √ ñ √ π tea', 'security check meaning leaving ‚ äö √ ñ √≤ airside ‚ äö √ ñ √¥', 'always ‚ äö √ ñ √≤ surprised ‚ äö √ ñ √¥', 'appalling poor customer service massive queues poor signs limited seating rude security staff long queues everywhere', 'air france ‚ äö √ ñ √¥', 'mcdonalds wendys subway taco maker 5 cafeterias ... also', 'earlier problems poor air conditioning gloomy corridor like interior dreadful toilets', 'disabled ‚ äö √ ñ √¨', 'make sense terrible rental car airport_general unhappy staff poor customer service attitude', 'cramped poor food selection beyond carrot sticks tomatoes soup', 'gem ‚ àö ¬∫ tlich customer service', 'coffee tea bottled drinks alcoholic drinks greek wine', 'could use like united airlines lounge air canada maple leaf lufthansa senators lounge', 'tickets carpeted floor free wifi internet expensive gift shops', 'food sandwiches yogurt cheese cheese pie fruits', 'asian tigers singapore hong kong seoul etc', 'london boarding card issued till cairo citing systems issues', 'terminal oppressive security staff everywhere whose rationale', 'quaint privately owned airports like koh samui', 'asian airlines eg cathay thai ana etc', 'tickets 6 months earlier yet cx arbitrarily changed', 'got america den -- iah gorn allury', 'air canada elites usually works well unless', 'uncomfortable ever experienced among many business lounges around', 'jet2 3 desks open even though 150 minutes', 'stale sandwiches good mini cheese cakes', 'vietnam airline also refused skyteam elite plus member', 'also star alliance partners south african lufthansa', 'way around cog terminal 2e gate l', 'small airlines air berlintui fly etc ...', 'worst uk airport horrendous queues rude staff complete lack', 'extremely disorganized bag scales broke midway', 'terminal 1 lufthansa turkish austrian air france etc', 'los angeles etc lufthansas lounge bags ard', 'mobile phones making phone calls etc none', 'cathay pacific standard lounge overall speaking', 'canap ‚ àö ¬©', 'rude security staff zero customer service', 'deparled belt taspers ole midus', 'parked somewhere within 10 minutes bus ride', 'pain firstly sg allows 2 bags', 'privilege club gold members may use', 'people several travellers deep ... trying', 'seating food selection terrible angry personnel', 'small poor food poor seating tiny', 'poor business class lounge used bylh', 'disturbance drilling machines hammers etc', 'seats near gate better airport service faster security', 'another new air china domestic lounge located', 'staff generally miserable customer service poor', 'designer clothing shoes bags cosmetics etc', 'like playing lovely classical music', '‚ äö', '40min delay aeropuerto de valencia', 'star alliance partner business class passengers', 'changing planes dubai airport businessclass lounge', 'speedy priority boarding jackets collected', 'six flight oun flightss toppened', 'airport staff cruising around making sure', 'poor airport ops status quo', 'large departure hall plentiful food outlets', 'involving 3 staff collectively looking', 'renovated besides caracas intl works', 'security control always seamless shorter time', 'least classic sells quality hot food', '15 minute 5 kilometre lap', 'screens etc .. austrian airlines', 'self service hot food corner including', 'wasting precious time going circles', 'flowing trash minimal lounge areas', 'see one tsa person checking boarding passes', 'airport arrange transportation tofrom emirates', '30 mins queuing lufthansa personnel asked', 'new lounge spans two floors', 'also amazing lax star alliance lounge', 'taught basic customer service skills', 'water feature dominates one wall', 'ho chi minh city collect', 'eg specifically booked seat close', '3 rd class restaurant small', 'notoriously expensive airport limousine taxis', 'non shoppers dubai airport logistics', 'office facility including free wifi', 'first class /* gold lounge', 'baggage sizes caused peoples baggage', 'first leg den -- iah', 'newest boarding satellite called s4', 'inadequate baggage handling overcrowded security', 'lufthansa could someone please instruct', 'ample comfortable seating air conditioning', '24 hour customer service centres', 'usual fsu customer service standards', 'saa baobab lounge quiet due', 'already boo arrival 10 didaming', 'worst customer service experience ever minutes', 'baby strollers 30 mins waiting', 'air china first class lounge', 'feel bremen airport gives passengers', 'air india terminal 3 international lounge', 'denver international airport 3 hours early', 'old b757 flight delayed 1hr', 'adjoining areas plus 4 tvs', 'air canada business class lounge', 'lufthansa business class lounges visited 3', 'well desirned flight big trangereds', 'free internet although fair play', 'another security check meaning', 'boarding closes 20 minutes prior', 'destinations within 24 hours transit connection', 'airport boasts 150 parking places', 'horrendous book discount parking online', 'low cost segment big future ahead', '1015 laseuset flight etting flight', 'lounge used aa admirals club', 'klm british airways air france', 'business lounge within 30 mins', 'honest dubai airport terminal 1 2', 'process make flying porter worthwhile', 'fellow star alliance member lufthansa', 'involved manual tick sheets', 'hand luggage security checks 30 minutes', '30 mins walking distance 1mi', 'generally less used security post', '3 main terminals abc terminal', 'dismal lufthansa business class lounge', 'balshy customer service nearly started', 'competing passenger queues intermingling due', 'going massive airport expansion project', 'star alliance gold lounge upstairs', 'two american airlines morning flights passengers', 'boarding even chengdu new airport terminal', 'airport ‚ bag drop', 'two free checked bags per person', 'gate entered sheremyetevo classic lounge', 'hilton garden inn located near', 'free wifi available everywhere', 'staff even air astana check', 'car park 10 metres away', 'london airport express train deserving', 'picked specific seats 10 months', 'dubai .. waiting times etc', 'cue benny hill music', 'new bag might learned arrivened', 'customer service counters could give us', 'desk giving ground transportation information', 'make us pay 75 eur', 'past since lufthansas departed last year', 'become much less user friendly', 'boarding began 25 minutes later', 'huge new hamad international airport', 'qatar airways business class passengers', 'mostly hard airport style seating', 'connections via dubai dubai airport hub', 'separate fully equipped private room', 'hand writing passenger details carry', 'unsmiling securitas personnel lacking', '3rd grade classroom without', 'started charging 25 eur', 'also book emergency row seats', 'initially booked economy however decided', 'could select exit row seat', 'tpe airport quite old airport_general', 'least lufthansa provides free coffee', 'noisy sub par food', 'get new security approval although', 'dismal depressing miserable lounge', 'avoid 5 hour stop overs', 'tam first class lounges previously', 'bad quality products really nothing', 'famous first class logo', 'tasman configured a320 lounge', 'intend taking sporting gear', 'severely effecting lh growth', 'air france lounge spacious without', 'many luggage like u r', 'dar pleasant though complained could', 'free ayurvedic massage facility', 'risotto pasta cold meat', 'customer service agents could definitely', 'fairly quick 15 minutes followed', 'one bag arrived 36 minutes', 'star alliance gold member', 'sa allows 1 bag', 'madly long corridors tasteless', 'bags arrived 36 hours late', 'star alliance gold status', 'spotless nice design automatic train', 'belotious pullist minute cram', 'short term parking lot right', 'recommend highly avoid whenever possible', 'cure cusely delayed prepares', 'booked 2 seats together yet', 'paris terminal 2e food choice', 'great food offerings less crowded', 'pace 60 minutes followed', 'tax free store average', 'industrial gigantic pig farm', 'mileage plus card member', 'air france staff accompanies', 'dubai airport poor online checkin', 'non tsa checkpoint curiously', 'uk visited aer lingus lounge', 'air china agents working', 'shorter route rouge premium', 'free airport wifi never works', 'ever experienced poor service', 'ok airport nothing fancy except', 'normally fly biz class', 'poor signage often courtesy', 'really poor customer service', 'instance thai cabin crew', 'reflects swiss airlines approach', '45 mins rude check', 'hot humid climate tiles', 'many fast food restaurants like', 'frankfurts vast comfortless areas', 'credit card overall good experience', '9am 30 minutes later', '10 times worse new airport', 'new york frankfurt one first', 'stern security control personnel', 'munich via abu dhabi', 'would like extra legroom seats', 'local visa package first bags', 'canadian custom form luggage must', 'remouned belon completely torn', 'transborder maple leaf lounge', 'gates 4 thru 6 used', 'customer service staff staring', 'air china beijing lounge', 'james richardson international airport', 'using delhi international airport biz', 'thai first class lounge', 'rude staff long delays', 'accessed via passkeys provided', 'air canada lounge along', 'knight worn design flight', 'super elite status pax', 'star alliance lufthansa united', 'taxi cost another 20sf', 'following evening .\\\\ u00a0', 'lca boarding airplease wheel', 'another star alliance airline', '12 yrs old children', 'best south america lounge', 'air canada transborder lounge', 'tiny little airport charges', 'customer service direction queues', 'business class 1st row', 'bars small restaurants comfortable chairs', 'large brightly lit lounge', 'varied seating areas including', 'first class incheon lounge', 'even without printed boarding pass', 'exit airport flood day flight', 'h shape terminal structure', 'star alliance terminal 2', 'shocking sub standard airport', 'could use lufthansa business lounge', 'karl jatho airport lounge', 'origination isign final delice', 'one bag arrived 30 minutes', 'first class club access', 'manchashing airport targrop system', 'done within 5 mins', 'entered passport details etc', 'den -- iah', 'car parking every week', 'little earlier though instead', 'aa takes security seriously', 'oneworld passengers air france', 'avoid gate screw ups', 'reserved longer legroom seats', 'lufthansa star alliance terminal', 'true international business class', 'rather small pax hold area', '3 flights london moscow', 'spatious private shower airport_general', 'departed 2 weeks ago', 'negative customer service throughout', 'aer lingus exclusive lounges', 'virgin business class lounge', 'seats normally set aside', 'air canada lounges vancouver', 'emirates online ticket booking experience', 'poor airport_general old lounge', 'need good direction signs', 'worst star alliance lounge', 'main seating area near', 'food carts taxi fare', 'lounge standards including first', 'first class lounge lax', 'non shops quiet approach', 'asking unhelpful customer services', 'although low french standards', 'lufthansas admirals club lounge', 'star alliance airline check', 'emergency exit seat without', 'moderately appealing food choices', 'many business class lounges', 'waited phone lagange bags', 'rennies lounge also klm', 'drink comfortable seats friendly staff', 'chicago gold circle lounge', 'wifi internet connections bathrooms', 'fast lane security clearance', '750cc bottle cost 5', 'never ever use us airports', 'common pax hold area', 'car rental facility', 'return flight 5 people booked', 'finnish passengers started standing', 'business class lounge experience', 'older previously temporary lounge', '30 kg luggage allowances', 'great obviously lufthansa wants', 'seated 10 rows apart', 'somewhere near gate 2', 'still get 1 free bag', 'many business class customers', 'luggage beyond copenhagen though', 'open departure gate system probably', 'natural light lounge arrange', '30 minute delay due', 'ground crew directing transit', 'gatwick waited 2 hours', 'two us customs officials', 'took approx 50 min', 'lufthansa business class lounge', 'lufthansa business class lounge', 'lufthansa business class lounge', 'lufthansa business class lounge', 'get tasty thai snacks', 'baggage claim design froth', 'blr airport 4 times', 'general free frankfurt airport wi', '5 hours without hours', 'buy slovak liquor note', 'new transatlantic flights starting', 'domestic terminal ml lounge', 'first class terminal experience', 'well appointed staff friendly', 'somewhat basic regional airport', 'bags took 30 mins', 'sealable plastic bags needed', 'usual af lounge leaves', 'gloomy awful lounge', 'flying economy long queues', 'airport staff luggage people boarding', 'many north american airports', 'lufthansa charges 40 euros', 'delta american united lounges', 'check online via tracking', 'toomany travellers require seats', 'site although customer service', 'meet first class passengers', 'checked sky bahamas bag', 'longer provide sandwiches told', 'ground content nother come', 'little last minute shopping', 'taxi queue goes faster', 'boarding passes seemed great', 'return trip used lufthansa lounge', 'pay double 30 euro', 'good 2 hours prior', '30kg per person checked', 'first class lounge could', '24 hours without luggage', 'boarding started 45 minutes', 'salty snacks cold drinks', 'great medium sized airport', 'star alliance members', 'star alliance members', 'odd boarding order children', 'complete light meal corner', 'kept changing boarding gates', 'bags arrived 30 minut', '24 hour shopping airport_general', 'would probably use ont', 'lufthansa welcome lounge equipped', 'much hand luggage people took', 'dedicated security lane inbound', 'ba first class passengers', 'third serving flight crews', 'provide decent wifi access', 'booked online 6 months', 'main terminal several times', 'kenya airways refused', 'open gate area including', 'certainly would avoid frankfurt like', 'spend 10 mins trying', 'schedule 50 minutes would', 'w class fare passengers', 'iad saga lounge excellent', 'terminals really long walks', 'car rental area', 'rude staff claiming', 'booked two seats together', 'economy class arrange', 'upgrade hanger airport_general first', 'without issue check inn', 'checked bag price gimmick', '30 minute round trip', 'sometimes lengthy security screen', 'economy class luggage weight', 'rude customer services', 'terminal 1 shown ages', 'manchas airport flight pushing', 'individual passport processing time', 'codeshare air canada', 'air canada fell', 'poor customer service', 'poor customer service', 'poor customer service', 'security made us scan', 'large well lit lounge', 'process took 50 minutes', 'arrival 5 min ahead', 'given seats rows apart', 'slow moving long queues', 'fra lufthansa offers coffee', 'quite fast one positive', 'security checks terminal 1', 'long time waiting etc', 'first class terminal directly', '50 min late departing', 'charles de gaulle airport', 'air china since', '8 uncomfortable hours spent', 'allow small weight excess', 'great little regional airport', 'long stay car park', '5 hrs earlier', 'aeroflot used cx', 'carry 2 booked suitcases', 'air canada staff', 'munich first class lounge', 'showers fresh food coffee', 'limited united lounge ok', 'excess luggage better airport', 'economy class tickets', 'fast track priority cards', 'lounge however one could get', 'gold star member', 'expensive limousine taxis', 'last passengers started standing', 'new planned landing time', 'entire bus cram together', 'maple leaf lounges', 'maple leaf lounges', 'maple leaf lounges', 'maple leaf lounges', 'lufthansa employees made sure', 'problems include crammed lines', 'interact first big crew', 'delayed even 5 minutes', 'provide free internet access', 'gate watching passengers enter', 'obviously needs improving though', 'let us check one bag', 'clean little province airport', 'frankfurt first class lounge', 'used edinburgh airport quite', 'took us 20 minutes', 'usually fly lufthansa since', 'least convenient international airports', 'maple leaf lounge', 'maple leaf lounge', 'maple leaf lounge', 'maple leaf lounge', 'maple leaf lounge', 'skyteam alliance agreement', 'air canada agent', 'improved security screening airport_general', 'baggage cruel phones', 'bag check handled smoothly', 'mobile phone baggage drop', 'delivered completely torn though', 'star alliance airlines', 'gave us correct directions', 'traveling 3 connecting flights', 'included den --', 'flight edinburgh airport used', 'free unlike lufthansa lounges', 'star alliance airline', 'star alliance airline', 'dubai airport gate agents', 'free internet connection fast', 'appalling queues', 'next two flights home', 'surprised baggase inn', 'stale looking bread', 'pub sells beer', 'although small appeared spacious', 'usually use terminal 8', 'main terminals could use', 'dubai international airport boarding', 'gively good always lost', 'airport almost 3 hours', 'bags arrived 30 minutes', 'unfortunately arrived 16 hours', 'electric outlet convenience still', 'bathrooms appeared pretty clean', 'galactica completely renovated', 'flew lufthansa last week', 'new landing state indicated', 'air canada visitors', '1st class customer', 'airport may offer venues', 'service albeit poor', 'air canada lounge', 'air canada lounge', 'last trip overall experience', 'however baggage screening area', 'used qantas first lounge', 'changing art exhibit', 'airport seemed fine apart', 'people say bole airport', 'airport staff airport staff', 'lufthansa app iphone allowed', 'elite plus member', 'therefore used terminal 1', 'business class airfare', 'reaching india bus completely', 'customer service skills', 'customer service skills', 'customer service skills', 'upon locating bags fortunately', 'airport passing gate 15', 'almost five hour delay', 'machines also refused', 'extra leg room seats', 'hundred metres away', 'dubai airport dubai airport', '60 euros one way', 'terminal 1 toronto airport', 'still last passengers hold', '4 seat row saying', 'qatar gold member', 'home airline lufthansa would', 'less waiting transit time', 'star alliance lounges', 'direct access bridge past', 'classes air casurised', 'alcohol including champagne', 'plain bad airport management', 'gold circle lounge', 'spacious areas throughout makes', 'personnel moving around', 'made euthent one bags', 'must pay departure tax', 'stansted airport management seem', 'already closed even though', 'star alliance lounge', 'star alliance lounge', 'nice looking large lounge', 'passgengers free coffee', 'mumbai airport better range', 'easyjet online really easy', 'lufthansas admirals club', 'good service nice choice', '2 security gates open', 'remote third world airport', 'past year always found', 'north american united', 'pitiful lufthansa partners', 'passport control issue depends', 'usual took shuttle bus', 'thai street prices', 'double back since security', '3 hours prior', 'stansted whenever possible', 'dont make us take', 'alain ducasse restaurant', 'luggage 45 minutes check', 'home airport baggage delivery', 'basic elite pax', 'roll across airport floor', 'second class citizen', 'queues moved faster', 'normal row seating', 'tiny totally cramped', 'frequently used senator lounge', 'hassle better airport service', 'process fantastic lounge experience', 'find near gate 9', 'prago garden connelled', 'north shore mountains', 'last 3 weeks', 'evening four airlines arrive', 'lacks customer service', 'customer service aspect', 'customer service apply', 'address customer service', 'non ffp members', 'hours en route', 'crowded lounge always full', 'construction works taking place', 'reasonable duty free luggage', 'great trouble getting dropped', 'toronto airport another day', 'ai lounge food left', 'home lounge large well', 'home base airport frankfurt', 'still left late due', 'etc several passengers', 'major thing changi airport', 'due ongoing issues', 'star alliance carriers', 'air france lounge', 'air france lounge', 'north american standards', 'relatively clean airport convenient', 'nice airy new lounge', 'global entry person', 'big plus apart', '2 departing lufthansa flights', 'takes 10 mins', 'another long long line', 'skyteam member airline', 'business class lounges', 'business class lounges', 'air france needs', 'cabin crew went first', 'lufthansa limousine service', 'great customer service', 'airline loyalty card', 'food except crackers', 'shopping malls near', 'business class passengers', 'business class passengers', 'usual huge queues', '400 customer base', 'customer service staff', 'fast large baggage allowance', 'customer service also', 'stretched beyond capacity', 'pretty dreadful', 'packaged tasteless cookies', 'extremely unhelpful regarding', 'disgusting beyond belief', 'dar june 2012', 'constant watchful eye', 'aggrandizing lofty dreams', '22nd december 2012', 'like fancy hotels', 'authorized personnel would', 'aer lingus lounges', 'business class lounge', 'business class lounge', 'business class lounge', 'business class lounge', 'business class lounge', 'business class lounge', '24 hour restaurants', 'reissued new ones', 'two weeks later', 'work everywhere', '4 star airline', 'completely disregarded throughout', 'car hire desks', '45 minutes though', 'even altering seating', 'lufthansa offers fast check', 'hire car people', 'aer lingus lounge', 'first class experience', 'breezed thru security', 'use polite helpful staff', 'new york lga', 'new york lga', 'weekdays except early', 'extorting every penny', 'qatar including frankfurt', 'international news papers', 'free coffee machines', 'crowded reduce waiting time', 'new travellers passing', 'usual drinks selections', 'key transportation hub', 'aer lingus needs', 'much earlier flight', 'ewr tonight flight disappointed', 'main passageway indicating', 'book earlier flight', 'terribly disorganized airport', 'even within schengen', 'little customer service', 'business traveller wants', 'marco polo member', 'extremely incompetent staff', 'connecting flight bag transfer', 'flying business class', 'flying business class', 'customer service training', 'customer service remains', 'b gate area despite', 'obviously lufthansa wants', 'make sense', 'lufthansa first class', 'much shorter glad', 'next 90 mins', 'atrocious customer services', 'massive queues', 'massive queues', 'massive queues', 'air france connection', 'luggage complete delivery arrived', 'plastic bag earnings', 'one bag came right', 'overall london gatwick', 'sfo virgin america', 'hong kong started', 'like camera batteries', 'small basic facility', 'caracas really needed', 'lufthansa admirals clubs', 'flights improve dubai airport', 'klm partner lounges', 'continue current service', 'birmingham even though', '359 even though', 'united airlines member', 'air conditioning', 'air conditioning', 'right customer service', '3 hours ahead', '10 desive late', 'first class lounges', 'first class lounges', 'kongg gaulle airport', 'vienna form 8 days', 'tagged priority bags come', 'booked boarding gate jumped', '15 minutes drive', 'efficiently massive confusion', 'lounge staff members', 'stress free experience', 'peak times seating', 'first class passengers', 'first class passengers', 'malaysia airlines staff', 'customer service especially', 'usually af lounges', 'first hotel bus would', '25 flights domestic', 'new boarding card', 'renowned swiss sourness', 'repeat security rigmarole', 'first class lounge', 'first class lounge', 'first class lounge', 'extremely friendly opposed', 'western style food', 'city .. food', 'departures within 10', 'people 30 minutes', 'wheel chair dependent', 'saturday 5th october', 'plain text version', 'golf carts ready', 'covered hall linking', 'busen rollunded comfy', '16th december 2006', 'frankfurt cream arrived insist', 'local airport near', 'good office away', 'us citizen passing', 'relaxed seats throughout', 'opposite aisle seats', '1 booked suitcase going', '20 minutes later', 'completely new experience', 'canadian customs official', 'new subway', 'uks newest airport', 'even began boarding', 'business class check', 'old t3 lounge shared', 'long bus ride', 'drop charges continue', 'u r checking', 'terminal placed tickets', 'passed security things improved', '£ 9 !!!!', 'average premium lounge', 'terminal 10t ia', '20 minute delay', 'online 24 hours', 'least 45 minutes', 'air mauritius lounge', 'fairly full a330', 'four steep flights', 'airport customer service', 'three security checks', 'ignore duty free', 'duty free shop', 'duty free purchases', 'new planned bags', 'sgn flight change counter', 'new terminal lengthening', 'good customer service', 'good customer service', 'good customer service', 'good customer service', 'dont like airports', 'two hours later', 'waited 45 minutes', 'obviously noticably busier', 'charming stewardess picks', 'much better transfer point', 'months frequently claim', 'staff without asking', 'flying first class', 'phone quick formalities', 'least three times', 'miserable faced security', 'one flies emirates', 'day flood mid', '25cuc airport tax', 'many oversized luggages', 'many oversized luggages', 'oneworld emerald member', 'air berlin flights', 'found opened lock damaged', 'odd boarding oke', '5 aeroflot lounges', 'exact 4 hours', 'though aberdeen airport', 'spectacular customer service', 'minimum customer service', 'pleasant experience except', 'none ever checked', 'tasty food crowded', 'pokiest grubbiest lounge', 'lounge jal comes', 'garuda indonesia lounge', 'former lounge lacked', 'cosy lounge welcomes', 'al reem lounge', 'airport around 0545', 'major international airlines', 'desk staff available check', 'around 6 showers', 'two long echo', 'online 48 hourd', 'introduce online visas', 'two notches better', 'last six months', 'airport 10 minutes', 'usual ...', 'tea internet', '1015 hood ainter', 'past four years', 'new af lounge', 'united airlines lounges', 'quicker checkin ecpecially', 'really duty free', '2 checkpoints even', 'us airline ones', 'duty free shops', 'hong first impression', 'customer service counter', 'pass mark considering', 'tokyo office sent', 'local agents flow', 'three domestic us', 'customer service desk', 'customer service desk', 'problem however security quick', 'great breakfast offerings', 'new hourama bag', 'new bag arun', '20 min waiting', 'traveled several times', 'world traveler plus', 'soried airport buss', 'san juan airport', 'brussels zaventem airport', 'airport tomer terminace', 'another passenger appeared', 'offer free wifi', 'little directional signage', 'thirty years old', 'two glorious lounges', 'bad customer service', 'arrivals taxi rank', 'available customer service', '1 hour lay', '1 hour lace', '4th people completely', 'terminal 3 security', 'domestic terminal location', 'premier international lounge', 'surprise lufthansa online check', 'subsequent luggage screening', 'took several attempts', 'terminal 2 likewise', 'catering one would find', 'typical security questions', 'scandinavian airlines lounge', 'inter schengen flights', 'disorganizated food quality', 'haul flight akl', 'gate y1 y2', 'four airline lounges', 'business lounge downstairs', 'easy boarding easy boarding', 'new terminal 2', 'last 5 years', '5 days later', 'supposedly developed country', 'noise echoes throughout', 'clonds came age', 'acceptable range variety', '30am immediately thereafter', 'smooth better etc', '2 hour lay', '2 hour lay', 'relatively new lounge', '20 departure tax', 'really quite new', 'many security checks', 'lounges like sirius', 'logan international airport', 'mail cram together', 'old terminal 1', 'old terminal 1', 'organised much like', 'also worth pointing', 'free shops provide', 'finished passport control', 'pay 64 euro', 'pay 64 euro', 'fast track passes', 'waited 3 days', 'contents checked anyone ever', 'smoke without exiting', 'handle without impact', 'wain wellous thing', 'considered short haul', 'online 48 hours', 'disorganised remote boarding', 'see passported stamped', 'highest member level', 'quiet border control', 'brought underwear included', 'took 45 minutes', 'security screening lines', 'upon locating bags', 'en concear bags', 'transit lounge nearby', 'second welcome lounge', 'nicely decorated lounge', 'nicely decorated lounge', 'lounge seemed old', 'two sections one', 'boarding card procedure', 'flying air berlin', 'refuse every request', 'pretty basic lounge', 'last two years', 'last two years', 'food options throughout', 'old cramped undersized', 'hurry luggage indo', 'dubai airport !!!', 'great food choice', 'lufthansa business lounges', 'manila better services', 'october last year', 'remote parking position', 'remote parking position', 'use clients like', 'trolleys cost 2', 'new luggage arenal', 'new security area', 'flying croatia airlines', 'six security checks', 'old fokker 100', 'open 3 years', 'many regional airports', 'several passengers connecting', 'transit type airport', '1 hour delay', 'priority boarding honoured', 'connection floun syster', 'allot better waiting', 'people milling around', 'took 20 minutes', 'took 20 minutes', 'tight turnaround time', 'first left sick', 'rude staff', 'starder following evening', 'lufthansa lounge 50', 'alternative airport facility', 'airport staff seemed', 'hugely negative view', 'one even though', 'connection etc sitting', 'excellent customer services', 'arrival rickina lufel', 'last 2 years', 'took 15 minutes', 'toilets incorrect information', 'local one printed', 'better coffee machine', 'second security set', 'airport experience simple', 'think customer service', 'priority pass membership', 'least one perfume', 'dubai airport less', 'boarding card one', 'terminal e classic', 'pain complete delivered', 'fully booked flight', 'think within 20', 'boarding began unable', 'several full flights', 'airport security acts', '6 people working', 'munich airport queues', 'created huge trouble', 'unfinished decor pipes', 'screen error message', 'horrible shopping mall', 'whole package booked', 'wait 50 minutes', 'incoming international flights', 'air canada', 'air canada', 'air canada', 'quickly becomes overcrowded', 'moved fairly quickly', 'work without interruptions', 'airport though small', 'costs 30 usd', 'airport food service', 'still long though', 'airplane early boarding', 'connected past security', 'track system seemed', 'cairo airport', 'underground tram took', 'first ground crews', 'one even bothered', 'walk scurry elevator', 'flight crew departed', '2 lufthansa terminals', 'airport service remains', 'stop train service', 'still uncomfortably overheated', 'departure terminal handed', 'arrival many details', 'small ...', 'included suitcases bag', 'posted previous comments', 'terminal airports spillenged', 'connecting flight without', 'lufthansa lh runs', 'lufthansa internationally destinations', 'high 20 usd', 'efficient -- done', 'boarding process wither', 'used several times', 'worry self checkin', 'uk since moving', 'little shopping options', 'security guy came', '20 min queue', 'two terminals connected', 'sin terminal 3', 'lounge many times', 'old lounge remains', 'last time brade', 'transit passengers connecting', 'la carte menu', '5 minutes found', 'effective ba lounge', 'flight feeling refreshed', 'last hour trying', 'baggage claim syster', 'buffalo airport complained', 'new boarding procedure', '3 police waiting', 'single terminal airport', 'like dubai airport', 'website even though', 'los angeles', 'kindly indicate clearly', 'champagne nobody knows', 'bus bringing us', 'long delay due', 'us airline lounges', 'well kept facility', 'airport departure tax', 'best business lounge', 'topice terminal one', 'particular lufthansa experience', 'five minuted arrival', 'great little airport', 'great little airport', 'another time sirius', 'every us airport', 'attractive well groomed', 'allocated seats onboard', 'army like situation', 'overwhelmed passport control', 'pay 40 euro', 'st petersberg airport', 'dreary airport !!', 'respective lounges provide', 'early morning transit', 'non smoking terminal', 'booked airport wheelchair', 'baggage claim completely', '15 minute carriers', 'keep close hold', 'international departure terminal', 'long haul flight', 'better food quality', 'departure information boards', 'u could factor', 'best airports around', '15 minute connection', 'used twice london', 'tougg delivery delived', 'last terrible arrival', 'reaching indice airport', 'airport faster checkin', 'course brand new', 'dubai airport signage', 'long table leading', 'us airline lounge', 'good business desks', 'domestic lufthansa lounges', 'offer really interested', 'fast track security', 'vest marked lufthansa', 'assumed lufthansa knew', 'overall yyz lounge', 'shame royal brunei', 'use oneworld lounge', 'lufthansa really needs', 'extremely poor', 'easy even though', 'pls lufthansa would', 'food means pre', 'surprisingly pleasant lounge', 'big dubai airport', '125 rooms located', 'lounge six times', 'really looks like', 'wait around 1', 'particular stay away', 'area terrible airport', 'excellent staff friendly', 'qantas premium check', 'single airport lounge', 'kul twice daily', 'apparently swiss shares', 'sas business lounge', 'quick boarding guaranteed', 'arrived making envious', 'signage could certainly', 'quickest ever immigration', 'found people generally', 'delta airlines website', 'use public bathrooms', 'star alliance', 'star alliance', 'star alliance', 'shopping corridor', 'additional price like', 'airline upgrade program', 'offers sweeping views', 'london one piece', 'high quality food', 'would strongly recommend', 'also great easy', 'better seat maintenance', 'every boarding pass', 'dublin home base', 'checked bag equipped', 'descend 5 flights', 'domestic terminal lounge', 'children one line', 'heraklion airport may', 'slow security checks', 'shorter online check', 'onward connecting flights', 'lufthansa terminal twice', 'lufthansa dedicated terminal', 'getting decent seats', 'use nimes airport', 'far lessor degree', '1 hour ground', 'final six missinat', 'plane afterrated anthing', 'luggage delivery spinch', 'many people romanians', 'entered us customs', 'warm actually hot', 'girl helping passengers', 'continual difficulties passengers', 'alway bags waiting', 'also held true', 'isle seat near', 'gates especially b1', 'last trip problems', 'outrageously expensive compared', 'garden airport hotel', 'different airport altogether', 'perfect experience started', 'much better food', 'serving easy jet', 'snaked right back', 'avoid dulles airport', 'cumbersome security check', 'aviation security check', 'many airports could', 'exsiting one noticed', 'next day kef', 'luggage near bus', 'separate smoking area', '8 days later', 'main departures areas', 'upgraded pretty close', 'gold card', 'lounge beats sitting', 'online 23 hours', 'online 23 hours', 'lufthansa app android', 'airport still maintains', 'small smoking room', '2 days area', 'clearly expressed online', 'ground staff since', 'warm welcoming feel', 'ladies toilet opposite', 'another wine bar', 'envious arrived annived', 'small domestic airport', 'fort worth put', 'complete mass boarding', 'secondary document check', 'rubbish policy check', 'terminal c longe', 'getting boarding passes', 'process relatively quick', 'undergoing major upgrade', 'large airport like', 'beside boarding gates', 'awful tube outside', 'person receiving passengers', 'attentive lufthansa staff', 'ground floor check', 'somebody providing assistance', 'dirty dishes picked', 'lufthansa lounges could', 'used cip lounge', 'also poor', 'immigration spilled along', 'delays chaotic lines', 'melbourne cant provide', 'lounge plus go', 'soon pointed us', 'reducing waiting time', 'phone online check', 'frustrating process getting', 'montreal airport yul', 'one hour delay', 'still hour delay', 'time business lounge', 'nice little selection', 'also clear directions', 'swiss home country', 'fee providing food', 'mobile boarding pass', 'wait 15 minutes', 'wait 15 minutes', 'departure lounge downstairs', 'several people came', 'book shop closed', 'chaotic checkin like', 'wrong way around', '3 queue lines', 'priority boarding procedure', 'reaching inline said', 'passenger actually gets', 'luggage acro taking', 'finally begain passengers', '9 hour stopover', 'printed boarding pass', 'boarding pass printed', 'tam airlines need', '4 desks open', 'staff said anything', 'buffalo one thing', 'agent talked us', 'connecting flight passenger', 'self service check', 'customs rechecked bags', 'security instructed us', 'dubai airport needs', 'moscow work fine', 'airport overnight due', 'reason boarding particled', '8 minutes got', 'oasis lounge seems', 'sent becaune cleared', 'greece thessaloniki makes', 'attendent rude', 'accessing concourses b', 'best terminal airport_general', 'airport staff still', 'egypt airport come', '5 hour layover', 'significantly busier departing', 'outside security since', 'landings worst ever', 'good food options', 'scheduled departure time', 'pearson international airport', 'next flight schedule', 'always superbly efficient', 'laid back though', 'queue practically outside', 'last treat onto', 'least one book', 'includes direct access', 'airport public washrooms', 'mid morning departure', 'another security check', 'two course complete', '2 small bags', 'one belt open', 'lufthansa flights use', 'get bulkhead seats', 'incredibly slow moving', 'separate boarding pass', 'bad signage twice', 'old bali airport', 'small line n', 'restaurant within', 'pleasurable traveling used', 'priority pass lounge', 'one extra guest', 'fine experience even', 'queues usually', 'international transfer airport', 'virgin atlantic opened', 'last airport flight', 'definitely recommend etihad', 'helpful faster check', 'washrooms outside lounge', 'could find neither', 'boarding passes e', 'moreover online check', 'also got upgraded', 'aisle seat either', 'slow passport control', 'still much smaller', 'flight departure boards', 'air france', 'air france', 'air france', 'air france', 'air france', 'air france', 'air france', 'air france', 'air france', 'air france', 'poor quality', 'far away places', 'placed far away', 'airport still insist', 'fly anywhere direct', 'husband bag arrived', 'passport formalities completed', 'lufthansa worked well', 'jetway form anyth', 'much nicer lounge', 'using lufthansa ever', 'papers come prepared', 'totally outdated airport', 'boarding gate agent', 'booked something else', 'luggage carefy building', 'southamerican airports additionally', 'transit airports try', 'half hours waiting', 'crowded early boarding', 'get boarding passes', 'terrible online check', 'baggage claim area', 'hour earlier', 'early morning flight', 'early morning flight', 'queue un flight', 'us tsa', 'overall lhr surpasses', 'big world airports', 'third world airport', 'fast boarding procedure', 'pass flight crew', 'pleasant lounge close', 'loaded via stairs', 'comfortable lounge chairs', 'saturday afternoon flight', 'nice dubai airport', 'advantages spending time', 'another good thing', 'dideting bags come', 'elite package', 'good nothing particular', 'business class', 'business class', 'also ac lounges', 'waited long time', 'baggage delivery one', 'ana lounge', '5 checked bags', '5 checked bags', 'one remarkable advantage', 'almost completely empty', 'lcct kul kul', 'first airport bags', 'quick checkin services', 'online checkin process', 'excellent lufthansa lounge', 'swiss delivered however', 'read nowhere near', 'flight information given', 'security waiting time', 'main bag check', 'incoming flight taking', 'fantastic ba lounge', '4 counters open', 'see easyjet ticket', 'seat upon boarding', 'clothing pilonge anything', 'aer lingus', 'british airways', 'best airport terminal', 'real express check', 'lufthansa uses terminal', 'terminal 2 heathrow', 'pre booked seats', 'pleasant experience despite', 'got torm fortunately', 'reduce waiting time', 'carry two bags', 'everything goes well', 'polite ground crew', 'getting better flights', 'los lot lufthansas', 'planes better check', 'wish every airport', 'peak times impossible', 'made significant improvements', 'dead ends finding', 'could ever find', 'always pretty pleased', 'uncomfortable experience', 'flybe sign behind', 'overseas visitors arrive', 'easyjet crew arriving', 'almost non existent', 'check ins security', 'envious worst case', 'people berating others', 'departure lounge however', 'little bit slower', 'little bit slower', 'left us alone', 'nice lufthansa lounge', 'whole boarding procedure', 'checked bag must', 'main terminal go', 'long time waiting', 'internet plus', 'security check area', 'security personnel', 'nice small lounge', 'lounge quite good', 'free wifi', 'free wifi', 'free wifi', 'first luggage came', 'feel overall would', 'security would help', 'tampa easy connection', 'home bag said', 'elevators gate elevators', 'simple seat upgrade', 'poor airport', 'hot soup', 'hot soup', 'got tork arrived', 'second bag costs', 'convenient online check', 'dubai airport take', 'best airport lounge', 'lane country road', 'unhappy', 'noticed champagne available', 'attitude', 'airy grand hall', 'airport building waiting', 'last night people', 'food etc', 'carry 2 bags', 'much larger airports', 'nice lounge quiet', 'one small backpack', '15 mins', '15 mins', 'arrived attach time', 'one toilet landside', 'doha airport back', 'uncomfortable seats', 'yet 6', 'agent told us', 'airport_general airside', 'clothing etc', 'arrived mid morning', 'baggage security check', 'good experience based', 'bathrooms within', 'la premiere lounge', 'gone therefore one', 'security issue bit', 'spacious senator lounge', 'quick bite walked', 'skyteam airlines', 'unacceptable online check', 'lufthansa help kiosk', 'plane landing bytt', 'would definitely access', 'would definitely access', 'arrival areas still', 'lufthansas airport claim', 'a380 service aircraft', 'ample seating', 'enough comfortable chairs', 'final destination although', 'plane ar given', 'bangkok airport since', 'one shuttle bus', '60 minutes', 'customers one takes', 'far better level', 'airports nice lounge', '30 minutes', '30 minutes', '30 minutes', '30 minutes', '30 minutes', 'appalling', 'airport far better', '1015 collect airport', 'fast security line', 'reach little early', 'case day late', 'lounges worldwide need', 'lufthansa online check', 'first class', 'first class', 'gave us opportunity', '10 day holiday', 'separate boarding line', 'could start boarding', 'elite travellers', 'bag took forever', 'high quality sit', 'pleasant functional airport', 'received free upgrade', 'lost luggage clas', 'far worse airports', 'mean baggage claim', 'lounge make sure', 'airport small yes', 'bags also made', 'world airports put', 'form one queue', 'baggage drop counter', 'return journey airport', 'one piece opened', 'incoming connection flight', 'customer service', 'customer service', 'customer service', 'customer service', 'customer service', 'customer service', 'customer service', 'customer service', 'customer service', 'customer service', 'customer service', 'customer service', 'customer service', 'customer service', 'customer service', 'customer service', 'customer service', 'customer service', 'customer service', 'customer service', 'customer service', 'customer service', 'customer service', 'customer service', 'customer service', 'customer service', 'customer service', 'customer service', 'customer service', 'final poor', 'online check ins', 'many tickets', 'many tickets', 'boarding pass said', 'fine relaxing lounge', 'lisbon airport clean', 'lounge would receive', 'lost priority boarding', 'bag drop desk', 'noticed one transfer', 'terminal lufthansas uses', 'much cleaner lack', '3 minutes', 'service systems', 'efficient ground services', '150 people', '24 hours', '24 hours', 'efficient helpful employee', 'crowded etc', '50 minutes', 'first time arrived', 'first time arrived', 'air mauritius', 'air india', 'least wifi', 'use vienna airport', '10 minute', 'cannot return back', 'bag got torn', 'final boarding call', 'frankfurt airport since', 'baggage drop queue', 'long queues', 'long queues', '10 minutes', 'use online check', 'terminal queues', 'access online check', 'bag eventually arrived', 'air fare', 'best ac lounge', 'separate wifi', '6 hours', '6 hours', 'bus ride', 'use frankfurt airport', 'another 30', 'aircraft still boarding', 'work baggage drop', 'bags baby seat', 'succeeding segment', 'south end', 'medium sized', 'latin america', 'free throughout', 'free internet', 'extra legroom', 'blues must wait', 'worst designed airport', 'plane indive arrived', 'flight etc', 'conveyor bag delayed', 'recently got worse', 'yvr lounges thanks', 'one bag arrived', 'generally feel', 'take one piece', '5 minutes', 'board earlier', 'lost day late', 'check one bag', 'first floor', 'ok whatever check', 'parking facility', 'economy lane', 'faster lane', 'lufthansas den', 'make sure everything', 'print boarding pass', 'snake queue system', 'airport cannot cope', 'visa number otherwise', 'aircraft organized boarding', 'lufthansa expansion', 'seat airside', 'partners bags', 'private lounge', 'lounge partner', '45 min', '45 min', 'mobile phone', 'mobile phone', 'mobile phone', 'take crowded bus', '3 hours', 'well online check', 'lufthansas ticket counter', 'line especially knowing', 'airport transportation', 'last person', 'airside hotel', 'zurich originally customs', 'car park', 'food offerings', 'larger luggage came', 'frankfurt airport flew', 'return trip went', 'last minute', 'last minute', '1 minute', 'flight landed one', 'skyteam lounge', 'really surprised', 'disappointing airport given', 'relaxing meal departing', 'jfk escorted us', 'disorganized airport', 'premium economy', 'usually friendly', 'five minutes', '45 minutes', '45 minutes', '24 hour', 'checked bag arrived', 'generally dirty', 'clear online check', 'limited services', 'take extra time', 'airport counter check', 'lukewarm soup', 'issues highlighted', 'hong kong', 'hong kong', 'hong kong', '2c ..', 'lufthansas ticket counters', 'minimal lounge', 'much time immigration', 'done online check', 'customer airport_general', 'scanning etc', '3 areas', 'four times', 'terminal 6', 'queues backing', 'get anything arrived', 'departures immigration problems', 'landing rush bags', 'last row', 'limited options', '5 hours', '5 hours', 'arrived etc', 'little faster', 'several hours', 'nothing land good', 'easy online check', 'easy online check', 'easy online check', '20 minutes', '20 minutes', '20 minutes', '20 minutes', 'wifi good', 'canadian lounges', 'even though', 'even though', 'even though', 'even though', 'transborder international', 'usual selection', 'air conditioned', 'air bridges', 'us airways', 'advance make sure', '5 times', 'food around', 'express lane', 'upper class', 'scanner etc', 'would actually get', 'immigration etc', 'many months', '15 minutes', '15 minutes', '15 minutes', '15 minutes', '15 minutes', 'hot drinks', 'hot drinks', 'work online check', 'boarding card', 'boarding card', 'given 25', 'lounge near', 'quickly coming back', 'lax especially', 'uk staff', 'airport_general around', 'modern airport easy', 'one bags found', 'shorten connection time', 'two calls', 'little lacking', 'security appeared', 'new experience', 'terminal 3', 'staff member', 'staff member', 'staff member', 'domestic international', '90 minutes', '40 minutes', '1 1', 'two hours', '3 full', '3 flights', 'business across', 'last week', 'disabled people', 'bottom short bags', 'delay old', 'speaking english', 'signs', 'signs', 'rock wall', 'redevelopment project', 'planes leaves', 'oneworld emerald', 'leaving hnl', 'ho comfent', 'highly likely', 'fellow travelers', 'ba emirates', '24hs prior', 'terminals without', 'several areas', 'never found getting', 'near torn', 'drinks selection', 'first two', 'ground floor', 'get airside', 'us custom', 'modern airport immigration', 'departure gate arriving', 'seats free', 'morning 10', '3 area', 'business trip', 'making sure', 'making sure', 'six months', 'rather choose munich', 'many shops', 'many shops', 'smoking throughout', 'seating comfortable', 'comfortable seating', 'many airlines', 'many airlines', 'many airlines', 'long walks', 'airport floor', 'process faster', 'located near', 'taxi drivers', 'standing along', 'complained previously', 'never seems busy', 'somewhat small', '2 hours', '2 hours', 'united lounges', 'regional flights', 't2 finally delayed', 'real restaurants', 'swiss airlines', 'security checks', 'security checks', 'security checks', 'duty free', 'duty free', 'boarding passes', 'boarding passes', 'boarding passes', 'boarding passes', 'transborder areas', 'new terminal', 'new terminal', 'new terminal', 'new terminal', 'shops although', 'simply miserable', 'business lounge', 'business lounge', 'business lounge', 'business lounge', 'business lounge', 'usually never', 'terrible long', 'trolleys parking', 'something exclusive', 'retail outlets', 'quality wine', 'platinum card', 'newest galaktica', 'hour longer', 'disabled persons', 'card info', 'queues departing', 'booked months', 'lounges london', 'amazing service', 'security staff', 'security staff', 'security staff', 'main hall', 'american airports', 'years ago', 'friendly staff', 'friendly staff', 'hot food', 'hot food', 'hot food', 'hot food', '6 towels', 'overall though', 'security goes', 'airport tax', 'got damaged suitcase', '20 usd', 'hour without', 'airport 3', 'exit row', 'clean efficient airport', 'passengers passing', 'staff training', 'evening yet', 'experience ever', 'first experience', 'boarding cards', 'several hotels', 'via barbados', 'upon kong', 'economy customers', 'correct connections', 'cheese', 'caming garden', 'worst without', 'entire row', 'natural light', 'natural light', 'several years', 'qantas lounge', 'lounge appeared', 'hong lounge', 'af lounge', 'peak hours', 'uk always', 'uk always', '20 euros', 'transit security', 'security checkpoint', 'security checkpoint', 'enough seating', 'enough seating', 'lounge service', 'easily lost connection', 'travellers comments', '5 passengers', 'main terminal', 'old terminal', 'old terminal', 'tea', 'tea', 'random screening', 'quite decent', 'fairly connected', 'computer systems', 'computer systems', 'bars expensive', 'new lounge', 'new lounge', '5 days', 'complete rubbish', 'ever traveled', 'food selection', 'food selection', 'food selection', 'w first', 'first impression', 'started boarding', 'bag tonight', 'ground service', 'saw people leave', 'staff room', 'staff kept', 'real pain', 'bangkok airways', 'dubai could', '1 kg', 'international lounges', 'united one', 'anything like', 'internet access', 'internet access', 'terrible lounge', 'terminal 1', 'terminal 1', 'terminal 1', 'international area', 'international area', 'cue lines', '3 sides', 'right direction', 'much less', 'cool air', 'old ladies', 'great stopover', 'basic rules', 'get delayed luggage', 'started taking', 'new bag', '30kg however', 'security control', 'least 4', 'regional airport', 'lovely airport', 'another passenger', 'american eagle', 'designer priority', 'business trips', 'international passengers', 'usually come', 'good internet', 'also open', 'could continue', 'airport service', 'sitting around', 'around 8am', 'another terminal', 'another terminal', 'keep asking', '1 hour', 'still fair', 'every piece', 'also recommend', 'terrible dirty', 'lounge seemed', 'new airport', 'new airport', 'new airport', 'new airport', 'new airport', 'new airport', 'new airport', 'huge delays', 'long transit', 'domestic terminal', 'international lounge', 'ba member', 'first terminal', 'world apart', 'waiting times', 'tam lounges', 'united stewarme', 'united states', 'close 2', 'new one', 'terminal 2', 'terminal 2', 'terminal 2', 'terminal 2', 'terminal 2', 'little landside', 'less crowded', '¬¨¬£ 10', '10 minsled', 'elite upgrade', 'main lounge', 'another traveller', 'excellent service', 'international airports', 'high standards', 'feel like', 'last passengers', 'stopover times', 'quality food', '2 flights', 'transborder lounge', 'twenty minutes', 'ten minutes', 'ten minutes', 'fifteen minutes', 'inbound flight', 'efficient usa departures', '1 days', '1 days', 'past senator', '23 hours', 'boarding pax', 'one row', '10 day', 'every airport', 'winter months', 'wide range', 'welcoming feeling', 'welcome speech', 'ways approx', 'wait till', 'wait till', 'virgin atlantic', 'sky team', 'shower facility', 'shopping options', 'shopping options', 'senators', 'senators', 'rude', 'retail outlet', 'los carder', 'los cabo', 'los cabo', 'looking forward', 'looking forward', 'looking cheap', 'local paxes', 'local help', 'lca 30mins', 'kept asking', 'internet connectivity', 'imagination style', 'free snacks', 'fair hike', 'enormous free', 'dome shape', 'disciplined pig', 'content pilfered', 'chinese style', 'bathrooms dirty', 'automatic kiosks', 'austrian shorted', 'austrian share', 'lounge staff', '2 hour', 'way thru', 'uk airports', 'visa checks', 'service attendants', 'lufthansa offers', '12 hours', 'united desk', 'international airport', 'international airport', 'international airport', 'transit area', 'give us', 'connecting flights', 'took less', 'took less', 'find somewhere', 'staff working', 'gate 5', 'lufthansa swiss', 'later noticed', 'ground staff', 'ground staff', 'ground staff', 'like ba', 'passport control', 'passport control', 'passport control', 'passport control', 'passport control', 'passport control', 'room areas', 'prague end ignored', 'much selection', 'jnb without', 'ground crews', 'ground crews', 'extremely slow', 'airline lounge', '¬¨¬£ 5', 'wh 5', '6ft 5', 'great airport', 'premium passengers', 'boarding farm', 'terrible mash', '2 passengers', 'pleasant staff', 'waiting areas', 'completely ruined', 'completely alien', 'auption completely', 'many years', 'terminal 4', 'like berlin', 'better version', 'row 63', 'old one', 'great one', 'totally unacceptable', 'moved across', 'leg room', '1st bags', '4 flights', 'transit lounge', 'premium lounge', 'lounge downstairs', 'main hub', 'main hub', 'service desk', 'hours use', '8 hours', 'airport staff', 'airport staff', 'terminal b', 'windows phone', 'public areas', 'cramped outdated', 'checked lock', 'little wrong', 'many passengers', 'many passengers', 'staff helpful', 'staff helpful', 'time around', 'terrible thing', 'robbing travellers', 'departure boards', 'book designer', 'also one', 'fast track', 'fast track', 'security area', 'dubai airport', 'dubai airport', 'dubai airport', 'dubai airport', 'dubai airport', 'dubai airport', 'dubai airport', 'dubai airport', 'dubai airport', 'dubai airport', 'dubai airport', 'dubai airport', 'dubai airport', 'dubai airport', 'dubai airport', 'dubai airport', 'dubai airport', 'next year', 'international section', 'international plugs', 'open bars', 'cared less', '3 check', 'could close', 'much food', 'people like', 'weird design', 'washrooms something', 'power outlets', 'must fly', 'limited number', 'insufficient bathrooms', 'exceptional wine', 'etihad guest', 'comments regarding', 'anything wrong', 'direct flight', 'takes away', 'really useful', 'really strange', 'really call', 'separate lounges', 'main prospect', 'main attraction', 'business check', 'fewer airlines', 'airlines therefor', '7 airlines', 'great wines', 'great emphasis', 'great confidence', 'pretty sure', 'printed outside', 'lounge offers', 'noticed 2', 'two punctures', 'two kids', 'two friend', 'relatively punch', 'reaching india', 'reaching india', 'reaching india', 'reaching india', 'reaching india', 'reaching india', 'bodt cram', 'lufthansa terminal', 'many airports', 'seats booked', 'booked seats', 'last flight', 'transit took', 'took klm', 'airport like', 'priority boarding', 'priority boarding', 'priority boarding', 'austrian said', 'domestic one', 'many people', 'many people', 'many people', 'london queue', 'ground crew', 'ground crew', 'track lines', 'avoid like', '4 days', 'silver member', 'group member', 'move around', 'ample time', 'passengers milling', 'superior staff', 'superb staff', 'staff servicing', 'staff informed', 'staff helps', 'rudest staff', 'fast food', 'parking used', 'pulkova 1', 'last page', 'last occupant', 'last month', 'last month', 'flew last', 'also swift', 'also lifts', 'also improved', 'upon boarding', 'smoking rooms', 'incoming picks', 'major airports', 'good selection', 'good selection', 'good selection', 'good selection', 'united check', 'lounge even', '15 may', 'transit hub', 'rental', 'pax flows', 'minor delays', 'krabi kong', 'jumped ahead', 'five roop', 'biggest negative', 'little else', 'really see', 'real control', 'took 20', 'better note', 'process could', 'pleasant experience', 'pleasant experience', 'pleasant experience', 'relatively short', '10 check', 'rather like', 'undersized lounge', 'smaller lounge', 'separate lounge', 'lounge chairs', 'doha lounge', 'dedicated lounge', 'minute immigration', 'major problems', '22 hours', 'best experience', 'big airports', 'connecting airport', 'small quiet', 'track one', 'lufthansa lounges', 'lufthansa lounges', 'lufthansa lounges', 'efficient agents', 'security needs', 'much better', 'much better', 'much better', 'customs control', 'national airline', 'cheap airline', 'budget airline', 'another story', 'already printed', 'airline proposed', 'departure hall', 'bus first', 'first gate', 'excellent selection', 'security lines', 'bag priority', 'lounge seats', 'quite comfy', 'dozen times', 'everything works', 'relaxing food', 'booked flights', 'also used', 'also used', 'reserved check', 'internet check', 'free check', 'bus farm', 'second gate', 'use even', 'domestic section', 'complete mildord', 'airports worldwide', 'toilets although', '23 kg', '23 kg', '23 kg', 'priority access', 'first paxes', 'dogs first', 'right next', '1 desk', 'waiting area', 'security took', 'exit area', 'one offers', 'home drop', 'fully match', 'custom officers', 'corridor', 'washrooms dirty', 'vast requiring', 'sit together', 'second egyptair', 'schengen trips', 'remote came', 'october 8', 'must use', 'might enjoy', 'mailed entered', 'lessons learned', 'lengthy amount', 'general fog', 'eventually worked', 'even best', 'disproportionate cost', 'cost saving', 'breakfast choices', 'big airport', 'lounges open', 'delivery fast', 'us airports', 'us airports', 'us airports', 'suffers like', 'worst self', 'smoking lounge', '2 kgs', '2 b777', 'good security', 'airport food', 'another transfer', 'take longer', 'frequently take', 'always fast', 'shops closed', 'closed shops', 'never waited', 'everything goes', 'double booking', 'priority customers', 'wide selection', 'good although', 'airlines let', 'good food', 'good food', 'public area', 'gave us', 'small elevators', 'book flights', 'lufthansa lounge', 'lufthansa lounge', 'lufthansa lounge', 'lufthansa lounge', 'lufthansa lounge', 'lufthansa lounge', 'lufthansa lounge', 'lufthansa lounge', 'baggage delivery', 'baggage delivery', 'baggage delivery', 'non existent', 'non existence', 'much depends', '8 seats', 'security quick', 'boarding flights', 'entire process', 'cleared customs', 'rather cramped', '5 check', 'large lounge', 'without going', 'connecting flight', 'connecting flight', 'connecting flight', 'connecting flight', 'connecting flight', 'connecting flight', 'first thing', 'typical airport', 'lisbon airport', 'attractive airport', 'train dragging', 'tgv train', 'internal train', 'fairly smooth', 'aware travellers', 'ground services', 'small lounge', 'small lounge', 'two showers', 'quite long', 'flight crew', 'flight crew', 'flight crew', 'given priority', 'pretty good', 'pretty good', 'many towels', 'many european', 'many differences', 'could use', 'become almost', 'hand bag', 'romanians evening', 'oversized carry', 'london heathrow', 'least predictable', '70 euros', 'took us', 'one pub', 'one gets', 'one employee', 'better airports', 'still clothing', 'kong final', 'gate agent', 'several occasions', 'extremely clean', 'different seats', 'ground cream', 'ground cream', 'flight home', 'flight home', 'time later', 'large airports', 'also fine', 'whole experience', 'sign saying', 'flying late', 'good seats', 'overall lufthansa', 'gate areas', 'transit desk', 'get around', 'use better', 'lufthansa use', 'lufthansa use', 'security gate', 'security gate', 'light meal', 'light meal', 'light elegant', 'concourse h', 'agent calling', '15 reparting', 'long lines', 'boarding area', 'complete lack', 'complete lack', 'small bag', 'quiet lounge', 'quiet lounge', 'outdated lounge', 'lounge quiet', 'etihad lounge', 'dreary lounge', 'ai lounge', 'boarding process', 'boarding process', 'boarding process', 'boarding procedure', '3330 home', 'lufthansa system', 'terminal 8', 'airports waiting', 'waited patiently', 'smoking airport', 'airport services', 'seat selection', 'standard procedure', 'looks like', 'looks like', 'looks like', 'looks like', 'little fuzz', 'little effort', 'little effort', 'little disjointed', 'security guards', 'security guard', 'initial security', 'agriculture security', 'comfortable chairs', 'oldest terminals', 'day late', 'screen line', 'lufthansa customs', 'lounge area', 'friendly man', 'final delay', 'high standard', 'booked baggage', 'food court', 'food court', 'could quick', 'terminal however', 'overnight flight', 'worst lounge', 'worst lounge', 'worst lounge', 'baggage claim', 'baggage claim', 'baggage claim', 'baggage claim', 'baggage claim', 'baggage claim', 'baggage claim', 'baggage claim', 'baggage claim', 'baggage claim', 'baggage claim', 'baggage claim', 'baggage claim', 'u00b0 4', 'toronto airport', 'even beds', 'previous passengers', 'always one', 'comfortable seats', 'luggage like', 'small airport', 'direct landed', 'less painful', 'mass boarding', 'departure area', 'departure area', 'departure area', 'extra bag', 'extra bag', 'extra bag', 'great place', 'older people', 'de airport', 'wider choice', 'wide choice', 'vietnam', 'upright chairs', 'unnecessary queuing', 'turkish', 'traveling underground', 'text hint', 'seriously need', 'separate screened', 'sandwiches', 'readable choice', 'put anything', 'pretty ordinary', 'poorly set', 'peak season', 'packaged sweet', 'overheated spaces', 'ordown belt', 'odd idea', 'must confirm', 'moving walkways', 'moving walkways', 'moving cart', 'mover alternative', 'moved stuff', 'minimum degree', 'mail w', 'mail w', 'liquor bottles', 'lengthy enough', 'kindly refer', 'june 2006', 'improved upon', 'handicapped traveler', 'free newspapers', 'conveyor belt', 'colourful chairs', 'cheap quality', 'brown bread', 'atlanta clubs', 'art gallery', 'airy albeit', '28th october', 'hours time', 'return flights', 'two check', 'arriving via', 'terminal one', 'one terminal', 'one terminal', 'ladies toilets', 'friendlier service', '2 showers', 'cannot recommend', 'cannot recommend', 'best mid', 'basic amenities', 'get shown', 'us aboutake', 'put us', 'prevent us', 'help us', 'escorting us', 'escorted us', 'domestic connection', 'well indicated', 'always located', 'security gates', 'security gates', 'leather seats', 'passengers loaded', 'passengers loaded', 'negative side', 'fewer airport_general', 'entire airport', 'baggage fee', 'incoming flight', 'also check', 'arrived ahead', 'piece lounge', 'said nicely', 'first time', 'first time', 'passengers may', 'without doubt', 'someone else', 'de world', 'bus always', 'hold bags', 'hold bags', 'could serve', 'senator lounges', 'boarding pass', 'boarding pass', 'boarding pass', 'boarding pass', 'boarding pass', 'boarding pass', 'boarding pass', 'boarding pass', 'boarding pass', 'boarding pass', 'boarding pass', 'boarding pass', 'boarding pass', 'boarding pass', 'transit time', 'main advantage', 'complete mess', 'choices ok', 'departure lounge', 'departure lounge', 'departure lounge', 'departure lounge', 'departure lounge', 'departure lounge', 'change terminals', 'reception staff', 'security checked', 'customs process', 'nicer one', 'still behind', 'never fly', 'barista services', 'amsterainealy delivery', 'lhr express', 'priority booking', 'least fine', 'feel comfortable', 'worst airport', 'worst airport', 'worst airport', 'worst airport', 'worst airport', 'always luck', 'always cleaned', 'vast improvement', 'tooooo long', 'passenger guidance', 'long hallway', 'long distance', 'flight due', 'flight due', 'eventually dropped', '8 days', '8 days', 'information back', 'good ba', 'easily better', 'better approached', 'already booked', 'lufthansa pier', 'lufthansa perticned', 'lufthansa makes', 'lufthansa italia', 'lufthansa fra', 'lufthansa flying', 'lufthansa airbus', 'lufthansa advertises', 'informed lufthansa', 'flying lufthansa', 'hold luggage', 'hold luggage', 'hold luggage', 'online checkin', 'stretches across', 'sticker placed', 'skin cream', 'prayer room', 'mile across', 'loaded onto', 'large variety', 'large seperated', 'ice cream', 'heathrow express', 'geared totally', 'computer placed', 'breathing room', 'boarding however', 'relaxing lounge', 'lounge relaxing', 'lh lounge', 'dirty lounge', 'still worse', 'friendly pre', 'poor', 'poor', 'poor', 'poor', 'poor', 'poor', 'poor', 'poor', 'poor', 'bus waiting', 'experience delayed', 'yul terminal', 'terminal buildings', 'terminal building', 'terminal 2a', 'bradley terminal', 'exit flight', 'lounge access', 'lounge access', 'look around', 'pleasant lounge', 'pleasant lounge', 'unavailable due', 'exceptional due', 'contents spilled', 'change planes', 'water outside', 'passport snatched', 'domestic check', 'good book', 'chaotic airport', 'airport fee', 'full view', 'full display', 'early 2000s', 'destination early', 'baggage allowance', 'baggage allowance', 'baggage allowance', 'fantastic lounge', 'best lounge', 'done swiss', 'transcontinental flights', 'optimalize flights', 'frequent flights', 'differents flights', 'charter flights', 'left next', 'building waiting', 'food drink', 'could see', 'self serve', 'onward flight', 'hour flight', 'hour flight', 'always slow', 'another aircraft', 'little finally', 'airport lounge', 'senator lounge', 'senator lounge', 'lounge customers', '2 check', 'always used', 'app although', 'weight since', 'weight since', 'quick boarding', 'jetstar international', 'open arms', 'checkins open', 'first point', 'already boarding', 'already boarding', 'lufthansa counter', 'good lounge', 'good lounge', 'good lounge', 'baggage airport', 'trouble operating', 'trouble accessing', 'standby options', 'st petersburg', 'st maarten', 'snacks menu', 'sitting certainly', 'site grows', 'rise unlike', 'retail options', 'recent trip', 'promoted hotels', 'plush rooms', 'onward journey', 'latest hour', 'huge step', 'huge amount', 'hotteggage picks', 'horrible especially', 'health trouble', 'frequent traveller', 'entire network', 'entire midd', 'electric racquets', 'dreary grey', 'certainly try', 'arrives mid', 'amazing race', '2e', 'food situation', 'lufthansas terminal', 'lufthansas terminal', 'lufthansas terminal', 'ba flight', 'incoming bags', 'incoming bags', 'hilo booked', 'really bother', 'one piece', 'little time', 'little time', 'little time', 'little time', 'walk away', 'late arrival', 'later groups', 'belayed claim', 'always bags', 'would recommend', 'sas lounges', 'poorest lounges', 'nicest lounges', 'mexicana lounges', 'fi service', 'fi service', 'existing lounges', 'executive lounges', 'beautiful lounges', 'lufthansa despite', 'baggage drop', '20 check', 'quite good', 'airlines fault', 'overall however', 'another made', 'special area', 'computer area', 'priority queue', 'priority queue', 'next flight', 'next flight', 'much tidier', 'much quieter', 'much potential', 'much headaches', 'much downhill', 'gate next', 'proper procedure', 'c concourses', 'ba galleries', 'airport people', 'cabin bags', 'security scanning', 'security reason', 'security reason', 'spacious lounge', 'worst delicking', 'getting seats', 'never loaded', 'quiet day', 'airport needs', 'invitation printed', 'transit lhr', 'flight boarding', 'bus boarding', 'quite quick', 'quite quick', 'boarding gate', 'boarding gate', 'boarding gate', 'boarding gate', 'boarding gate', 'boarding gate', 'boarding gate', 'excellent lounge', 'excellent lounge', 'excellent lounge', 'internet offered', '23 kilos', 'checked right', 'luggage delivery', 'hand luggage', 'hand luggage', 'hand luggage', 'hand luggage', 'hand luggage', 'pleasant airport', 'food served', 'food served', 'bag drop', 'bag drop', 'bag drop', 'terminal looks', 'another concourse', 'ourser next', 'next stage', 'next obstacle', 'one bag', 'final delivery', 'final delivery', 'quick checkin', 'two get', 'munich lufthansa', 'time low', 'time indicated', 'time indicated', 'fantastic airport', 'best airport', 'best airport', 'regular passengers', 'elderly passengers', 'disgruntled passengers', 'allow passengers', 'quite spacious', 'ored book', 'designer valuable', 'come close', 'come close', 'also pick', 'also chaos', 'orderly boarding', 'boarding starts', 'called security', 'however airport', 'bags exit', 'airport_general seem', 'bad terminal', 'gate lounge', 'good level', 'airport takes', 'whole mass', 'useless since', 'timely connections', 'speakers since', 'previous reviewer', 'otherwise try', 'oslo otherwise', 'mass group', 'liveable city', 'infuriate visitors', 'improved since', 'experience today', 'city centre', 'city centre', '7 days', '25euro fee', '12 positions', 'flight online', 'security check', 'security check', 'security check', 'security check', 'security check', 'security check', 'security check', 'security check', 'security check', 'security check', 'security check', 'best one', 'next day', 'next day', 'next day', 'major eu', 'good airport', 'upon arrival', 'upon arrival', 'located outside', 'busy times', 'immigration control', 'immigration control', 'tagged bags', 'wing lounge', 'tv lounge', 'tap lounge', 'special lounge', 's3 lounge', 'oryx lounge', 'memorable lounge', 'lounge special', 'lounge plugs', 'lounge enjoy', 'lounge act', 'fridge lounge', 'flagship lounge', 'dnata lounge', 'dali lounge', 'aspire lounge', 'luggage de', 'even arrived', 'even arrived', 'even arrived', 'departure gate', 'departure gate', 'departure gate', 'lufthansa app', 'lufthansa app', 'still took', 'cheche piece', 'visited worse', 'lounge would', 'online yesterday', 'online purchase', 'good one', 'lufthansas passengers', 'public toilet', 'hotel menu', 'baggage tags', 'baggage tags', 'baggage tags', 'baggage limitations', 'baggage checkers', 'baggage camper', 'bag flight', 'clearly departure', '55am departure', 'priority going', 'slow boarding', 'far better', 'long queue', 'long queue', 'long queue', 'worth noting', 'worth noting', 'stampeding onto', 'quite surprising', 'quite grubby', 'lovely lady', 'la paz', 'la guardia', 'currently connected', 'ceiling onto', 'buy water', 'arrivals hall', '1015 tere', '1015 pleasent', '1015 histor', 'return world', 'still one', 'document check', 'baggage would', 'terminal c', 'gate 8', 'long time', 'long time', 'long time', 'long time', 'long time', 'indian airports', 'baa airports', 'boarding gates', 'large queue', 'heathrow experience', 'gate problems', 'miami international', 'lighting outside', 'excellent airport', 'also told', 'less concerned', 'first lugage', 'reason hand', 'skin bag', 'shoulder bag', 'gym bag', 'bag jorning', '4 aircraft', 'holiday travellers', 'departures area', 'get away', 'overall efficiency', 'overall condition', 'overall appearance', 'journey overall', 'persuade people', 'people pushed', 'people pissed', 'people misunderstand', 'people dress', 'people converging', 'people complaining', 'people complaining', '300 people', '200 people', 'despite boarding', 'despite boarding', 'book seat', 'lufthansas lounge', 'small shared', 'check us', 'hkg leg', 'stay regularly', 'mobile jetway', 'eva use', 'eva use', 'desperately needs', 'actually allocated', 'departure day', 'flight however', 'luggage area', 'bag would', 'bag would', 'permit access', 'baggage transfer', 'baggage transfer', 'baggage transfer', 'baggage transfer', 'serious problems', 'electrical problems', 't2 lufthansa', 'nice lounge', 'nice lounge', 'zurich ahead', 'zurich ahead', 'ticketing system', 'snake system', 'avianca system', 'airport flight', 'worst things', 'toilet next', 'return flight', 'return flight', 'return flight', 'return flight', 'bus airport', 'airport bus', 'eating places', 'dropped bags', 'quickly rebooked', 'provide chauffeur', 'nothing prepared', 'nothing exceptional', 'management concern', 'inspection quickly', 'best preparation', 'a380 terminal', 'waiting time', 'waiting time', 'waiting time', 'waiting time', 'time waiting', 'perfect due', 'help however', 'hard seats', 'could check', 'crew line', 'long layover', 'departure gates', 'departure gates', 'arrival terminal', 'getting worse', 'whole airport', 'washington airport', 'trenton airport', 'tijuana airport', 'stunning airport', 'split airport', 'smartest airport', 'shanghai airport', 'schiphol airport', 'penang airport', 'pearson airport', 'narita airport', 'munic airport', 'melborne airport', 'manchest airport', 'lagos airport', 'krabi airport', 'kolkata airport', 'kili airport', 'houston airport', 'horrible airport', 'gimpo airport', 'functional airport', 'fra airport', 'exciting airport', 'dxb airport', 'dublin airport', 'dublin airport', 'domodedovo airport', 'dhaka airport', 'dancen airport', 'crazy airport', 'cologne airport', 'cmb airport', 'campared airport', 'brisbane airport', 'boor airport', 'blantyre airport', 'beautiful airport', 'ataturk airport', 'almaty airport', 'airport pleasened', 'airport pilfered', 'airport lab', 'airport instead', 'airport incuding', 'airport improved', 'airport impressive', 'airport floorage', 'airport countesion', 'airport carrying', 'airport busing', 'abuja airport', 'abuja airport', 'sea took', 'return kilimanjaro', 'return journey', 'return journey', 'quite nice', 'paying customers', 'different levels', 'different channels', 'deliverytht took', 'one gate', 'aircraft seats', 'huge queue', 'easy flights', 'otherwise departures', 'nightmare started', 'must upgrade', 'online booking', 'smelling good', 'perfectly good', 'minor issue', 'icy cold', 'good view', 'good variety', 'good value', 'good connte', 'freezing cold', 'cold spot', 'cold salad', 'airport would', 'long check', 'short stay', 'clear sign', 'pretty similar', 'large suitcase', 'friday evening', 'everything else', 'lufthansa check', 'lufthansa check', 'lufthansa check', 'checked online', 'ever seen', 'ever seen', 'theme one', 'silent one', 'one gentleman', 'one bors', 'one 8mgr', 'iasi one', 'easily one', 'caust one', 'still weaker', 'still sitting', 'frankfueered still', 'also love', 'never encounter', 'short lines', 'checked baggage', 'checked baggage', 'security line', 'left running', 'best thing', 'nothing short', 'hub getaway', 'eating options', 'monday morning', 'assistance since', 'contents ground', 'would still', 'flight located', 'arrived early', 'would never', 'final lounge', 'rather dried', 'adventure rather', 'passport check', 'passport check', 'perhaps lufthansa', 'lufthansa surely', 'long way', '15 miles', 'demand placed', 'lounge closed', 'checked bag', 'checked bag', 'checked bag', 'checked bag', 'checked bag', 'checked bag', 'checked bag', 'terminal f', 'good thing', 'good thing', 'lounge getting', 'quite empty', 'small surely', 'ever visit', 'self check', 'self check', 'self check', 'self check', 'past couple', 'first visit', 'much walking', 'computers located', 'nice airport', 'nice airport', 'nice airport', 'little newspaper', 'hour layover', 'separate line', 'good used', 'pay extra', 'pay extra', 'pay extra', 'wors de', 'originally arrived', 'luggage outside', 'scanning machines', 'long walk', 'long walk', 'long walk', 'long walk', 'long walk', 'connection days', 'one counter', 'access possible', 'good opened', 'completely run', 'boarding time', 'food offering', 'lounge situation', 'one carry', 'used one', 'different seat', 'ryanair flight', 'original flight', 'flight snacks', 'flight knowing', 'flight involves', 'flight deck', 'flight attendant', 'damage flight', '0620 flight', 'ground assistance', 'extra check', 'number 4', 'bus stop', 'bus station', 'gate changes', 'gate 52', 'gate 19', 'deserve even', 'complete arrive', 'gates still', 'travel agent', 'good seat', 'also imagine', 'better job', 'finally decided', 'departures level', 'arrivals area', 'easy boarding', 'easy boarding', '” enering', '¬¨¬£¬¨¬£ 70', '¬¨¬£ 2500', 'yellow background', 'written proof', 'workout allowerplearned', 'window table', 'whatever procedures', 'weighs 7', 'weekend break', 'vice versa', 'use wi', 'ticket yesterday', 'thus rating', 'tasted awful', 'support ancoudion', 'stunning view', 'stinging criticism', 'stell troy', 'special minibus', 'southern runway', 'slip containing', 'slightly nicer', 'shanghai hongqiao', 'serious revamp', 'serious decline', 'seeking permission', 'runway operations', 'ridiculous rules', 'remain unchanged', 'reduce wait', 'reciprocal arrangement', 'recent reconstruction', 'reading material', 'rate adelaide', 'pulled pork', 'proper respect', 'proor losea', 'port louis', 'police carrried', 'partly solved', 'painful especially', 'outrageous fares', 'musical instruments', 'monorail journey', 'monea bottle', 'moment adding', 'metal detectors', 'mastanl clail', 'makes usage', 'magazibne supply', 'lima peru', 'latest engineering', 'kram loute', 'kansas kci', 'juice dispensers', 'italian lakes', 'inh upreaned', 'iah', 'horrendous', 'horrendous', 'help soothe', 'heavily fogged', 'grim upholstery', 'fun stuff', 'fra googgagaht', 'flew egyptair', 'february 20th', 'favourable response', 'ey tunnels', 'extreme noise', 'existing runway', 'excessive amount', 'exactly informed', 'encountered unexpected', 'efficiency innovation', 'eastern africa', 'east midlands', 'easily achieved', 'dunkin dounts', 'doctor attended', 'demand especially', 'dec 20th', 'cynical view', 'countries awful', 'consistent product', 'considerable distance', 'computer station', 'company owning', 'collent pilforned', 'clearly written', 'clearly specified', 'cleanliness architecture', 'cleaning polices', 'cash cow', 'case piece', 'buying snacks', 'bun fight', 'buenos aires', 'brief stop', 'blame baa', 'beyond', 'appropriate guests', 'airside', 'airbus a321', 'airbridgefgld smiler', '23kg max', '200 feet', '150', '12th april', '00 pm', 'bags one', 'ground care', 'lufthansas located', 'munich airport', 'munich airport', 'even find', 'clear customs', 'way behind', 'enough toilets', 'would suggest', 'would estimate', 'would allow', 'pram would', 'checked one', 'layover passengers', 'finally gave', 'eventually got', 'get overwhelmed', 'warned us', 'us passports', 'one toilet', 'well stocked', 'well staffed', 'well administered', 'punches well', 'long night', 'board belt', 'lufthansas flight', 'etc', 'etc', 'vienna airport', 'vienna airport', 'vienna airport', 'vienna airport', 'checkin time', 'final issue', 'first top', 'take much', 'luggage weight', 'luggage weight', 'luggage weight', 'confusing directions', 'high traffic', '20 steps', 'example standards', 'get us', 'simply open', 'thing waitening', 'strange thing', 'look like', 'quite easy', 'good enough', 'us board', 'airport showers', 'modern city', 'could divide', 'slow walker', 'perpetually slow', 'almost hidden', 'seen even', 'lufthansas lufthanders', 'lufthansas admiral', 'latin lufthansas', 'flying lufthansas', 'flying lufthansas', 'consequently lufthansas', 'terminal e', 'terminal e', 'time allowance', 'j counter', 'complete joke', 'flight despite', 'problems using', 'passengers traffic', 'return got', 'ask staff', 'carry ons', 'amazing job', 'used plates', 'regularly used', 'going slower', 'fast check', 'fast check', 'smooth process', 'nice view', 'nice touch', 'assistance given', 'soft opened', 'cnangig gates', 'final world', 'already closed', 'passenger need', 'could get', 'could get', 'could get', 'desk looked', 'nothing seems', 'waiting line', 'line waiting', 'overpriced like', 'included surt', 'included incredion', 'front asking', 'online check', 'online check', 'online check', 'online check', 'online check', 'online check', 'online check', 'online check', 'online check', 'online check', 'online check', 'online check', 'online check', 'online check', 'online check', 'online check', 'online check', 'online check', 'online check', 'online check', 'online check', 'online check', 'online check', 'online check', 'online check', 'online check', 'major complaint', 'seat assignments', 'seat assignment', 'seat 48g', 'seat 10f', 'isle seat', 'confirmed seat', 'airport shared', 'tedious booking', 'stefe everything', 'load bags', 'frankfrutten bags', 'lounge invitation', 'interesting lounge', 'good connection', 'airport seems', 'airport seems', 'quite modern', 'terminal muc', 'terminal catch', 'told us', 'told us', 'findend contents', 'contents came', 'renter checked', 'incorrectly checked', 'checked anythis', 'flight uses', 'bag arrived', 'enter lack', 'distinct lack', 'passport number', 'passport booth', 'comfortable enough', 'getting located', 'rather disappointed', 'refreshing shower', 'recently reopened', 'doncaster recently', 'baggage pulls', 'baggage fees', 'transfer gates', 'flight back', 'accept flights', 'easy airport', 'easy airport', 'bus back', 'one time', 'one time', 'think lufthansa', 'worst part', 'windows onto', 'quite hard', '8 arrivals', 'always travel', 'skinners come', 'airport arrival', 'closed gate', 'ul uses', 'trolly available', 'spirit website', 'million things', 'empty stomachs', 'brs website', 'sitting luggage', 'shath luggage', 'luggage tags', 'luggage refrain', 'luggage crams', 'luggage came', 'luggage came', 'luggage came', 'luggage came', 'luggage came', 'luggage acks', 'luggage ackny', 'coss luggage', 'lufthansas desk', 'frankfurt airport', 'frankfurt airport', 'frankfurt airport', 'frankfurt airport', 'frankfurt airport', 'fine flight', 'travel lufthansa', 'final issun', 'final destination', 'final destination', 'final destination', 'final crink', 'never saw', 'pod back', 'chucked back', 'came back', 'hard bag', 'bag fees', 'arrivals level', 'arrivals level', 'delhi airport', 'cannot check', 'originally chose', 'filthy state', 'especially missed', 'club', 'vienna shorsenge', 'scare enough', 'real bar', 'needshal enough', 'disappointing lounge', 'located damaged', 'customs check', 'getting help', 'getting bumped', 'lounge clean', 'zurich always', 'physically fine', 'fine sincettion', 'part since', 'airport check', 'modern airport', 'modern airport', 'smartphone app', 'done minahe', 'return check', 'lounges prefer', 'connection flight', 'change gates', 'bus connection', 'got ugly', 'got picked', 'finally spided', 'finally descending', 'even relax', 'even relax', 'frankfurt hub', 'immigration lines', 'transfer luggage', 'boarding line', 'excellent views', 'luggage thing', 'worse spread', 'tried twice', 'require adapters', 'jet bridge', 'care bet', 'flight time', 'almost empty', 'almost empty', 'mention security', 'recently opened', 'quite clean', 'seat change', 'airport today', 'sydney return', 'far superior', 'far superior', 'far cry', 'far cry', 'different occasions', 'benchmark far', 'side rather', 'happy crew', 'rather pay', 'ridiculous queue', 'queue suitepressed', 'queue shortened', 'enormous queue', 'checked bags', 'checked bags', 'checked bags', 'checked bags', 'nice things', 'quick check', 'quick check', 'sit next', 'shared amongst', 'damaged anythin', 'front seats', 'could write', 'get worse', 'people made', 'time written', 'time consuming', 'roided time', 'largest time', 'conve time', 'view seems', 't1 seems', 'poz seems', 'bit overweight', 'bit dated', 'tarmac waiting', 'tarmac waiting', 'busy lounge', 'busy lounge', 'whilst one', 'one point', 'one point', 'one end', 'one end', 'bags come', 'never ended', 'passport problem', 'always rely', 'always amazed', 'take one', 'airport t3', 'yes wade', 'walking impairments', 'unknown reason', 'strange reason', 'stand true', 'requiring improvement', 'promo code', 'previous reviews', 'poorly served', 'machine scared', 'lhr return', 'issues', 'fun eating', 'encountered anywhere', 'classic', 'avoidable reason', 'afternoon volume', 'excellent check', 'airport_general offered', 'contents luggage', 'paid seats', 'flight landed', 'luggage checked', 'checked luggage', 'recent arrival', 'totally taken', 'barely make', 'roomy lounge', 'lounge manager', 'galaxy lounge', 'bus arrived', 'eventually found', 'eventually found', 'car', 'car', 'lufthansas connection', 'counters opened', 'one advantage', 'board sign', 'case lufthansas', 'avoid dfw', 'side witht', 'short time', 'pay amd10000', 'efficient pleasant', 'apparently despite', 'baggage tag', 'baggage carousel', 'come back', 'bush arrived', 'arrived clowing', 'umpleasant place', 'suitcase rated', 'quite stressful', 'manager decided', 'incredibly difficult', '1015 missed', 'desk said', 'receiving bags', 'made one', 'different concourse', 'got checked', 'got checked', 'easy transfer', 'web check', 'unmanned check', 'town check', 'ryanair check', 'moment check', 'luftshansa check', 'kiosk check', 'check carefully', 'barajas check', 'automated check', 'a321 check', 'almost half', 'go smoothly', 'top lufthansa', 'connection bags', 'may continental', 'queues', 'queues', 'queues', 'queues', 'queues', 'believe services', 'personal bag', 'nice improvement', 'departing gate', 'different line', 'xray scanner', 'wors togate', 'valuable goods', 'slippers provided', 'slightly unnerving', 'public transport', 'perhaps stick', 'monday lunchtime', 'interesting monorail', 'heads whilst', 'hard terminalitied', 'flying hkg', 'eu destination', 'ended paying', 'none', 'lh fault', 'issued', 'issued', 'corner', 'spacious clean', 'spacious clean', 'full plane', 'expected better', 'busy airport', 'never found', 'used frankfurt', 'zurich days', 'jet way', 'becoming way', 'asier way', 'luggage receiving', 'luggage care', 'excellent start', 'excellent job', 'departing flort', 'aircraft reds', 'actual aircraft', '300 aircraft', 'air', 'management need', 'terminal 2f', 'case come', 'time departures', 'get access', 'slow check', 'slow check', 'easy change', 'lufthansas check', 'lufthansas check', 'connection back', 'alliance', 'dfw flight', 'colombo airport', 'airport pick', 'add airport', 'tickets', 'tickets', 'smooth beginning', 'nice place', 'finally got', 'finally got', 'finally got', 'finally got', '50m walk', 'arrival shower', 'went online', 'online went', 'bags arrived', 'bags arrived', 'bags arrived', 'bags arrived', 'bags arrived', 'within', 'similar countries', 'mule heathrow', 'made lad', 'biggest wish', 'associated dfw', 'would upgrade', 'board took', 'board took', 'check bags', 'f gates', 'included going', 't3 day', 'istanbul hub', 'especially enjoyed', 'place lack', 'looks modern', 'confusing airport', 'rather dark', 'designed systef', 'luggage arrived', 'luggage arrived', 'luggage arrived', 'luggage arrived', 'luggage arrived', 'luggage arrived', 'luggage arrived', 'short walk', 'want access', 'sunday night', 'ridiculous compared', 'plus', 'fri night', 'coffee', 'coffee', 'confusing still', 'confusing still', 'efficient manner', 'efficient loading', 'zurich fantastic', 'aircraft bags', 'allowed 20kg', 'well designed', 'special line', 'piccadilly line', 'line towards', 'paid passengers', 'extra charge', 'zurich airport', 'zurich airport', 'zurich airport', 'zurich airport', 'code shared', 'edmonton airports', 'nice clean', 'seen one', 'never seen', 'concourse lufthansas', 'way back', 'way back', 'way back', 'way back', 'till', 'ticket number', 'thankfully rescued', 'straight forward', 'split maybe', 'sorry excuse', 'somewhere', 'similarly painless', 'shoes', 'september 2014', 'saving money', 'required help', 'mistakenly entering', 'leaving', 'leaving', 'leaving', 'leaving', 'las vegas', 'intrusive noise', 'increasing numbers', 'honest', 'gladly accepted', 'german newspapers', 'frankfort germany', 'fra muc', 'firstly', 'ey sort', 'experienced', 'experienced', 'european region', 'dublin passports', 'disaster rivaled', 'denver', 'chengdu', 'cars entering', 'became apparent', 'anyone came', 'advance everything', 'accomodates crowds', 'absolute chaos', '45000 miles', 'want one', 'result booked', 'everyone else', 'nearly time', 'would say', 'would say', 'would say', 'would need', 'would miss', 'time arrived', 'already went', 'get help', 'get held', 'get held', 'get accompanied', 'europe lga', 'board resulted', 'hope never', 'apparently soon', 'walk back', 'walk back', 'lasy course', 'course varig', 'rome airport', 'manchester airport', 'jfk airport', 'would get', 'take care', 'immigration counters', 'connection point', 'would think', 'travel agency', 'helpful plenty', 'coming back', 'short escalator', 'short distances', 'almost missed', 'bad part', 'easy check', 'easy check', 'one review', 'missing bag', 'lost thousands', 'lost thisenge', 'visited hundreds', 'total mess', 'told hen', 'move inside', 'attendant told', 'real disappointment', 'showers clean', 'size airports', 'find lufthansas', 'zurich switzerland', 'top airport', 'thing confusing', 'shorter', 'poorly managed', 'booking reference', 'attendent managed', 'anybody travelling', '17hours travelling', 'still plane', 'sydney landed', 'seating', 'seating', 'seating', 'seating', 'seating', 'seating', 'pay bar', 'visit suffer', 'recently refurbished', 'problem treating', 'lets hope', 'hope melbourne', 'acute problem', 'finally found', 'similar time', 'departures opening', 'counter checking', 'icelandair flight', 'gate k', 'wireless available', 'pre purchasing', 'near', 'luggage remained', 'luggage im', 'go figure', 'simply unable', 'made aware', 'made aware', 'far compared', 'soon going', 'point going', 'sent back', 'cannot understand', 'arrival made', 'limited', 'limited', 'limited', 'limited', 'followed', 'white lettering', 'somehow felt', 'sadly farcical', 'monitor showed', 'loading zone', 'jammed packed', 'important hubs', 'haneda virtually', 'gotogate forget', 'immigration officers', 'get back', 'get back', 'get back', 'plane flight', 'got lucky', 'got lucky', 'got instructions', 'anyone got', 'front 19a', '30', '30', '30', '30', 'busy time', 'busy time', 'counters face', 'confirmation tried', 'clerk tried', 'allowed inside', 'side part', 'plane worsters', 'plane preboarded', 'plane pile', 'plane closer', 'floor', 'everyone agrees', 'finally get', 'total upgrade', 'lost luggage', 'finally board', 'take advantage', 'top ote', 'top aroutenated', 'sat flight', 'paid push', 'bit understaffed', 'bit confused', 'customer', 'doors opened', 'via', 'stuck sleeping', 'reservation code', 'mess newspapers', 'mean print', 'loud announcements', 'lineups based', 'lax', 'equipped', 'details', 'bring equipment', 'bright inside', 'th arriving', 'would expect', 'would agree', 'central europe', 'front desk', 'lugage side', 'know whether', 'shower door', 'finale arrived', 'systems', 'restaurants', 'paris cdg', 'emirates', 'go back', 'go back', 'go back', 'go back', 'slowest check', 'went directly', 'yet', 'yet', 'together', 'agents', '3', '3', '3', '3', 'wife described', 'making', 'making', 'finally arrive', 'though', 'though', 'recently flown', 'american', '50', 'know included', 'walk miles', 'business', 'business', 'business', 'business', 'business', 'business', 'business', 'business', 'transfer option', 'person', 'person', 'person', 'faster', 'around', 'plenty time', 'usa hands', 'confusion toget', 'challenge finding', 'bright clean', 'bright clean', 'arriving back', 'frankfurt go', 'united', 'united', 'united', '10', '10', '10', 'travelled back', 'bathroom line', 'minutes', 'minutes', 'unfriendly check', 'outbound check', 'usual', 'u', 'tvs', 'surprised', 'surprised', 'surprised', 'surprised', 'spotless', 'samui', 'samui', 'rows', 'relatives pick', 'reception turned', 'rear end', 'queuing', 'qatar', 'provides', 'previously', 'per', 'per', 'parked', 'parked', 'pain', 'obviously', 'normally', 'months', 'months', 'london', 'london', 'london', 'internet', 'hilton', 'free', 'free', 'free', 'free', 'free', 'free', 'free', 'free', 'departed', 'departed', 'credit', 'caused', 'besides', 'austrian', 'austrian', 'apart', 'amsterdam reason', 'plane arrived', 'service', 'service', 'service', 'service', 'service', 'service', 'service', 'service', 'service', 'service', 'service', 'service', 'service', 'hardly find', 'find mine', 'new', 'new', 'new', 'new', 'plane pulls', 'without', 'without', 'upgrade list', '5', '5', '5', '5', 'terrible', 'terrible', 'terrible', 'terrible', 'started', 'started', 'row', 'zurich relatives', 'past', 'past', 'plane made', 'navigate check', 'seemed', 'international', 'international', 'less', 'wine', 'wine', 'parking', 'parking', 'parking', 'drinks', 'drinks', 'drinks', 'drinks', 'drinks', 'design', 'design', 'straightforward layout', 'filthy tip', 'really', 'shops', 'shops', 'later', 'checks', 'airlines', 'airlines', 'airlines', 'airlines', 'airlines', 'airlines', 'airlines', 'airlines', 'airlines', 'airlines', 'airlines', 'old', 'old', 'old', 'great', 'great', 'connect compared', 'works', 'works', 'works', 'works', 'works', 'uk', 'uk', 'uk', 'two', 'two', 'two', 'two', 'cram', 'member', 'member', 'member', 'member', 'hot', 'allowed size', 'staff', 'staff', 'staff', 'staff', 'staff', 'staff', 'staff', 'staff', 'staff', 'staff', 'staff', 'staff', 'staff', 'staff', 'staff', 'staff', 'staff', 'staff', 'staff', 'staff', 'staff', 'staff', 'staff', 'last', 'last', '1', '1', '1', '1', '1', '1', 'also', 'also', 'also', 'also', 'also', 'also', 'also', 'week', 'tam', 'standards', 'standards', 'probably', 'probably', 'pax', 'pax', 'easyjet', 'double', 'direction', 'calls', 'calls', 'base', 'ahead', '45', 'hours', 'hours', 'hours', 'hours', 'hours', 'dubai', 'dubai', 'dubai', 'dubai', 'dubai', 'dubai', 'dubai', 'dubai', 'dubai', 'another', 'another', 'another', 'airline', 'airline', 'airline', 'airline', 'airline', 'times', 'times', 'times', 'expensive', 'expensive', 'expensive', 'expensive', 'expensive', 'away', 'delay', 'delay', 'delay', 'domestic', 'domestic', 'complete', 'complete', 'complete', 'ever', 'ever', 'ever', 'ever', 'ever', 'ever', 'ever', 'first', 'first', 'first', 'first', 'first', 'first', 'first', 'first', 'first', 'first', 'first', 'first', 'first', 'first', 'first', 'first', 'first', 'first', 'transit', 'therefore', 'status', 'status', 'status', 'shopping', 'schedule', 'remote', 'price', 'mobile', 'mobile', 'might', 'learned', 'klm', 'klm', 'insist', 'general', 'following', 'entered', 'entered', 'delta', 'cost', 'cost', 'cost', 'become', 'like', 'like', 'like', 'like', 'like', 'like', 'like', 'like', 'like', 'like', 'like', 'like', 'like', 'like', 'like', 'like', 'like', '2', '2', '2', '2', '2', '2', '2', '2', 'selection', 'non', 'non', 'non', 'train', 'train', 'printed', '20', 'many', 'many', 'many', 'many', 'third', 'third', 'least', 'least', 'least', 'least', 'euros', 'designer', 'convenient', 'convenient', 'crew', 'crew', 'late', 'late', 'late', 'experience', 'experience', 'experience', 'experience', 'experience', 'experience', 'experience', 'control', 'year', 'year', 'year', 'signage', 'signage', 'offers', 'information', 'information', '15', '15', 'home', 'home', 'home', 'home', 'waited', 'waited', 'swiss', 'cramped', 'cramped', 'cramped', 'cramped', 'areas', 'areas', 'areas', 'areas', 'little', 'little', 'security', 'security', 'security', 'security', 'security', 'security', 'security', 'security', 'security', 'security', 'security', 'security', 'security', 'security', 'security', 'security', 'security', 'security', 'security', 'security', 'security', 'security', 'security', 'security', 'security', 'security', 'security', 'security', 'security', 'security', 'security', 'security', 'security', 'security', 'security', 'security', 'security', 'security', 'security', 'terminals', 'terminals', 'terminals', 'hold', 'hold', 'friendly', 'friendly', 'friendly', 'big', 'big', 'big', 'big', 'big', 'although', 'although', 'although', 'although', 'although', 'food', 'food', 'food', 'food', 'food', 'food', 'food', 'food', 'food', 'food', 'food', 'food', 'food', 'food', 'food', 'food', 'food', 'food', 'food', 'food', 'food', 'food', 'food', 'food', '4', '4', '4', '4', 'priority', 'even', 'even', 'even', 'even', 'even', 'even', 'even', 'even', 'even', 'varied', 'twice', 'true', 'tiles', 'sometimes', 'sgn', 'set', 'separate', 'seated', 'remains', 'reduce', 'quality', 'quality', 'quality', 'quality', 'planes', 'planes', 'particular', 'overcrowded', 'overcrowded', 'often', 'must', 'must', 'moving', 'meet', 'manchas', 'low', 'low', 'low', 'leg', 'leg', 'interact', 'individual', 'india', 'iad', 'hall', 'hall', 'give', 'give', 'fresh', 'envious', 'directions', 'delice', 'dedicated', 'copenhagen', 'convenience', 'construction', 'clothing', 'clothing', 'choice', 'choice', 'charles', 'changi', 'champagne', 'chairs', 'catering', 'careful lots', 'belt', 'beijing', 'bars', 'b', 'appealing', 'ages', '40', 'us', 'us', 'us', 'us', 'us', 'us', 'us', 'us', 'us', 'us', 'us', 'seats', 'seats', 'seats', 'seats', 'seats', 'seats', 'seats', 'seats', 'seats', 'seats', 'seats', 'seats', 'seats', 'seats', 'seats', 'seats', 'airport_general', 'airport_general', 'airport_general', 'airport_general', 'airport_general', 'airport_general', 'airport_general', 'airport_general', 'airport_general', 'airport_general', 'airport_general', 'airport_general', 'six', 'six', 'six', 'could', 'could', 'could', 'could', 'could', 'could', 'could', 'could', 'could', 'could', 'could', 'could', 'could', 'could', 'could', 'could', 'could', 'could', 'could', 'could', 'could', 'trying', 'trying', 'trying', 'trying', 'services', 'services', 'hand', 'hand', 'hand', 'hand', 'delivery', 'know know', 'always', 'always', 'always', 'always', 'always', 'always', 'always', 'always', 'always', 'passenger', 'passenger', 'passenger', 'passenger', 'morning', 'morning', 'morning', 'morning', 'long', 'long', 'long', 'long', 'long', 'long', 'long', 'long', 'long', 'long', 'long', 'long', 'long', 'long', 'long', 'better', 'better', 'better', 'better', 'better', 'better', 'better', 'better', 'better', 'better', 'lufthansa', 'lufthansa', 'lufthansa', 'lufthansa', 'lufthansa', 'lufthansa', 'lufthansa', 'lufthansa', 'lufthansa', 'lufthansa', 'lufthansa', 'lufthansa', 'lufthansa', 'lufthansa', 'lufthansa', 'lufthansa', 'lufthansa', 'lufthansa', 'lufthansa', 'lufthansa', 'lufthansa', 'lufthansa', 'lufthansa', 'lufthansa', 'lufthansa', 'lufthansa', 'lufthansa', 'lufthansa', 'lufthansa', 'lufthansa', 'lufthansa', 'lufthansa', 'lufthansa', 'lufthansa', 'lufthansa', 'lufthansa', 'lufthansa', 'lufthansa', 'lufthansa', 'lufthansa', 'lufthansa', 'lufthansa', 'lufthansa', 'lufthansa', 'lufthansa', 'lufthansa', 'lufthansa', 'lufthansa', 'lufthansa', 'lufthansa', 'lufthansa', 'lufthansa', 'toronto', 'toronto', 'standing', 'standing', 'room', 'room', 'right', 'right', 'right', 'places', 'places', 'large', 'large', 'large', 'large', 'large', 'large', 'large', 'kept', 'fare', 'fare', 'complained', 'complained', 'close', 'close', 'changed', 'changed', 'changed', 'changed', 'cabin', 'cabin', '9', '9', 'terminal', 'terminal', 'terminal', 'terminal', 'terminal', 'terminal', 'terminal', 'terminal', 'terminal', 'terminal', 'terminal', 'terminal', 'terminal', 'terminal', 'terminal', 'terminal', 'terminal', 'terminal', 'terminal', 'terminal', 'terminal', 'terminal', 'terminal', 'terminal', 'terminal', 'terminal', 'terminal', 'terminal', 'terminal', 'terminal', 'terminal', 'terminal', 'terminal', 'terminal', 'small', 'small', 'small', 'small', 'small', 'small', 'small', 'small', 'small', 'small', 'small', 'small', 'small', 'small', 'small', 'due', 'due', 'due', 'due', 'due', 'due', 'passport', 'passport', 'full', 'form', 'form', 'form', 'form', 'feel', 'feel', 'early', 'early', 'early', 'early', 'early', 'de', 'de', 'flights', 'flights', 'flights', 'flights', 'flights', 'flights', 'flights', 'flights', 'flights', 'flights', 'waiting', 'waiting', 'waiting', 'waiting', 'waiting', 'waiting', 'waiting', 'waiting', 'self', 'self', 'exit', 'exit', 'exit', 'exit', 'duty', 'duty', 'duty', 'open', 'open', 'open', 'open', 'open', 'open', 'open', 'open', 'open', 'warm', 'upstairs', 'upstairs', 'upgraded', 'unlike', 'trouble', 'trip', 'trip', 'trip', 'trip', 'trip', 'tagged', 'state', 'smoothly', 'site', 'saying', 'recommend', 'recommend', 'quiet', 'quiet', 'quiet', 'providing', 'position', 'older', 'note', 'mid', 'ins', 'huge', 'huge', 'hour', 'hour', 'hour', 'hour', 'hour', 'hour', 'hour', 'hour', 'hour', 'hour', 'fly', 'fly', 'fly', 'fly', 'fly', 'fly', 'extra', 'extra', 'electric', 'depends', 'competing', 'competing', 'certainly', 'certainly', 'busier', 'amazing', 'amazing', 'ai', 'booked', 'booked', 'booked', 'booked', 'booked', 'booked', 'booked', 'booked', 'booked', 'booked', 'booked', 'booked', 'booked', 'booked', 'booked', 'claim', 'lounges', 'lounges', 'lounges', 'lounges', 'lounges', 'lounges', 'lounges', 'lounges', 'lounges', 'lounges', 'lounges', 'lounges', 'lounges', 'lounges', 'lounges', 'lounges', 'lounges', 'lounges', 'lounges', 'lounges', 'lounges', 'lounges', 'lounges', 'lounges', 'years', 'years', 'years', 'sure', 'sure', 'sure', 'sure', 'sure', 'area', 'area', 'area', 'area', 'area', 'area', 'area', 'area', 'much', 'much', 'much', 'much', 'much', 'much', 'much', 'worse', 'worse', 'reaching', 'process', 'process', 'process', 'process', 'process', 'procedure', 'procedure', 'ba', 'worst', 'worst', 'worst', 'worst', 'worst', 'worst', 'worst', 'worst', 'machines', 'machines', 'machines', 'high', 'passengers', 'passengers', 'passengers', 'passengers', 'passengers', 'passengers', 'passengers', 'passengers', 'passengers', 'passengers', 'passengers', 'passengers', 'passengers', 'passengers', 'passengers', 'passengers', 'passengers', 'passengers', 'passengers', 'passengers', 'passengers', 'passengers', 'passengers', 'book', 'book', 'book', 'book', 'book', 'boarding', 'boarding', 'boarding', 'boarding', 'boarding', 'boarding', 'boarding', 'boarding', 'boarding', 'boarding', 'boarding', 'boarding', 'boarding', 'boarding', 'boarding', 'boarding', 'boarding', 'boarding', 'boarding', 'boarding', 'boarding', 'boarding', 'boarding', 'boarding', 'boarding', 'boarding', 'boarding', 'boarding', 'boarding', 'boarding', 'boarding', 'boarding', 'boarding', 'boarding', 'boarding', 'boarding', 'boarding', 'boarding', 'boarding', 'boarding', 'boarding', 'boarding', 'boarding', 'boarding', 'boarding', 'boarding', 'boarding', 'visitors', 'standard', 'standard', 'standard', 'standard', 'someone', 'someone', 'slower', 'since', 'since', 'since', 'since', 'since', 'since', 'since', 'since', 'shuttle', 'shuttle', 'lga', 'elevators', 'dropped', 'definitely', 'definitely', 'definitely', 'definitely', 'days', 'days', 'connections', 'connections', 'connections', 'connections', 'city', 'city', 'chaotic', 'berlin', '12', 'fast', 'fast', 'fast', 'fast', 'fast', 'fast', 'fast', 'fast', 'fast', 'fast', 'fast', 'fast', 'lounge', 'lounge', 'lounge', 'lounge', 'lounge', 'lounge', 'lounge', 'lounge', 'lounge', 'lounge', 'lounge', 'lounge', 'lounge', 'lounge', 'lounge', 'lounge', 'lounge', 'lounge', 'lounge', 'lounge', 'lounge', 'lounge', 'lounge', 'lounge', 'lounge', 'lounge', 'lounge', 'lounge', 'lounge', 'lounge', 'lounge', 'lounge', 'lounge', 'lounge', 'lounge', 'lounge', 'lounge', 'lounge', 'lounge', 'lounge', 'lounge', 'lounge', 'lounge', 'lounge', 'lounge', 'lounge', 'lounge', 'lounge', 'lounge', 'lounge', 'lounge', 'lounge', 'lounge', 'lounge', 'lounge', 'lounge', 'lounge', 'lounge', 'lounge', 'lounge', 'lounge', 'lounge', 'lounge', 'lounge', 'lounge', 'lounge', 'lounge', 'lounge', 'lounge', 'lounge', 'lounge', 'lounge', 'lounge', 'lounge', 'lounge', 'lounge', 'lounge', 'lounge', 'lounge', 'lounge', 'lounge', 'lounge', 'lounge', 'lounge', 'lounge', 'lounge', 'lounge', 'lounge', 'lounge', 'lounge', 'lounge', 'lounge', 'lounge', 'lounge', 'lounge', 'lounge', 'lounge', 'lounge', 'lounge', 'lounge', 'lounge', 'lounge', 'lounge', 'lounge', 'lounge', 'lounge', 'lounge', 'lounge', 'lounge', 'lounge', 'lounge', 'lounge', 'lounge', 'lounge', 'lounge', 'lounge', 'lounge', 'lounge', 'lounge', 'lounge', 'lounge', 'lounge', 'lounge', 'lounge', 'lounge', 'lounge', 'lounge', 'lounge', 'lounge', 'lounge', 'lounge', 'lounge', 'lounge', 'lounge', 'lounge', 'lounge', 'lounge', 'lounge', 'lounge', 'lounge', 'lounge', 'lounge', 'lounge', 'lounge', 'lounge', 'lounge', 'lounge', 'lounge', 'lounge', 'lounge', 'lounge', 'lounge', 'lounge', 'lounge', 'lounge', 'lounge', 'lounge', 'lounge', 'lounge', 'lounge', 'lounge', 'lounge', 'lounge', 'lounge', 'lounge', 'lounge', 'lounge', 'lounge', 'taking', 'taking', 'taking', 'taking', 'piece', 'online', 'online', 'online', 'online', 'online', 'online', 'online', 'online', 'online', 'online', 'online', 'online', 'online', 'online', 'online', 'online', 'online', 'online', 'online', 'online', 'online', 'online', 'online', 'baggage', 'baggage', 'baggage', 'baggage', 'baggage', 'baggage', 'baggage', 'baggage', 'baggage', 'baggage', 'baggage', 'baggage', 'baggage', 'baggage', 'departure', 'departure', 'departure', 'departure', 'departure', 'departure', 'departure', 'departure', 'departure', 'departure', 'departure', 'worth', 'working', 'working', 'water', 'water', 'quite', 'quite', 'quite', 'quite', 'la', 'decided', 'decided', 'crowded', 'crowded', 'crowded', 'crowded', 'crowded', 'crowded', 'crowded', 'connected', 'baby', 'baby', 'baby', '1015', '1015', '1015', 'ground', 'ground', 'ground', 'ground', 'ground', 'ground', 'ground', 'checkin', 'checkin', 'checkin', 'checkin', 'checkin', 'checkin', 'airports', 'airports', 'airports', 'airports', 'airports', 'airports', 'airports', 'airports', 'airports', 'airports', 'airports', 'airports', 'airports', 'airports', 'airports', 'outside', 'outside', 'may', 'may', 'may', 'may', 'may', 'desks', 'desks', 'desks', 'desks', 'desks', 'desks', 'desks', 'bag', 'bag', 'bag', 'bag', 'bag', 'bag', 'bag', 'bag', 'bag', 'bag', 'bag', 'bag', 'bag', 'bag', 'bag', 'bag', 'bag', 'bag', 'bag', 'bag', 'bag', 'bag', 'bag', 'bag', 'bag', 'bag', 'bag', 'bag', 'bag', 'bag', 'bag', 'bag', 'bag', 'bag', 'pass', 'pass', 'pass', 'pass', 'pass', 'pass', 'pass', 'pass', 'overall', 'overall', 'overall', 'overall', 'overall', 'overall', 'overall', 'overall', 'overall', 'people', 'people', 'people', 'people', 'people', 'people', 'people', 'people', 'people', 'people', 'people', 'people', 'people', 'people', 'people', 'people', 'people', 'visa', 'visa', 'visa', 'use', 'use', 'use', 'use', 'use', 'use', 'use', 'use', 'use', 'use', 'use', 'use', 'use', 'use', 'use', 'use', 'use', 'use', 'use', 'use', 'use', 'use', 'use', 'use', 'use', 'use', 'use', 'use', 'stay', 'stay', 'relaxing', 'needs', 'needs', 'needs', 'needs', 'lh', 'lh', 'gave', 'gave', 'destinations', 'destinations', 'destinations', 'destinations', 'allowance', 'actually', 'actually', '8', '8', '8', '8', '8', 'access', 'access', 'access', 'access', 'access', 'access', 'access', 'access', 'problems', 'problems', 'problems', 'problems', 'problems', 'problems', 'problems', 'problems', 'problems', 'problems', 'pleasant', 'pleasant', 'pleasant', 'pleasant', 'pleasant', 'toilets', 'toilets', 'toilets', 'toilets', 'toilets', 'toilets', 'toilets', 'toilets', 'system', 'system', 'system', 'system', 'system', 'lines', 'lines', 'lines', 'quickly', 'quickly', 'provide', 'provide', 'provide', 'provide', 'provide', 'provide', 'provide', 'park', 'park', 'park', 'park', 'noticed', 'noticed', 'nothing', 'nothing', 'nothing', 'nothing', 'nothing', 'nothing', 'management', 'management', 'management', 'level', 'fantastic', 'fantastic', 'cannot', 'best', 'best', 'best', 'best', 'best', 'however', 'however', 'however', 'however', 'however', 'however', 'however', 'however', 'however', 'customs', 'customs', 'customs', 'customs', 'airport', 'airport', 'airport', 'airport', 'airport', 'airport', 'airport', 'airport', 'airport', 'airport', 'airport', 'airport', 'airport', 'airport', 'airport', 'airport', 'airport', 'airport', 'airport', 'airport', 'airport', 'airport', 'airport', 'airport', 'airport', 'airport', 'airport', 'airport', 'airport', 'airport', 'airport', 'airport', 'airport', 'airport', 'airport', 'airport', 'airport', 'airport', 'airport', 'airport', 'airport', 'airport', 'airport', 'airport', 'airport', 'airport', 'airport', 'airport', 'airport', 'airport', 'airport', 'airport', 'airport', 'airport', 'airport', 'airport', 'airport', 'airport', 'airport', 'airport', 'airport', 'airport', 'airport', 'airport', 'airport', 'airport', 'airport', 'airport', 'airport', 'airport', 'airport', 'airport', 'airport', 'airport', 'airport', 'airport', 'airport', 'airport', 'airport', 'airport', 'airport', 'airport', 'airport', 'airport', 'airport', 'airport', 'airport', 'airport', 'airport', 'airport', 'airport', 'airport', 'airport', 'airport', 'airport', 'airport', 'airport', 'airport', 'airport', 'airport', 'airport', 'airport', 'airport', 'airport', 'airport', 'airport', 'airport', 'airport', 'airport', 'airport', 'airport', 'airport', 'airport', 'airport', 'airport', 'airport', 'airport', 'airport', 'airport', 'airport', 'airport', 'airport', 'airport', 'airport', 'airport', 'airport', 'airport', 'airport', 'airport', 'airport', 'airport', 'airport', 'airport', 'airport', 'airport', 'airport', 'airport', 'airport', 'airport', 'airport', 'airport', 'airport', 'airport', 'airport', 'airport', 'airport', 'airport', 'airport', 'airport', 'airport', 'airport', 'airport', 'airport', 'airport', 'airport', 'airport', 'airport', 'airport', 'airport', 'airport', 'airport', 'airport', 'airport', 'airport', 'airport', 'airport', 'airport', 'airport', 'airport', 'airport', 'airport', 'airport', 'airport', 'airport', 'airport', 'airport', 'airport', 'airport', 'airport', 'airport', 'airport', 'airport', 'airport', 'airport', 'airport', 'airport', 'airport', 'airport', 'airport', 'airport', 'airport', 'airport', 'airport', 'airport', 'airport', 'airport', 'airport', 'torn', 'torn', 'torn', 'torn', 'took', 'took', 'took', 'took', 'took', 'took', 'took', 'took', 'took', 'took', 'took', 'took', 'took', 'took', 'took', 'takes', 'takes', 'takes', 'senator', 'senator', 'return', 'return', 'return', 'return', 'return', 'return', 'customers', 'customers', 'avoid', 'avoid', 'avoid', 'avoid', 'avoid', 'avoid', 'avoid', 'avoid', 'avoid', 'avoid', 'landing', 'landing', 'landing', 'landing', 'landing', 'issue', 'issue', 'issue', 'issue', 'helpful', 'helpful', 'helpful', 'good', 'good', 'good', 'good', 'good', 'good', 'good', 'good', 'good', 'good', 'good', 'good', 'good', 'good', 'good', 'good', 'good', 'good', 'good', 'cold', 'cold', 'cold', 'drop', 'drop', 'drop', 'drop', 'drop', 'drop', 'drop', 'weight', 'weight', 'weight', 'evening', 'evening', 'evening', 'evening', 'one', 'one', 'one', 'one', 'one', 'one', 'one', 'one', 'one', 'one', 'one', 'one', 'one', 'one', 'one', 'one', 'one', 'one', 'one', 'one', 'one', 'one', 'one', 'one', 'one', 'one', 'one', 'one', 'one', 'one', 'one', 'one', 'one', 'one', 'one', 'one', 'one', 'one', 'one', 'one', 'one', 'one', 'one', 'one', 'one', 'one', 'one', 'one', 'one', 'one', 'still', 'still', 'still', 'still', 'still', 'still', 'still', 'still', 'still', 'still', 'still', 'still', 'still', 'still', 'never', 'never', 'never', 'never', 'never', 'never', 'left', 'left', 'left', 'left', 'left', 'given', 'given', 'given', 'given', 'quick', 'quick', 'quick', 'quick', 'quick', 'quick', 'quick', 'quick', 'hub', 'hub', 'hub', 'hub', 'already', 'already', 'already', 'already', 'rather', 'rather', 'rather', 'world', 'world', 'world', 'world', 'world', 'spacious', 'spacious', 'spacious', 'spacious', 'spacious', 'spacious', 'spacious', 'excellent', 'excellent', 'excellent', 'excellent', 'located', 'located', 'located', 'located', 'located', 'located', 'located', 'located', 'comfortable', 'comfortable', 'comfortable', 'comfortable', 'comfortable', 'comfortable', 'comfortable', 'comfortable', 'comfortable', 'comfortable', 'flight', 'flight', 'flight', 'flight', 'flight', 'flight', 'flight', 'flight', 'flight', 'flight', 'flight', 'flight', 'flight', 'flight', 'flight', 'flight', 'flight', 'flight', 'flight', 'flight', 'flight', 'flight', 'flight', 'flight', 'flight', 'flight', 'flight', 'flight', 'flight', 'flight', 'flight', 'flight', 'flight', 'flight', 'flight', 'flight', 'flight', 'flight', 'flight', 'flight', 'flight', 'flight', 'flight', 'flight', 'flight', 'flight', 'flight', 'flight', 'flight', 'flight', 'flight', 'flight', 'bus', 'bus', 'bus', 'bus', 'bus', 'bus', 'bus', 'bus', 'bus', 'bus', 'bus', 'bus', 'bus', 'bus', 'bus', 'bus', 'bus', 'gate', 'gate', 'gate', 'gate', 'gate', 'gate', 'gate', 'gate', 'gate', 'gate', 'gate', 'gate', 'gate', 'gate', 'gate', 'gate', 'gate', 'gate', 'gate', 'gate', 'gate', 'gate', 'gate', 'gate', 'gate', 'gate', 'gate', 'gate', 'gate', 'gate', 'gate', 'gate', 'gate', 'gate', 'gate', 'gate', 'gate', 'yul', 'whole', 'whole', 'view', 'variety', 'vancouver', 'vancouver', 'try', 'treat', 'traveling', 'traveling', 'traveling', 'ticket', 'ticket', 'ticket', 'ticket', 'ticket', 'ticket', 'thessaloniki', 'thanks', 'talked', 'table', 'stop', 'stop', 'stop', 'stop', 'starting', 'starting', 'spectacular', 'snake', 'snacks', 'snacks', 'snacks', 'snacks', 'sitting', 'sitting', 'sin', 'shorten', 'sas', 'round', 'round', 'refuse', 'receive', 'reasonable', 'reasonable', 'ready', 'put', 'put', 'prices', 'prepared', 'premiere', 'police', 'picked', 'picked', 'picked', 'picked', 'pearson', 'passed', 'passed', 'paris', 'paris', 'paris', 'organized', 'order', 'order', 'noise', 'nobody', 'mumbai', 'mumbai', 'minimum', 'melbourne', 'meal', 'meal', 'meal', 'marked', 'makes', 'makes', 'makes', 'mail', 'larger', 'larger', 'landings', 'laid', 'knowing', 'knew', 'kiosk', 'june', 'jumped', 'jumped', 'journey', 'jet', 'isle', 'instructed', 'instead', 'instead', 'includes', 'include', 'include', 'improving', 'improving', 'improvements', 'improved', 'improved', 'improved', 'improved', 'impact', 'ignored', 'horrible', 'help', 'help', 'held', 'grand', 'girl', 'functional', 'fra', 'fra', 'forever', 'flying', 'flying', 'flying', 'flying', 'flying', 'flying', 'flying', 'flying', 'flying', 'flying', 'flybe', 'flow', 'flew', 'flew', 'flew', 'factor', 'faced', 'exiting', 'existent', 'ewr', 'ewr', 'escorted', 'enter', 'enter', 'ends', 'either', 'efficiently', 'easily', 'dublin', 'distance', 'distance', 'distance', 'disgusting', 'difficulties', 'destination', 'descend', 'delivered', 'delivered', 'delivered', 'delivered', 'delived', 'country', 'country', 'country', 'conveyor', 'collect', 'collect', 'collect', 'collect', 'clearly', 'clearly', 'cleaner', 'chicago', 'chicago', 'chair', 'capacity', 'came', 'came', 'came', 'came', 'came', 'came', 'came', 'call', 'buy', 'buy', 'building', 'building', 'breakfast', 'bottle', 'bottle', 'blues', 'bangkok', 'bali', 'backpack', 'awful', 'awful', 'attentive', 'atlantic', 'alone', 'allow', 'allow', 'allocated', 'airy', 'airy', 'airy', 'advantages', 'additional', 'accessing', '30am', '100', 'would', 'would', 'would', 'would', 'would', 'would', 'would', 'would', 'would', 'would', 'would', 'would', 'would', 'would', 'would', 'would', 'would', 'would', 'would', 'would', 'would', 'would', 'would', 'would', 'would', 'would', 'well', 'well', 'well', 'well', 'well', 'well', 'well', 'well', 'well', 'well', 'well', 'well', 'well', 'well', 'well', 'well', 'well', 'well', 'well', 'well', 'day', 'day', 'day', 'day', 'day', 'day', 'day', 'day', 'day', 'day', 'day', 'transfer', 'transfer', 'transfer', 'transfer', 'transfer', 'transfer', 'transfer', 'thing', 'thing', 'thing', 'thing', 'thing', 'thing', 'slow', 'slow', 'slow', 'slow', 'slow', 'slow', 'short', 'short', 'short', 'short', 'short', 'short', 'almost', 'almost', 'almost', 'almost', 'almost', 'almost', 'almost', 'lufthansas', 'lufthansas', 'lufthansas', 'lufthansas', 'lufthansas', 'lufthansas', 'lufthansas', 'lufthansas', 'lufthansas', 'lufthansas', 'lufthansas', 'lufthansas', 'lufthansas', 'lufthansas', 'lufthansas', 'lufthansas', 'lufthansas', 'lufthansas', 'lufthansas', 'lufthansas', 'counter', 'counter', 'counter', 'counter', 'counter', 'counter', 'counter', 'carry', 'carry', 'carry', 'carry', 'carry', 'carry', 'carry', 'carry', 'used', 'used', 'used', 'used', 'used', 'used', 'used', 'used', 'used', 'used', 'used', 'used', 'used', 'used', 'used', 'used', 'used', 'used', 'used', 'used', 'used', 'used', 'used', 'used', 'used', 'used', 'used', 'used', 'used', 'used', 'used', 'used', 'used', 'used', 'used', 'nice', 'nice', 'nice', 'nice', 'nice', 'nice', 'nice', 'nice', 'nice', 'nice', 'nice', 'nice', 'nice', 'nice', 'nice', 'nice', 'nice', 'nice', 'see', 'see', 'see', 'see', 'see', 'see', 'see', 'see', 'opened', 'opened', 'opened', 'opened', 'opened', 'gates', 'gates', 'gates', 'gates', 'gates', 'gates', 'gates', 'gates', 'gates', 'gates', 'gates', 'visited', 'visited', 'visited', 'visited', 'visited', 'visited', 'visited', 'visited', 'desk', 'desk', 'desk', 'desk', 'desk', 'desk', 'desk', 'desk', 'desk', 'desk', 'included', 'included', 'included', 'included', 'despite', 'despite', 'despite', 'despite', 'seat', 'seat', 'seat', 'seat', 'seat', 'seat', 'seat', 'seat', 'seat', 'seat', 'seat', 'seat', 'seat', 'seat', 'seat', 'seat', 'seat', 'seat', 'seat', 'seat', 'everything', 'everything', 'everything', 'booking', 'booking', 'booking', 'booking', 'bags', 'bags', 'bags', 'bags', 'bags', 'bags', 'bags', 'bags', 'bags', 'bags', 'bags', 'bags', 'bags', 'bags', 'bags', 'bags', 'bags', 'bags', 'bags', 'bags', 'bags', 'bags', 'bags', 'bags', 'bags', 'bags', 'bags', 'bags', 'bags', 'bags', 'bags', 'bags', 'bags', 'bags', 'bags', 'bags', 'bags', 'bags', 'bags', 'bags', 'bags', 'bags', 'bags', 'bags', 'bags', 'bags', 'bags', 'bags', 'bags', 'bags', 'bags', 'bags', 'bags', 'bags', 'bags', 'bags', 'bags', 'bags', 'bags', 'bags', 'bags', 'bags', 'bags', 'bags', 'bags', 'bags', 'bags', 'bags', 'bags', 'looks', 'looks', 'contents', 'contents', 'contents', 'change', 'change', 'change', 'checked', 'checked', 'checked', 'checked', 'checked', 'checked', 'checked', 'checked', 'checked', 'checked', 'checked', 'checked', 'checked', 'checked', 'checked', 'checked', 'checked', 'checked', 'checked', 'checked', 'checked', 'checked', 'checked', 'checked', 'checked', 'lack', 'lack', 'lack', 'lack', 'lack', 'lack', 'lack', 'lack', 'lack', 'lack', 'toilet', 'toilet', 'toilet', 'shower', 'shower', 'shower', 'recently', 'recently', 'possible', 'possible', 'possible', 'possible', 'possible', 'hotel', 'hotel', 'hotel', 'hotel', 'munich', 'munich', 'munich', 'munich', 'munich', 'munich', 'munich', 'munich', 'departures', 'departures', 'departures', 'departures', 'departures', 'departures', 'bad', 'bad', 'bad', 'bad', 'bad', 'bad', 'bad', 'bad', 'bad', 'come', 'come', 'come', 'come', 'come', 'come', 'come', 'come', 'come', 'come', 'website', 'website', 'website', 'uses', 'uses', 'uses', 'things', 'things', 'things', 'pre', 'pre', 'pre', 'kul', 'kul', 'kul', 'kul', 'empty', 'empty', 'clear', 'clear', 'clear', 'available', 'available', 'available', 'available', 'available', 'available', 'available', 'available', 'luggage', 'luggage', 'luggage', 'luggage', 'luggage', 'luggage', 'luggage', 'luggage', 'luggage', 'luggage', 'luggage', 'luggage', 'luggage', 'luggage', 'luggage', 'luggage', 'luggage', 'luggage', 'luggage', 'luggage', 'luggage', 'luggage', 'luggage', 'luggage', 'luggage', 'luggage', 'luggage', 'luggage', 'luggage', 'luggage', 'luggage', 'luggage', 'luggage', 'luggage', 'luggage', 'luggage', 'luggage', 'luggage', 'luggage', 'luggage', 'luggage', 'luggage', 'luggage', 'luggage', 'luggage', 'luggage', 'luggage', 'luggage', 'luggage', 'luggage', 'luggage', 'luggage', 'luggage', 'luggage', 'luggage', 'luggage', 'luggage', 'luggage', 'luggage', 'luggage', 'luggage', 'luggage', 'final', 'final', 'final', 'final', 'final', 'final', 'final', 'final', 'final', 'back', 'back', 'back', 'back', 'back', 'back', 'back', 'back', 'back', 'back', 'back', 'back', 'back', 'back', 'wi', 'wi', 'wi', 'wi', 'vienna', 'vienna', 'vienna', 'vienna', 'vienna', 'polite', 'polite', 'polite', 'polite', 'needed', 'needed', 'needed', 'needed', 'let', 'let', 'let', 'let', 'future', 'future', 'future', 'future', 'future', 'fortunately', 'fortunately', 'fortunately', 'fortunately', 'enough', 'enough', 'enough', 'drink', 'drink', 'drink', 'drink', 'closed', 'closed', 'closed', 'closed', 'closed', 'assistance', 'assistance', 'getting', 'getting', 'getting', 'getting', 'getting', 'getting', 'getting', 'getting', 'getting', 'getting', 'getting', 'fine', 'fine', 'fine', 'fine', 'fine', 'fine', 'fine', 'fine', 'showers', 'showers', 'showers', 'showers', 'showers', 'done', 'done', 'done', 'done', 'done', 'done', 'app', 'app', 'app', 'app', 'app', 'got', 'got', 'got', 'got', 'got', 'got', 'got', 'got', 'got', 'got', 'got', 'got', 'got', 'got', 'got', 'got', 'got', 'got', 'got', 'got', 'finally', 'finally', 'finally', 'finally', 'finally', 'finally', 'delayed', 'delayed', 'delayed', 'delayed', 'delayed', 'delayed', 'delayed', 'delayed', 'delayed', 'delayed', 'delayed', 'delayed', 'delayed', 'delayed', 'situation', 'situation', 'seem', 'seem', 'seem', 'require', 'require', 'require', 'receiving', 'receiving', 'disappointed', 'disappointed', 'disappointed', 'directly', 'directly', 'directly', 'counters', 'counters', 'counters', 'counters', 'counters', 'counters', 'counters', 'counters', 'counters', 'carriers', 'carriers', 'carriers', 'care', 'c', 'c', 'bridge', 'bridge', 'bridge', 'apparently', 'apparently', 'far', 'far', 'far', 'far', 'far', 'far', 'far', 'far', 'far', 'far', 'far', 'said', 'said', 'said', 'said', 'said', 'said', 'said', 'connection', 'connection', 'connection', 'connection', 'connection', 'connection', 'connection', 'connection', 'connection', 'connection', 'connection', 'connection', 'connection', 'connection', 'connection', 'connection', 'connection', 'connection', 'connection', 'connection', 'connection', 'connection', 'connection', 'queue', 'queue', 'queue', 'queue', 'queue', 'queue', 'queue', 'queue', 'queue', 'queue', 'queue', 'queue', 'queue', 'queue', 'queue', 'queue', 'queue', 'using', 'using', 'using', 'using', 'using', 'using', 'shared', 'shared', 'shared', 'shared', 'damaged', 'damaged', 'damaged', 'damaged', 'damaged', 'case', 'case', 'case', 'case', 'time', 'time', 'time', 'time', 'time', 'time', 'time', 'time', 'time', 'time', 'time', 'time', 'time', 'time', 'time', 'time', 'time', 'time', 'time', 'time', 'time', 'time', 'time', 'time', 'time', 'time', 'time', 'time', 'time', 'time', 'time', 'time', 'time', 'time', 'time', 'time', 'time', 'time', 'time', 'time', 'time', 'time', 'time', 'time', 'time', 'time', 'time', 'time', 'time', 'time', 'time', 'time', 'time', 'time', 'time', 'time', 'time', 'time', 'time', 'time', 'time', 'time', 'time', 'time', 'seems', 'seems', 'seems', 'seems', 'seems', 'ok', 'ok', 'ok', 'ok', 'ok', 'ok', 'ok', 'ok', 'ok', 'bit', 'bit', 'bit', 'bit', 'bit', 'bit', 'yes', 'yes', 'walking', 'walking', 'walking', 'walking', 'walking', 'views', 'views', 'unable', 'unable', 't2', 't2', 'surprise', 'surprise', 'surprise', 'served', 'scanning', 'saw', 'saw', 'reason', 'reason', 'reason', 'reason', 'perfect', 'perfect', 'mess', 'mean', 'mean', 'machine', 'machine', 'inside', 'improvement', 'hassle', 'hassle', 'hassle', 'half', 'half', 'eating', 'code', 'based', 'based', 'aware', 'anywhere', 'anywhere', 'afternoon', 'afternoon', 'a380', 'a380', 'easy', 'easy', 'easy', 'easy', 'easy', 'easy', 'easy', 'easy', 'easy', 'easy', 'easy', 'easy', 'easy', 'easy', 'easy', 'easy', 'easy', 'easy', 'easy', 'easy', 'easy', 'easy', 'easy', 'easy', 'easy', 'easy', 'arrival', 'arrival', 'arrival', 'arrival', 'arrival', 'arrival', 'arrival', 'arrival', 'arrival', 'arrival', 'arrival', 'arrival', 'arrival', 'arrival', 'arrival', 'arrival', 'arrival', 'arrival', 'arrival', 'make', 'make', 'make', 'make', 'make', 'make', 'make', 'make', 'make', 'make', 'make', 'make', 'make', 'make', 'make', 'make', 'make', 'make', 'make', 'make', 'make', 'make', 'make', 'make', 'make', 'make', 'make', 'make', 'make', 'make', 'make', 'make', 'frankfurt', 'frankfurt', 'frankfurt', 'frankfurt', 'frankfurt', 'frankfurt', 'frankfurt', 'frankfurt', 'frankfurt', 'frankfurt', 'frankfurt', 'frankfurt', 'frankfurt', 'frankfurt', 'frankfurt', 'frankfurt', 'frankfurt', 'frankfurt', 'frankfurt', 'frankfurt', 'frankfurt', 'frankfurt', 'frankfurt', 'frankfurt', 'frankfurt', 'frankfurt', 'frankfurt', 'frankfurt', 'frankfurt', 'frankfurt', 'frankfurt', 'frankfurt', 'frankfurt', 'side', 'side', 'nearly', 'nearly', 'nearly', 'nearly', 'nearly', 'layover', 'layover', 'layover', 'landed', 'landed', 'landed', 'delhi', 'delhi', 'delhi', 'delhi', 'delhi', 'called', 'called', 'called', 'called', 'called', 'pay', 'pay', 'pay', 'pay', 'pay', 'pay', 'pay', 'pay', 'pay', 'pay', 'pay', 'pay', 'pay', 'pay', 'pay', 'pay', 'pay', 'pay', 'pay', 'arrived', 'arrived', 'arrived', 'arrived', 'arrived', 'arrived', 'arrived', 'arrived', 'arrived', 'arrived', 'arrived', 'arrived', 'arrived', 'arrived', 'arrived', 'arrived', 'arrived', 'arrived', 'arrived', 'arrived', 'arrived', 'arrived', 'arrived', 'arrived', 'arrived', 'arrived', 'arrived', 'arrived', 'arrived', 'arrived', 'arrived', 'arrived', 'arrived', 'arrived', 'arrived', 'arrived', 'arrived', 'arrived', 'arrived', 'arrived', 'arrived', 'arrived', 'arrived', 'arrived', 'arrived', 'arrived', 'arrived', 'arrived', 'arrived', 'arrived', 'arrived', 'arrived', 'arrived', 'arrived', 'arrived', 'arrived', 'arrived', 'arrived', 'arrived', 'arrived', 'arrived', 'arrived', 'arrived', 'arrived', 'arrived', 'suitcase', 'suitcase', 'suitcase', 'suitcase', 'suitcase', 'suitcase', 'place', 'place', 'place', 'place', 'place', 'arrivals', 'arrivals', 'arrivals', 'arrivals', 'check', 'check', 'check', 'check', 'check', 'check', 'check', 'check', 'check', 'check', 'check', 'check', 'check', 'check', 'check', 'check', 'check', 'check', 'check', 'check', 'check', 'check', 'check', 'check', 'check', 'check', 'check', 'check', 'check', 'check', 'check', 'check', 'check', 'check', 'check', 'check', 'check', 'check', 'check', 'check', 'check', 'check', 'check', 'check', 'check', 'check', 'check', 'check', 'check', 'check', 'check', 'check', 'check', 'check', 'check', 'check', 'check', 'check', 'check', 'check', 'check', 'check', 'check', 'check', 'check', 'check', 'check', 'check', 'check', 'check', 'check', 'check', 'check', 'check', 'check', 'check', 'check', 'check', 'check', 'check', 'check', 'check', 'check', 'check', 'check', 'check', 'check', 'check', 'check', 'check', 'check', 'check', 'check', 'check', 'check', 'check', 'check', 'check', 'check', 'check', 'check', 'check', 'check', 'check', 'check', 'check', 'check', 'check', 'check', 'check', 'check', 'check', 'check', 'check', 'check', 'check', 'check', 'check', 'check', 'check', 'check', 'check', 'check', 'check', 'check', 'check', 'check', 'check', 'check', 'check', 'check', 'check', 'check', 'check', 'check', 'check', 'check', 'check', 'check', 'check', 'check', 'check', 'check', 'check', 'check', 'check', 'check', 'check', 'check', 'check', 'check', 'check', 'check', 'check', 'check', 'check', 'check', 'check', 'check', 'check', 'check', 'check', 'check', 'check', 'check', 'check', 'check', 'check', 'check', 'check', 'check', 'check', 'work', 'work', 'work', 'work', 'work', 'work', 'work', 'work', 'modern', 'modern', 'modern', 'modern', 'modern', 'modern', 'going', 'going', 'going', 'going', 'going', 'going', 'going', 'going', 'going', 'going', 'going', 'going', 'going', 'going', 'going', 'going', 'yvr', 'yvr', 'wors', 'windows', 'whilst', 'valuable', 'traffic', 'total', 'today', 'sydney', 'surely', 'soon', 'soon', 'soon', 'slightly', 'sfo', 'sfo', 'scanner', 'rush', 'rush', 'road', 'road', 'reception', 'received', 'received', 'read', 'read', 'pulls', 'provided', 'provided', 'provided', 'provided', 'point', 'point', 'point', 'point', 'point', 'point', 'pleased', 'pleased', 'pilonge', 'pilonge', 'perhaps', 'painful', 'opportunity', 'opportunity', 'officers', 'occasions', 'nowhere', 'nowhere', 'move', 'monday', 'message', 'message', 'lot', 'lot', 'lot', 'lot', 'lot', 'lot', 'lot', 'invitation', 'interesting', 'hkg', 'hard', 'hard', 'hard', 'hard', 'hard', 'hard', 'hard', 'gone', 'gone', 'fees', 'f', 'eu', 'ended', 'end', 'end', 'end', 'end', 'demand', 'decor', 'decor', 'costs', 'costs', 'costs', 'costs', 'cope', 'cope', 'bottom', 'bottom', 'bar', 'bar', 'bar', 'additionally', 'additionally', 'ac', 'ac', 'ac', 'ac', 'way', 'way', 'way', 'way', 'way', 'way', 'way', 'way', 'way', 'way', 'way', 'way', 'way', 'way', 'way', 'way', 'way', 'way', 'way', 'take', 'take', 'take', 'take', 'take', 'take', 'take', 'take', 'take', 'take', 'take', 'take', 'take', 'take', 'take', 'immigration', 'immigration', 'immigration', 'immigration', 'immigration', 'immigration', 'immigration', 'immigration', 'immigration', 'immigration', 'immigration', 'immigration', 'immigration', 'immigration', 'departing', 'departing', 'departing', 'departing', 'departing', 'departing', 'departing', 'departing', 'departing', 'departing', 'departing', 'departing', 'departing', 'aircraft', 'aircraft', 'aircraft', 'aircraft', 'aircraft', 'aircraft', 'aircraft', 'aircraft', 'aircraft', 'aircraft', 't3', 't3', 't3', 't3', 't3', 'smooth', 'smooth', 'smooth', 'smooth', 'lhr', 'lhr', 'lhr', 'lhr', 'advantage', 'advantage', 'advantage', 'advantage', 'walk', 'walk', 'walk', 'walk', 'walk', 'walk', 'walk', 'walk', 'walk', 'upgrade', 'upgrade', 'upgrade', 'upgrade', 'upgrade', 'upgrade', 'upgrade', 'upgrade', 'upgrade', 'upgrade', 'upgrade', 'upgrade', 'upgrade', 'upgrade', 'upgrade', 'upgrade', 'wish', 'wish', 'wish', 'usa', 'usa', 'usa', 'start', 'start', 'start', 'spent', 'spent', 'spent', 'spent', 'simply', 'simply', 'similar', 'similar', 'made', 'made', 'made', 'made', 'made', 'made', 'made', 'made', 'made', 'made', 'made', 'made', 'made', 'made', 'made', 'made', 'made', 'made', 'made', 'made', 'made', 'made', 'job', 'job', 'heathrow', 'heathrow', 'heathrow', 'heathrow', 'heathrow', 'finding', 'finding', 'finding', 'disappointing', 'disappointing', 'disappointing', 'dfw', 'dfw', 'confusion', 'confusion', 'confusion', 'coming', 'coming', 'coming', 'advance', 'advance', 'advance', 'clean', 'clean', 'clean', 'clean', 'clean', 'clean', 'clean', 'clean', 'clean', 'clean', 'clean', 'clean', 'clean', 'clean', 'clean', 'clean', 'clean', 'clean', 'clean', 'clean', 'clean', 'clean', 'clean', 'offer', 'offer', 'offer', 'offer', 'offer', 'offer', 'offer', 'offer', 'offer', 'part', 'part', 'part', 'designed', 'designed', 'designed', 'designed', 'concourse', 'concourse', 'concourse', 'found', 'found', 'found', 'found', 'found', 'found', 'found', 'found', 'found', 'found', 'found', 'found', 'found', 'found', 'found', 'found', 'found', 'found', 'found', 'found', 'found', 'found', 'night', 'night', 'night', 'night', 'night', 'compared', 'compared', 'compared', 'compared', 'compared', 'efficient', 'efficient', 'efficient', 'efficient', 'efficient', 'efficient', 'efficient', 'efficient', 'efficient', 'efficient', 'efficient', 'efficient', 'efficient', 'efficient', 'efficient', 'efficient', 'efficient', 'efficient', 'efficient', 'e', 'e', 'e', 'e', 'e', 'e', 'e', 'allowed', 'allowed', 'allowed', 'allowed', 'allowed', 'allowed', 'allowed', 'line', 'line', 'line', 'line', 'line', 'line', 'line', 'line', 'line', 'line', 'line', 'line', 'line', 'line', 'line', 'line', 'line', 'line', 'line', 'line', 'line', 'line', 'line', 'line', 'line', 'line', 'line', 'line', 'busy', 'busy', 'busy', 'busy', 'busy', 'busy', 'busy', 'busy', 'wireless', 'warned', 'wait', 'wait', 'wait', 'wait', 'wait', 'wait', 'wait', 'wait', 'wait', 'wait', 'wait', 'wait', 'wait', 'wait', 'wait', 'wait', 'wait', 'wait', 'vegas', 'unnecessary', 'unfortunately', 'unfortunately', 'unfortunately', 'unfortunately', 'unfortunately', 'understaffed', 'toget', 'thankfully', 'tag', 'stressful', 'straight', 'spread', 'sort', 'sorry', 'slowest', 'sit', 'sit', 'sit', 'sit', 'sit', 'september', 'sent', 'sent', 'sent', 'sent', 'sent', 'sent', 'sent', 'say', 'say', 'say', 'say', 'say', 'say', 'say', 'say', 'roomy', 'roll', 'roll', 'roll', 'roll', 'roll', 'reviews', 'reservation', 'required', 'remained', 'relatives', 'relatives', 'region', 'refurbished', 'reference', 'purchasing', 'procedures', 'print', 'print', 'print', 'print', 'prefer', 'power', 'pick', 'pick', 'pick', 'personal', 'passports', 'passports', 'painless', 'opening', 'offering', 'number', 'number', 'number', 'number', 'number', 'number', 'number', 'newspapers', 'newspapers', 'newspapers', 'newspaper', 'need', 'need', 'need', 'need', 'need', 'need', 'need', 'need', 'need', 'need', 'need', 'need', 'need', 'need', 'need', 'muc', 'muc', 'money', 'missed', 'missed', 'missed', 'miss', 'mine', 'miles', 'miles', 'miles', 'maybe', 'manager', 'manager', 'lugage', 'lugage', 'lucky', 'lucky', 'lineups', 'layout', 'kiosks', 'jetway', 'jetway', 'jetway', 'jetway', 'jetstar', 'istanbul', 'intrusive', 'instructions', 'increasing', 'im', 'idea', 'hundreds', 'hardly', 'hands', 'groups', 'gladly', 'germany', 'galaxy', 'friendlier', 'finale', 'filthy', 'filthy', 'fault', 'fault', 'face', 'escalator', 'entering', 'entering', 'english', 'doubt', 'divide', 'distances', 'disaster', 'deserve', 'dark', 'crowds', 'cool', 'continental', 'confused', 'completed', 'completed', 'completed', 'colombo', 'chose', 'choose', 'choose', 'choose', 'chaos', 'chaos', 'challenge', 'catch', 'carousel', 'bright', 'bright', 'bright', 'bottles', 'bother', 'booth', 'bathroom', 'apparent', 'anyone', 'anyone', 'anyone', 'anyone', 'anyone', 'anyone', 'anyone', 'add', 'accept', 'get', 'get', 'get', 'get', 'get', 'get', 'get', 'get', 'get', 'get', 'get', 'get', 'get', 'get', 'get', 'get', 'get', 'get', 'get', 'get', 'get', 'get', 'get', 'get', 'get', 'get', 'get', 'get', 'get', 'get', 'get', 'get', 'get', 'get', 'get', 'get', 'get', 'get', 'get', 'get', 'get', 'get', 'get', 'get', 'get', 'get', 'get', 'get', 'get', 'get', 'get', 'get', 'get', 'get', 'get', 'get', 'get', 'get', 'get', 'get', 'get', 'get', 'get', 'get', 'get', 'get', 'get', 'board', 'board', 'board', 'board', 'board', 'board', 'board', 'board', 'board', 'find', 'find', 'find', 'find', 'find', 'find', 'find', 'find', 'find', 'find', 'find', 'find', 'find', 'find', 'find', 'find', 'find', 'find', 'find', 'find', 'find', 'find', 'find', 'think', 'think', 'think', 'think', 'think', 'think', 'think', 'think', 'think', 'course', 'course', 'course', 'course', 'course', 'course', 'course', 'course', 'course', 'confusing', 'confusing', 'confusing', 'confusing', 'confusing', 'confusing', 'travel', 'travel', 'travel', 'travel', 'travel', 'spend', 'spend', 'spend', 'spend', 'spend', 'spend', 'improve', 'improve', 'improve', 'improve', 'improve', 'improve', 'checking', 'checking', 'checking', 'checking', 'checking', 'checking', 'checking', 'checking', 'checking', 'checking', 'checking', 'checking', 'checking', 'checking', 'checking', 'checking', 'checking', 'checking', 'lost', 'lost', 'lost', 'lost', 'lost', 'lost', 'lost', 'lost', 'lost', 'lost', 'lost', 'lost', 'lost', 'lost', 'lost', 'lost', 'lost', 'lost', 'lost', 'lost', 'lost', 'lost', 'lost', 'lost', 'lost', 'told', 'told', 'told', 'told', 'told', 'told', 'told', 'told', 'told', 'told', 'told', 'told', 'told', 'told', 'told', 'told', 'told', 'seen', 'seen', 'seen', 'seen', 'seen', 'seen', 'seen', 'asked', 'asked', 'asked', 'asked', 'asked', 'asked', 'asked', 'asked', 'asked', 'asked', 'asked', 'zurich', 'zurich', 'zurich', 'zurich', 'zurich', 'zurich', 'zurich', 'zurich', 'zurich', 'zurich', 'zurich', 'zurich', 'zurich', 'zurich', 'zurich', 'zurich', 'zurich', 'zurich', 'zurich', 'zurich', 'want', 'want', 'want', 'travelling', 'travelling', 'travelling', 'tarmac', 'tarmac', 'tarmac', 'shame', 'shame', 'shame', 'shame', 'reach', 'reach', 'reach', 'reach', 'others', 'others', 'others', 'others', 'managed', 'managed', 'managed', 'land', 'land', 'land', 'land', 'impossible', 'impossible', 'impossible', 'impossible', 'went', 'went', 'went', 'went', 'went', 'went', 'went', 'went', 'went', 'went', 'went', 'went', 'went', 'went', 'went', 'went', 'went', 'visit', 'visit', 'visit', 'visit', 'visit', 'problem', 'problem', 'problem', 'problem', 'problem', 'problem', 'problem', 'problem', 'problem', 'problem', 'problem', 'problem', 'hope', 'hope', 'hope', 'hope', 'hope', 'go', 'go', 'go', 'go', 'go', 'go', 'go', 'go', 'go', 'go', 'go', 'go', 'go', 'go', 'go', 'go', 'go', 'go', 'go', 'go', 'go', 'go', 'zone', 'zone', 'write', 'write', 'white', 'white', 'walked', 'walked', 'walked', 'walked', 'walked', 'virtually', 'virtually', 'unfriendly', 'unfriendly', 'turned', 'turned', 'transport', 'transport', 'tip', 'tip', 'taken', 'taken', 'straightforward', 'straightforward', 'steps', 'steps', 'stairs', 'stairs', 'stairs', 'stairs', 'stairs', 'showed', 'showed', 'sadly', 'sadly', 'rome', 'rome', 'review', 'review', 'rely', 'rely', 'rear', 'rear', 'plenty', 'plenty', 'plenty', 'plenty', 'packed', 'packed', 'outbound', 'outbound', 'miami', 'miami', 'match', 'match', 'manchester', 'manchester', 'love', 'love', 'list', 'list', 'k', 'k', 'jfk', 'jfk', 'jfk', 'jfk', 'jfk', 'jfk', 'jfk', 'icelandair', 'icelandair', 'hubs', 'hubs', 'forget', 'forget', 'fi', 'fi', 'fi', 'fi', 'felt', 'felt', 'edmonton', 'edmonton', 'doors', 'doors', 'door', 'door', 'concerned', 'concerned', 'complaint', 'complaint', 'arrive', 'arrive', 'arrive', 'arrive', 'arrive', 'arrive', 'arrive', 'arrive', 'arrive', 'arrive', 'arrive', 'arrive', 'arrive', 'arrive', 'arrive', 'arrive', 'arrive', 'amenities', 'amenities', 'amazed', 'amazed', 'front', 'front', 'front', 'front', 'front', 'front', 'front', 'front', 'front', 'tried', 'tried', 'tried', 'tried', 'tried', 'tried', 'tried', 'holiday', 'holiday', 'holiday', 'holiday', 'holiday', 'holiday', 'holiday', 'holiday', 'relax', 'relax', 'relax', 'relax', 'relax', 'prague', 'prague', 'prague', 'prague', 'prague', 'prague', 'plane', 'plane', 'plane', 'plane', 'plane', 'plane', 'plane', 'plane', 'plane', 'plane', 'plane', 'plane', 'plane', 'plane', 'plane', 'plane', 'plane', 'plane', 'plane', 'plane', 'plane', 'plane', 'plane', 'plane', 'plane', 'plane', 'plane', 'plane', 'plane', 'plane', 'plane', 'plane', 'plane', 'plane', 'plane', 'plane', 'plane', 'plane', 'plane', 'plane', 'plane', 'plane', 'plane', 'plane', 'plane', 'plane', 'plane', 'plane', 'plane', 'offered', 'offered', 'offered', 'offered', 'offered', 'look', 'look', 'look', 'look', 'look', 'everyone', 'everyone', 'everyone', 'everyone', 'everyone', 'top', 'top', 'top', 'top', 'top', 'top', 'top', 'top', 'top', 'top', 'top', 'top', 'top', 'paid', 'paid', 'paid', 'paid', 'paid', 'paid', 'paid', 'paid', 'stuck', 'stuck', 'stuck', 'stand', 'stand', 'stand', 'sat', 'sat', 'sat', 'overpriced', 'overpriced', 'overpriced', 'missing', 'missing', 'missing', 'mention', 'mention', 'mention', 'lots', 'lots', 'lots', 'leave', 'leave', 'leave', 'leave', 'leave', 'leave', 'leave', 'joke', 'joke', 'joke', 'imagine', 'imagine', 'imagine', 'flown', 'flown', 'flown', 'expected', 'expected', 'expected', 'expect', 'expect', 'expect', 'enjoyed', 'enjoyed', 'enjoyed', 'disappointment', 'disappointment', 'disappointment', 'connect', 'connect', 'connect', 'careful', 'careful', 'careful', 'bring', 'bring', 'bring', 'believe', 'believe', 'believe', 'announcements', 'announcements', 'announcements', 'amsterdam', 'amsterdam', 'amsterdam', 'agree', 'agree', 'agree', '2f', '2f', '2f', 'arriving', 'arriving', 'arriving', 'arriving', 'arriving', 'arriving', 'arriving', 'arriving', 'arriving', 'arriving', 'arriving', 'arriving', 'arriving', 'arriving', 'arriving', 'arriving', 'arriving', 'arriving', 'arriving', 'arriving', 'arriving', 'arriving', 'arriving', 'arriving', 'size', 'size', 'size', 'size', 'size', 'size', 'size', 'europe', 'europe', 'europe', 'europe', 'europe', 'europe', 'europe', 'know', 'know', 'know', 'know', 'know', 'know', 'know', 'know', 'know', 'know', 'know', 'know', 'know', 'know', 'know', 'understand', 'understand', 'understand', 'understand', 'travelled', 'travelled', 'travelled', 'travelled', 'nightmare', 'nightmare', 'nightmare', 'nightmare', 'lady', 'lady', 'lady', 'lady', 'happy', 'happy', 'happy', 'happy', 'example', 'example', 'example', 'example', 'difficult', 'difficult', 'difficult', 'difficult', 'charge', 'charge', 'charge', 'charge', 'cdg', 'cdg', 'cdg', 'cdg', 'result', 'result', 'result', 'result', 'result', 'option', 'option', 'option', 'option', 'option', 'navigate', 'navigate', 'navigate', 'navigate', 'navigate', 'couple', 'couple', 'couple', 'couple', 'couple', 'ask', 'ask', 'ask', 'ask', 'ask', 'wife', 'wife', 'wife', 'wife', 'wife', 'wife', 'run', 'run', 'run', 'run', 'run', 'run', 'run', 'run', '¬¨¬•', 'zrh', 'z62', 'ypur', 'yo', 'x', 'wow', 'worspried', 'worried', 'worried', 'worg', 'word', 'word', 'wor', 'wont', 'wondering', 'wondering', 'wonder', 'women', 'women', 'winnipeg', 'wineglasses', 'wild', 'wheeled', 'wheelchairs', 'wess', 'welld', 'weighed', 'weighed', 'weakped', 'wasy', 'washroom', 'wanted', 'wanted', 'wandering', 'walls', 'walls', 'wailed', 'wages', 'vlc', 'visiting', 'violin', 'viola', 'ventilated', 'various', 'v', 'users', 'uprgarded', 'updated', 'update', 'unsurprisingly', 'unsurprisingly', 'unstable', 'unprofessional', 'unlock', 'unlock', 'unfortunatelly', 'unfortunate', 'undisturbed', 'understood', 'uncrowded', 'uncomplicated', 'unaware', 'ua', 'typically', 'turns', 'turns', 'turn', 'turn', 'trunk', 'truly', 'trudging', 'trudeau', 'troublesome', 'tripping', 'tricky', 'tricky', 'travels', 'transported', 'transitioning', 'transiting', 'transiting', 'transited', 'transhipment', 'transformed', 'transferring', 'trans', 'trains', 'toniled', 'tonich', 'tone', 'tired', 'timed', 'tile', 'tiend', 'tidy', 'tidy', 'throwing', 'thrair', 'thousence', 'thought', 'thomson', 'thiss', 'thinks', 'thinking', 'thinged', 'thind', 'theres', 'theif', 'test', 'terms', 'terms', 'terms', 'terms', 'temperature', 'tell', 'technology', 'technology', 'tbi', 'tatadocomo', 'tat', 'taste', 'tasming', 'talking', 'talk', 'tait', 'taig', 'tables', 't5', 't4', 't4', 'sy', 'svo', 'suspect', 'suspect', 'surly', 'supposed', 'supposed', 'supplier', 'supervive', 'supervisor', 'supervise', 'supervise', 'summer', 'summary', 'summary', 'suikue', 'suffering', 'suffering', 'suffering', 'success', 'success', 'subjected', 'stylish', 'stylish', 'stupid', 'stumped', 'struck', 'stripped', 'strip', 'strict', 'strict', 'storge', 'stores', 'stores', 'stopped', 'stood', 'stood', 'stood', 'stood', 'stock', 'stingy', 'staying', 'stayed', 'stating', 'statement', 'stance', 'stairway', 'spoke', 'spanair', 'space', 'space', 'space', 'space', 'space', 'sow', 'southwest', 'sour', 'sory', 'sorts', 'sorrento', 'solve', 'soaring', 'snet', 'snamsht', 'snail', 'smiling', 'slowly', 'slot', 'sleep', 'sleep', 'skytrain', 'sket', 'sjo', 'situated', 'sitionating', 'sing', 'simitere', 'silly', 'silford', 'signed', 'sight', 'sient', 'shut', 'shuld', 'shows', 'showing', 'show', 'shouting', 'shortcomings', 'shortage', 'shocked', 'shock', 'shock', 'shifted', 'sheremetevo', 'shaken', 'settle', 'sett', 'serves', 'serv', 'sept', 'separated', 'seorre', 'semi', 'semi', 'sell', 'selected', 'secure', 'secure', 'searching', 'searches', 'search', 'scrum', 'scrambling', 'scheme', 'scene', 'scanned', 'sayed', 'sayed', 'saved', 'save', 'safe', 'russian', 'rushed', 'rune', 'rule', 'rule', 'ruin', 'rudeness', 'rounge', 'romp', 'riyadh', 'rip', 'riot', 'reviewed', 'retailers', 'results', 'restricted', 'rest', 'rest', 'rest', 'responds', 'reserving', 'reservations', 'rerease', 'requirement', 'requested', 'requested', 'reps', 'representative', 'report', 'report', 'repook', 'replacting', 'replact', 'replact', 'replaced', 'renovation', 'reminiscent', 'reluctant', 'relief', 'reliable', 'relative', 'regards', 'regard', 'refreshments', 'refit', 'redeem', 'recommended', 'recognise', 'recliners', 'recliners', 'recheck', 'recheck', 'recalled', 'reassigned', 'reapons', 'readination', 'readied', 'readied', 'reached', 'rdu', 'ray', 'ranged', 'ran', 'ramp', 'raming', 'rais', 'rain', 'rain', 'queued', 'queued', 'quered', 'pustemest', 'purt', 'purpose', 'purpose', 'purchased', 'purchased', 'purchased', 'publive', 'proves', 'proud', 'proop', 'prone', 'promised', 'professional', 'professional', 'proceeded', 'proceed', 'printing', 'prg', 'prg', 'preparing', 'prepare', 'praise', 'practical', 'pour', 'posts', 'possibly', 'possibility', 'possibility', 'positives', 'pnq', 'ploy', 'ploopered', 'pleasure', 'pleasure', 'plants', 'plague', 'plague', 'pilotionately', 'pilot', 'pillow', 'piled', 'pieces', 'pieces', 'photos', 'performed', 'performance', 'penaly', 'penalty', 'penalised', 'pek', 'peaceful', 'peaceful', 'pays', 'pathetic', 'pathetic', 'pastries', 'pasted', 'partnered', 'parallel', 'paperwork', 'pales', 'pained', 'overwhell', 'overbooked', 'ove', 'outstanding', 'outof', 'outdone', 'ounce', 'ounce', 'ottawa', 'ottawa', 'ot', 'orly', 'orlando', 'origh', 'organise', 'orgage', 'opted', 'opted', 'opinion', 'opinion', 'opinion', 'opinion', 'operates', 'operated', 'operate', 'opens', 'omsk', 'olympics', 'okay', 'okay', 'okay', 'okay', 'offly', 'offloaded', 'occupying', 'occasion', 'obvious', 'nuisance', 'nowadays', 'noticeable', 'noted', 'noted', 'norm', 'noodles', 'nine', 'newark', 'nerves', 'negotiate', 'neglect', 'neat', 'naps', 'naples', 'name', 'nairobi', 'mun', 'mun', 'mun', 'mun', 'mosquitoes', 'mortu', 'monster', 'mombasa', 'mix', 'mistake', 'misfortune', 'misfortune', 'misfortune', 'millimetres', 'milan', 'midnight', 'midnight', 'midnight', 'midnight', 'mided', 'middle', 'midayen', 'met', 'mentioned', 'mennelle', 'measuring', 'measured', 'meant', 'meant', 'meant', 'meant', 'meals', 'maximising', 'matter', 'matter', 'matter', 'marseille', 'manyt', 'maneuver', 'manchestet', 'manahe', 'manage', 'malta', 'malta', 'males', 'maintained', 'mainly', 'magazines', 'madrid', 'mad', 'mad', 'luggeg', 'luffas', 'losing', 'losing', 'lon', 'logically', 'locals', 'lobby', 'live', 'live', 'limit', 'limit', 'lilo', 'life', 'lied', 'lenient', 'length', 'length', 'leat', 'leat', 'learn', 'learn', 'learn', 'law', 'laguardia', 'laguardia', 'kun', 'kudos', 'kroundent', 'kramine', 'krami', 'kot', 'konggashing', 'known', 'klia', 'klia', 'kingfisher', 'kingfisher', 'kind', 'kind', 'kind', 'kind', 'kind', 'kind', 'kind', 'keys', 'keeps', 'kch', 'kc', 'kastrup', 'judging', 'join', 'johannesburg', 'johannesburg', 'jhb', 'jetways', 'jazz', 'japanese', 'izmir', 'invest', 'introduction', 'intervene', 'intention', 'injury', 'inexcusable', 'inedible', 'indigo', 'indigo', 'indigo', 'indifference', 'incress', 'incredive', 'increased', 'inconvenient', 'incompetence', 'income', 'income', 'income', 'impressed', 'impressed', 'impressed', 'impressed', 'impressed', 'iffy', 'id', 'id', 'hype', 'humiliating', 'hovering', 'house', 'hostess', 'hometown', 'holst', 'holiteap', 'hole', 'holding', 'hoards', 'hnd', 'hk', 'higher', 'hesitate', 'helsinki', 'helped', 'hell', 'hell', 'hel', 'hel', 'heavy', 'heat', 'haved', 'hate', 'harm', 'happens', 'happened', 'happen', 'happen', 'hannover', 'handful', 'handbag', 'ham', 'ham', 'halls', 'gva', 'guys', 'guides', 'guess', 'guess', 'guess', 'guess', 'guess', 'guess', 'gritch', 'gripe', 'gripe', 'gremlins', 'grateful', 'grasp', 'grap', 'granted', 'grabbed', 'goop', 'glass', 'glass', 'glasgow', 'getion', 'getion', 'geneva', 'generous', 'gateboarding', 'gard', 'garbas', 'furniture', 'frustration', 'friends', 'freshen', 'frankurt', 'frankfused', 'frankfuel', 'frankfrut', 'frankfrug', 'forth', 'forgiven', 'forewarned', 'forced', 'forced', 'forced', 'forced', 'forced', 'foot', 'follow', 'foct', 'flyniki', 'fluid', 'fligert', 'flexible', 'flare', 'flagged', 'fited', 'fished', 'fireplace', 'fird', 'finishing', 'finish', 'finab', 'filter', 'fifo', 'fiasco', 'fiasbit', 'fiancee', 'ffs', 'females', 'feels', 'favour', 'favour', 'fan', 'family', 'family', 'familiar', 'fallen', 'fails', 'fact', 'fact', 'fact', 'fact', 'fact', 'fact', 'fact', 'fact', 'fact', 'facing', 'facing', 'ezeiza', 'extortionate', 'extensive', 'explained', 'explained', 'explain', 'experiences', 'expecting', 'expecting', 'expectations', 'expanded', 'exist', 'exist', 'exceeded', 'exacerbated', 'ex', 'evenias', 'eve', 'etch', 'escort', 'escort', 'escalators', 'entrance', 'entrance', 'entrance', 'entrance', 'entrance', 'entitled', 'ensured', 'ensured', 'ensured', 'ensured', 'encouraged', 'employed', 'embarrassment', 'emails', 'email', 'email', 'elle', 'ei', 'efforts', 'eat', 'eat', 'eat', 'ease', 'earth', 'dus', 'dumped', 'dump', 'dtw', 'dropping', 'driver', 'dripping', 'drastically', 'drag', 'drab', 'downsizing', 'dorigh', 'dominated', 'dollars', 'dollars', 'doh', 'docs', 'docked', 'dock', 'distinguish', 'disinformation', 'disgusted', 'disgrace', 'disgrace', 'disgrace', 'disgrace', 'disgrace', 'disembarking', 'discussed', 'discovered', 'discovered', 'discovered', 'discovered', 'discourteous', 'disconneused', 'disconnected', 'disappeared', 'disappeare', 'dis', 'directed', 'directed', 'dining', 'dining', 'dim', 'dignified', 'difference', 'difference', 'dicc', 'develop', 'destroyed', 'destroyed', 'destroyed', 'dessert', 'desplick', 'desires', 'desired', 'desert', 'deposit', 'deplaning', 'deplane', 'depart', 'depart', 'depart', 'delish', 'delanse', 'delace', 'delace', 'defy', 'decoration', 'debacle', 'dearer', 'dealt', 'deal', 'deal', 'deal', 'deal', 'deadline', 'date', 'date', 'danger', 'danang', 'dallas', 'dairised', 'cutting', 'cut', 'curb', 'cum', 'cueing', 'csa', 'crush', 'crowding', 'crowd', 'courteous', 'cork', 'copy', 'copy', 'coordination', 'convinient', 'conveyed', 'contract', 'continuous', 'continued', 'consolidating', 'connects', 'conjusted', 'congested', 'confortable', 'condemned', 'conclusion', 'concept', 'compress', 'compounded', 'complicated', 'compledied', 'complaints', 'compatible', 'comparison', 'comparison', 'compare', 'companies', 'communication', 'comment', 'comfortably', 'comfort', 'comfort', 'comfort', 'comface', 'combined', 'coherent', 'coats', 'clue', 'clothicks', 'closing', 'clerks', 'claims', 'claigh', 'chilling', 'child', 'chech', 'cheaper', 'charged', 'charged', 'chance', 'champange', 'challenging', 'cgk', 'cellphone', 'ceilings', 'caymans', 'cases', 'cases', 'carryfores', 'carried', 'carpet', 'caring', 'caribbean', 'cappuccion', 'capital', 'cand', 'cancelled', 'calming', 'calm', 'california', 'calgary', 'calgary', 'cale', 'cai', 'cai', 'cafes', 'cafes', 'cab', 'buses', 'buse', 'buns', 'bunch', 'built', 'built', 'budate', 'budapest', 'budapest', 'bts', 'brighten', 'bribes', 'breeze', 'breeze', 'breeze', 'breeze', 'breeze', 'breaks', 'braggers', 'bowl', 'boughter', 'bought', 'botting', 'bothering', 'boston', 'boring', 'bodtting', 'boarded', 'bmi', 'bkk', 'bkk', 'bigger', 'bias', 'beway', 'beverages', 'beverages', 'betweet', 'benefitted', 'belong', 'belake', 'begin', 'begin', 'beers', 'basics', 'bases', 'basence', 'bartender', 'barcelona', 'bangalore', 'balance', 'backlogs', 'backlogged', 'backed', 'awesome', 'awards', 'avoided', 'austrien', 'australia', 'auckland', 'auckland', 'auckland', 'auckland', 'attidute', 'attention', 'attention', 'attempt', 'atl', 'athens', 'athens', 'assistant', 'assist', 'assigned', 'ass', 'asleep', 'asks', 'asks', 'asia', 'asia', 'asia', 'asia', 'ashamed', 'arm', 'apron', 'apron', 'apron', 'appear', 'appear', 'appalled', 'apology', 'anyway', 'anyway', 'anyway', 'anyt', 'anyhow', 'antwerp', 'animals', 'aniad', 'ams', 'ams', 'ams', 'amp', 'amp', 'amp', 'amp', 'amp', 'ambience', 'alvisa', 'alsound', 'alrohe', 'allogridapt', 'alleged', 'alleged', 'alleg', 'alledy', 'alighting', 'alas', 'akin', 'akin', 'aisles', 'airplanes', 'airfield', 'aircrip', 'airbright', 'airbridges', 'airbridges', 'airbridges', 'airbridges', 'airbridge', 'airbridge', 'airbridge', 'airbridge', 'airbridge', 'airbridge', 'ahend', 'aheled', 'afford', 'aesthetics', 'aeromexico', 'aeromexico', 'advist', 'advises', 'advised', 'advised', 'advised', 'advised', 'advise', 'advanced', 'advanced', 'admit', 'adequate', 'adequacy', 'addressed', 'addis', 'added', 'ad', 'activated', 'accommodate', 'accessible', 'abz', 'abundance', 'absolutely', 'absolutely', 'abont', 'able', 'able', 'able', 'able', 'able', 'able', 'able', 'able', 'able', 'able', 'able', 'able', 'able', 'a2', '9pm', '99', '8pm', '8pm', '8pm', '8pm', '7pm', '7kg', '77', '747', '5kg', '50am', '500', '500', '45min', '45min', '350', '35', '30pm', '30pm', '30h', '30c', '2pm', '25am', '24h', '22h', '2011', '2011', '2010', '2007', '2005', '1us', '180', '15minutes', '14th', '14', '13', '1135', '10kg', '10e', '1010', '100s', '09', '07h', '0500', '00pm', \"'.\"]\n"
          ]
        }
      ]
    },
    {
      "cell_type": "code",
      "source": [
        "from gensim.summarization import keywords\n",
        "\n",
        "print(keywords(text))"
      ],
      "metadata": {
        "colab": {
          "base_uri": "https://localhost:8080/"
        },
        "id": "86htjmTJ4a-B",
        "outputId": "4c73dc03-31c3-4683-d33a-e34be7ce0a28"
      },
      "execution_count": null,
      "outputs": [
        {
          "output_type": "stream",
          "name": "stdout",
          "text": [
            "airport\n",
            "airports\n",
            "lounge\n",
            "lounges\n",
            "check\n",
            "checks\n",
            "checking\n",
            "lufthansa\n",
            "lufthansas\n",
            "flight\n",
            "flights\n",
            "checked bag\n",
            "bags\n",
            "terminal\n",
            "terminals\n",
            "terminalitied\n",
            "boarded\n",
            "board\n",
            "boards\n",
            "arrive\n",
            "arriving\n",
            "arrival\n",
            "arrived\n",
            "arrivals\n",
            "arrives\n",
            "security\n",
            "secure\n",
            "seat\n",
            "seats\n",
            "seated\n",
            "luggage\n",
            "luggages\n",
            "time\n",
            "times\n",
            "timely\n",
            "timed\n",
            "service\n",
            "services\n",
            "servicing\n",
            "staff\n",
            "customs\n",
            "customer\n",
            "customers\n",
            "custom\n",
            "airline\n",
            "airlines\n",
            "boarding pass\n",
            "passenger\n",
            "hours\n",
            "good\n",
            "goods\n",
            "baggage\n",
            "likely\n",
            "like\n",
            "people\n",
            "peoples\n",
            "seating rude\n",
            "completed\n",
            "complete\n",
            "air\n",
            "aires\n",
            "online\n",
            "free\n",
            "booked\n",
            "book\n",
            "booking\n",
            "gates\n",
            "gate\n",
            "areas\n",
            "international area\n",
            "queue\n",
            "internal\n",
            "better\n",
            "minutes\n",
            "minute\n",
            "minut\n",
            "minuted\n",
            "longe\n",
            "travellers\n",
            "travelling\n",
            "traveller\n",
            "travel\n",
            "traveling\n",
            "traveler\n",
            "travelled\n",
            "traveled\n",
            "travels\n",
            "travelers\n",
            "news\n",
            "connection\n",
            "connecting\n",
            "connect\n",
            "connections\n",
            "connected\n",
            "connects\n",
            "connectivity\n",
            "completely new experience\n",
            "hour delay\n",
            "small\n",
            "departure\n",
            "departures\n",
            "final\n",
            "finale\n",
            "little finally\n",
            "waiting\n",
            "wait\n",
            "waited\n",
            "nice\n",
            "nicely\n",
            "food means\n",
            "class\n",
            "classes\n",
            "experiences\n",
            "included\n",
            "including\n",
            "includes\n",
            "bus\n",
            "poor\n",
            "use\n",
            "uses\n",
            "useful\n",
            "business\n",
            "busy\n",
            "long walk\n",
            "provide\n",
            "provided\n",
            "provides\n",
            "providing\n",
            "overall efficiency\n",
            "opened\n",
            "open\n",
            "opens\n",
            "opening\n",
            "passing\n",
            "passed\n",
            "passes\n",
            "member\n",
            "members\n",
            "line\n",
            "lines\n",
            "got\n",
            "massive queues\n",
            "person receiving passengers\n",
            "passports\n",
            "passported\n",
            "days\n",
            "day\n",
            "efficient\n",
            "efficiently\n",
            "processing\n",
            "having\n",
            "haved\n",
            "delayed\n",
            "delays\n",
            "thing\n",
            "things\n",
            "thinged\n",
            "excellent\n",
            "took\n",
            "transit\n",
            "transited\n",
            "transitioning\n",
            "transiting\n",
            "planes\n",
            "designer\n",
            "design\n",
            "designed\n",
            "checkin\n",
            "checkins\n",
            "great\n",
            "priority\n",
            "airport_general\n",
            "easy\n",
            "mins\n",
            "min\n",
            "access\n",
            "accessing\n",
            "accessed\n",
            "accessible\n",
            "work\n",
            "works\n",
            "worked\n",
            "working\n",
            "process getting\n",
            "plane landing\n",
            "problem\n",
            "departed\n",
            "departing\n",
            "depart\n",
            "immigration problems\n",
            "help\n",
            "helpful\n",
            "helped\n",
            "helping\n",
            "helps\n",
            "come\n",
            "comes\n",
            "coming\n",
            "slow passport\n",
            "terrible\n",
            "terribly\n",
            "fast\n",
            "needed\n",
            "need\n",
            "needs\n",
            "cold\n",
            "include crammed\n",
            "direct\n",
            "directed\n",
            "directions\n",
            "direction\n",
            "directing\n",
            "directional\n",
            "frankfurt\n",
            "frankfurts\n",
            "land\n",
            "landed\n",
            "landings\n",
            "shop\n",
            "offered\n",
            "offer\n",
            "offering\n",
            "offerings\n",
            "worst\n",
            "started\n",
            "start\n",
            "starting\n",
            "starts\n",
            "placed\n",
            "place\n",
            "places\n",
            "cost\n",
            "costs\n",
            "usual\n",
            "issue\n",
            "issues\n",
            "issued\n",
            "ground crews\n",
            "standards\n",
            "standard\n",
            "gets\n",
            "return\n",
            "cards\n",
            "parking\n",
            "parked\n",
            "quick\n",
            "agent\n",
            "agents\n",
            "came\n",
            "caming\n",
            "old\n",
            "improvement\n",
            "improvements\n",
            "improving\n",
            "improved\n",
            "improve\n",
            "upgrade\n",
            "short\n",
            "shorted\n",
            "gold card\n",
            "elites usually\n",
            "plus\n",
            "taking\n",
            "takes\n",
            "clean\n",
            "cleaning\n",
            "cleaned\n",
            "flying\n",
            "fly\n",
            "upgraded pretty\n",
            "quality\n",
            "fine\n",
            "main\n",
            "rooms\n",
            "room\n",
            "looking\n",
            "look\n",
            "looks\n",
            "looked\n",
            "basics\n",
            "basic\n",
            "dubai\n",
            "desk\n",
            "desks\n",
            "recent\n",
            "recently\n",
            "location\n",
            "locating\n",
            "delivery\n",
            "changed\n",
            "change\n",
            "changes\n",
            "late\n",
            "shopping options\n",
            "friendly\n",
            "counter\n",
            "counters\n",
            "large\n",
            "domestic\n",
            "located near\n",
            "elite\n",
            "alliance\n",
            "snacks\n",
            "trains\n",
            "train\n",
            "training\n",
            "offers coffee\n",
            "best\n",
            "crew\n",
            "drink\n",
            "claim\n",
            "claims\n",
            "claiming\n",
            "suitcase\n",
            "suitcases\n",
            "ticket\n",
            "tickets\n",
            "shops quiet\n",
            "hot drinks\n",
            "close\n",
            "closed\n",
            "closes\n",
            "closing\n",
            "self\n",
            "walking\n",
            "walks\n",
            "walked\n",
            "phone\n",
            "phones\n",
            "outside\n",
            "faster\n",
            "end\n",
            "ends\n",
            "ended\n",
            "canada\n",
            "car park\n",
            "reason\n",
            "reasonable\n",
            "internet\n",
            "pleasant\n",
            "united\n",
            "selection\n",
            "selections\n",
            "select\n",
            "selected\n",
            "far\n",
            "shower\n",
            "showers\n",
            "london\n",
            "rudeness\n",
            "comfortable\n",
            "comfort\n",
            "comfortably\n",
            "avoid\n",
            "avoidable\n",
            "avoided\n",
            "allowed\n",
            "allow\n",
            "allowance\n",
            "allows\n",
            "allowances\n",
            "lack\n",
            "lacking\n",
            "lacks\n",
            "lacked\n",
            "facility\n",
            "lhr\n",
            "management\n",
            "manage\n",
            "managed\n",
            "manager\n",
            "big\n",
            "especially\n",
            "garden\n",
            "sadly\n",
            "toilet\n",
            "toilets\n",
            "moved\n",
            "control\n",
            "pay\n",
            "pays\n",
            "paying\n",
            "feel\n",
            "feels\n",
            "feeling\n",
            "transportation\n",
            "transport\n",
            "transported\n",
            "hub\n",
            "hubs\n",
            "bit\n",
            "available\n",
            "transfer\n",
            "transferring\n",
            "screening\n",
            "screen\n",
            "screens\n",
            "screened\n",
            "picks\n",
            "picked\n",
            "private\n",
            "privately\n",
            "early\n",
            "totally\n",
            "total\n",
            "thai\n",
            "extremely\n",
            "extreme\n",
            "sign\n",
            "signs\n",
            "personnel asked\n",
            "relatives pick\n",
            "taxis\n",
            "trip\n",
            "trips\n",
            "tripping\n",
            "information\n",
            "informed\n",
            "contents\n",
            "content\n",
            "aircraft\n",
            "express\n",
            "expressed\n",
            "bathrooms\n",
            "bathroom\n",
            "relatively\n",
            "relative\n",
            "going\n",
            "huge\n",
            "hugely\n",
            "extra\n",
            "drop\n",
            "dropped\n",
            "dropping\n",
            "later\n",
            "swiss shares\n",
            "chair\n",
            "chairs\n",
            "entering\n",
            "entered\n",
            "enter\n",
            "belt\n",
            "rows\n",
            "row\n",
            "machines\n",
            "machine\n",
            "star\n",
            "moving cart\n",
            "different\n",
            "differences\n",
            "difference\n",
            "differents\n",
            "expensive\n",
            "option\n",
            "changing art\n",
            "carts taxi\n",
            "indicated\n",
            "indicating\n",
            "indicate\n",
            "indice\n",
            "hall\n",
            "halls\n",
            "zurich\n",
            "airways\n",
            "despite\n",
            "worse\n",
            "crowd\n",
            "crowded\n",
            "crowds\n",
            "crowding\n",
            "makes\n",
            "making\n",
            "status\n",
            "club\n",
            "clubs\n",
            "paxes\n",
            "pax\n",
            "major\n",
            "confusing\n",
            "confusion\n",
            "confused\n",
            "bad\n",
            "restaurants\n",
            "restaurant\n",
            "cramped\n",
            "vienna\n",
            "los\n",
            "awful\n",
            "american\n",
            "earlier\n",
            "view\n",
            "views\n",
            "limited\n",
            "limitations\n",
            "limit\n",
            "lost\n",
            "city\n",
            "charge\n",
            "charging\n",
            "charged\n",
            "charges\n",
            "premium\n",
            "pre\n",
            "carte\n",
            "style\n",
            "way\n",
            "ways\n",
            "home base\n",
            "country\n",
            "countries\n",
            "trouble\n",
            "generally\n",
            "generous\n",
            "general\n",
            "officers\n",
            "office\n",
            "said\n",
            "smoke\n",
            "smoking\n",
            "choice\n",
            "choices\n",
            "compare\n",
            "compared\n",
            "appeared\n",
            "appear\n",
            "appearance\n",
            "year\n",
            "years\n",
            "carry\n",
            "carried\n",
            "carrying\n",
            "cram\n",
            "crams\n",
            "light\n",
            "lighting\n",
            "leave\n",
            "leaves\n",
            "leaving\n",
            "america\n",
            "wifi\n",
            "emirates hotels\n",
            "exiting\n",
            "exit\n",
            "allowerplearned\n",
            "learned\n",
            "learn\n",
            "rollunded\n",
            "ahead\n",
            "away\n",
            "morning\n",
            "non\n",
            "second\n",
            "evening\n",
            "night\n",
            "clearly\n",
            "heathrow\n",
            "newspapers\n",
            "newspaper\n",
            "entire\n",
            "lots\n",
            "lot\n",
            "personal\n",
            "persons\n",
            "kong\n",
            "shorter\n",
            "cars\n",
            "months\n",
            "month\n",
            "bar\n",
            "bars\n",
            "hand\n",
            "handed\n",
            "handful\n",
            "hands\n",
            "welcome\n",
            "welcomes\n",
            "welcoming\n",
            "fra\n",
            "lane\n",
            "austrian\n",
            "public\n",
            "signage twice\n",
            "subway\n",
            "staying\n",
            "stay\n",
            "stayed\n",
            "form\n",
            "hotel\n",
            "cheese\n",
            "partnered\n",
            "partners\n",
            "package\n",
            "packaged\n",
            "love\n",
            "lovely\n",
            "received\n",
            "receive\n",
            "course\n",
            "originally\n",
            "origination\n",
            "original\n",
            "separate\n",
            "separated\n",
            "economy\n",
            "stop\n",
            "stopped\n",
            "sub\n",
            "miserable\n",
            "damaged\n",
            "damage\n",
            "past\n",
            "pasted\n",
            "attended\n",
            "attendent\n",
            "attendant\n",
            "attendants\n",
            "journey\n",
            "distance\n",
            "distances\n",
            "price\n",
            "prices\n",
            "klm partner\n",
            "visitors\n",
            "sandwiches\n",
            "actually\n",
            "actual\n",
            "try\n",
            "trying\n",
            "track\n",
            "tracking\n",
            "hkg\n",
            "mid\n",
            "size\n",
            "sizes\n",
            "sized\n",
            "shared\n",
            "share\n",
            "bottled\n",
            "bottle\n",
            "bottles\n",
            "noticeable\n",
            "noticed\n",
            "noticably\n",
            "sell\n",
            "sells\n",
            "equipment\n",
            "equipped\n",
            "classic\n",
            "classical\n",
            "corridors\n",
            "corridor\n",
            "outlet\n",
            "outlets\n",
            "quickly\n",
            "dirty\n",
            "skyteam\n",
            "point\n",
            "pointing\n",
            "pointed\n",
            "unfortunate\n",
            "unfortunately\n",
            "right\n",
            "future\n",
            "relaxing\n",
            "relax\n",
            "relaxed\n",
            "world\n",
            "require\n",
            "required\n",
            "requiring\n",
            "requirement\n",
            "wine\n",
            "wines\n",
            "fees\n",
            "fee\n",
            "clear\n",
            "cleared\n",
            "know\n",
            "knowing\n",
            "knows\n",
            "visited\n",
            "visit\n",
            "visiting\n",
            "ask\n",
            "asking\n",
            "asks\n",
            "dreary\n",
            "pig\n",
            "den\n",
            "real\n",
            "mean\n",
            "meaning\n",
            "afternoon\n",
            "went\n",
            "level\n",
            "levels\n",
            "decoration\n",
            "decor\n",
            "decorated\n",
            "obviously\n",
            "careful\n",
            "care\n",
            "caring\n",
            "cared\n",
            "position\n",
            "positive\n",
            "positives\n",
            "positions\n",
            "cream\n",
            "virgin\n",
            "hold\n",
            "holding\n",
            "watchful\n",
            "watching\n",
            "arrange\n",
            "arrangement\n",
            "recommend\n",
            "recommended\n",
            "number\n",
            "numbers\n",
            "easily\n",
            "amazed\n",
            "amazing\n",
            "spacious\n",
            "procedure\n",
            "procedures\n",
            "regional\n",
            "region\n",
            "soup\n",
            "fairly\n",
            "munich\n",
            "south\n",
            "water\n",
            "website\n",
            "collect\n",
            "collectively\n",
            "collected\n",
            "app\n",
            "destinations\n",
            "destination\n",
            "based\n",
            "bases\n",
            "dreadful\n",
            "newest\n",
            "music\n",
            "musical\n",
            "airy\n",
            "runway\n",
            "text\n",
            "fare\n",
            "fares\n",
            "pain\n",
            "pained\n",
            "painful\n",
            "left\n",
            "fantastic\n"
          ]
        }
      ]
    },
    {
      "cell_type": "code",
      "source": [
        ""
      ],
      "metadata": {
        "id": "3io6Gnqd6y-y"
      },
      "execution_count": null,
      "outputs": []
    }
  ]
}